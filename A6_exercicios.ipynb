{
 "cells": [
  {
   "cell_type": "markdown",
   "metadata": {},
   "source": [
    "# <font color=\"blue\"> MBA em Ciência de Dados</font>\n",
    "# <font color=\"blue\">Técnicas Avançadas para Captura e Tratamento de Dados</font>\n",
    "\n",
    "## <font color=\"blue\"> Matriz Documento $\\times$ Palavras - Bag of Words</font>\n",
    "    \n",
    "## <font color=\"blue\">Exercícios</font>\n",
    "\n",
    "**Material Produzido por Luis Gustavo Nonato**<br>\n",
    "**Cemeai - ICMC/USP São Carlos**\n",
    "---"
   ]
  },
  {
   "cell_type": "markdown",
   "metadata": {},
   "source": [
    "<font color='red'> Recomendamos fortemente resolver os exercícios sem consultar as soluções antecipadamente </font>"
   ]
  },
  {
   "cell_type": "markdown",
   "metadata": {},
   "source": [
    "Os exercícios abaixo fazem uso da coleção de documentos presente no diretório `DocCol2` contido no arquivo <font style=\"font-family: monaco\"> DocCol.zip</font>, o qual pode ser baixado do Moodle."
   ]
  },
  {
   "cell_type": "markdown",
   "metadata": {},
   "source": [
    "### Exercício 1)\n",
    "Armazene os documentos disponíveis no diretório `DocCol2` em um dicionário onde a chave é o nome do arquivo e o valor é a string contida no arquivo."
   ]
  },
  {
   "cell_type": "code",
   "execution_count": 21,
   "metadata": {},
   "outputs": [],
   "source": [
    "import glob "
   ]
  },
  {
   "cell_type": "code",
   "execution_count": 22,
   "metadata": {},
   "outputs": [
    {
     "data": {
      "text/plain": [
       "'DocCol2\\\\au1'"
      ]
     },
     "execution_count": 22,
     "metadata": {},
     "output_type": "execute_result"
    }
   ],
   "source": [
    "files = glob.glob(\"DocCol2/*\")  # vamos utilizar os documentos que estão no diretório DocCol2\n",
    "files[0]"
   ]
  },
  {
   "cell_type": "code",
   "execution_count": 23,
   "metadata": {},
   "outputs": [
    {
     "name": "stdout",
     "output_type": "stream",
     "text": [
      "dict_keys(['au1', 'au10', 'au11', 'au12', 'au13', 'au14', 'au15', 'au2', 'au3', 'au4', 'au5', 'au6', 'au7', 'au8', 'au9', 'ch1', 'ch10', 'ch11', 'ch12', 'ch13', 'ch14', 'ch15', 'ch16', 'ch17', 'ch18', 'ch19', 'ch2', 'ch20', 'ch21', 'ch22', 'ch23', 'ch24', 'ch25', 'ch26', 'ch27', 'ch28', 'ch29', 'ch3', 'ch30', 'ch31', 'ch32', 'ch33', 'ch34', 'ch35', 'ch36', 'ch37', 'ch38', 'ch39', 'ch4', 'ch40', 'ch41', 'ch42', 'ch43', 'ch44', 'ch45', 'ch46', 'ch47', 'ch48', 'ch49', 'ch5', 'ch50', 'ch6', 'ch7', 'ch8', 'ch9', 'gr1', 'gr10', 'gr11', 'gr12', 'gr13', 'gr14', 'gr15', 'gr16', 'gr17', 'gr18', 'gr19', 'gr2', 'gr20', 'gr21', 'gr22', 'gr23', 'gr24', 'gr25', 'gr26', 'gr3', 'gr4', 'gr5', 'gr6', 'gr7', 'gr8', 'gr9']) \n",
      "\n",
      "au1 --> From: ssave@ole.cdac.com (The Devil Reincarnate)\n",
      "Subject: Re: Was \"Re: Safety\": From how far can you see a car ?\n",
      "\n",
      "In article <C4rvKM.367@plato.ds.boeing.com> simnet@plato.ds.boeing.com (Mark R Poulson) writes:\n",
      ">ssave@ole.cdac.com (The Devil Reincarnate) writes:\n",
      ">> You will be surprised at the number of people who forget their glasses\n",
      ">> while driving.  And then there are the people who just plain don't get\n",
      ">> their eyes checked once a year.\n",
      ">\n",
      ">As someone who has lousy vision, I can see objects at a distance without\n",
      ">my glasses. However, they are quite fuzzy and I may not be able to make\n",
      ">out the details. But I can certainly tell that SOMETHING is there.\n",
      "\n",
      "\n",
      "  I won't argue too much about anything.  I am probably one of those that \n",
      "think that we can't have enough safety on the roads.  I would gladly \n",
      "sacrifice distractions (as you call it), than someone having trouble seeing\n",
      "danger earlier.  One saved life justifies more than my lifetime of \"distractions\"\n",
      "for me.\n",
      "\n",
      "\n",
      ">>  And then there is dawn and dusk.  When your eyes have not yet adjusted\n",
      ">> to the poor light.  And there are those who drive black/grey cars. And\n",
      ">> then there is the case where you are driving down a two-way one lane \n",
      ">> road, and someone is overtaking cars, and coming the opposite direction \n",
      ">> doesn't see you because your lights are not on. Or vice versa.  At 60mph, \n",
      ">> that is quite a small reaction time.  But of course, we are too macho to \n",
      ">> think we are invincible and can react faster than that.... Only the poor \n",
      ">> sod who you didn't see might not have a normal life ever...\n",
      ">\n",
      ">I worked out the reaction time in a previous post and its PLENTY, even for\n",
      ">an 80 year old grandma, as long as speeds are in the 60 MPH range or less.\n",
      ">If you or some other driver is going way faster than that, then be careful.\n",
      ">\n",
      ">As always, you are responsible for your driving actions. If you pull out to\n",
      ">pass and crash into someone (for whatever reason) its YOUR fault. If you can't\n",
      "\n",
      "\n",
      "   Problem is that, I may just kill the guy. I agree that I would be at fault,\n",
      "and I will have my license revoked, why, I might even go to the gas chamber.\n",
      "But the fact still remains that the guy is dead.  Someone died because I\n",
      "was too stingy to put on my lights. \n",
      "\n",
      "\n",
      ">see a damn thing, then you shouldn't be driving -- lights fail, fallen trees\n",
      ">or rocks don't have lights, etc....  I maintain that headlight strength\n",
      "\n",
      "\n",
      "   The ratio of the probability of fallen trees/rocks on the roads to \n",
      "oncoming traffic is too low to even be considered.  The difference is also\n",
      "working on what we *know* could happen, to what *might* happen.\n",
      "\n",
      "\n",
      ">running lights are not necessary for motorists who drive around 60MPH. It may\n",
      ">be a good idea to force the running or headlights on when you turn your\n",
      ">windshield wipers on, but only because some people are too stupid to do so.\n",
      ">If you crash into one of those idiots, you have to fight it out in court to\n",
      ">show his neglegence (if you can even prove it).\n",
      "\n",
      "\n",
      ">>  Just out of curiosity, how much gas-milage do you loose when you put\n",
      ">> your lights on?  And how much do you reduce the life of your head-lamps?\n",
      ">> And what is the cost of your headlamps anyway?\n",
      ">\n",
      ">Mileage is certainly reduced, but by a very very small amount (probably\n",
      ">about 110 watts for head and running lights). This is an extra 1/7 horsepower\n",
      ">that must be made by the engine. It may be that this will cost you around two \n",
      ">gallons a year. But times 200 million cars, that's a lot of gas.\n",
      "\n",
      "  Compared to the number of gallons of gas consumed by those 200 million cars,\n",
      "it is miniscule! \n",
      "\n",
      "  Whatever.....  'tis a pity I have to share the same roads with a person\n",
      "not concerned with safety.\n",
      "\n",
      "-S\n",
      "ssave@ole.cdac.com\n",
      "\n",
      "\n",
      ">Lamp life is measured in hours. So if you normally drive in half daylight and\n",
      ">half night, your lamps will have to be replaced twice as often. Headlamps\n",
      ">only cost about $10US for most halogen lamps.\n",
      ">\n",
      ">The cost to the individual is trivial and to me is not the issue. What I\n",
      ">don't like is the distractions all these cars with headlights cause. I don't\n",
      ">need to constantly see the headlights of the vehicle behind me. I don't need\n",
      ">to see the headlights of every gosh darn car for a mile down the road. These\n",
      ">lit up cars make non-illuminated things LESS visible (like pedistrians and\n",
      ">bikes). Hopefully we're not going to mandate DRL's for people and bikes \n",
      ">too.\n",
      ">\n",
      ">A stream of taillights is tolerable as are the orange front running lights.\n",
      ">This is certainly sufficient for other people to see you (if they look) and\n",
      ">doesn't distract me nearly as much as full power headlights.\n",
      ">\n",
      ">\t\tMark\n",
      "\n",
      "\n",
      "\n"
     ]
    }
   ],
   "source": [
    "ddocs = {}\n",
    "for fname in files:\n",
    "    key = fname.split('\\\\')[-1]  # rotulo do documento => define a chave do dicionário\n",
    "    with open(fname,'r') as f:  # obtendo a lista de palavras processadas de cada documento\n",
    "        words = f.read()\n",
    "        ddocs[key] = words\n",
    "\n",
    "print(ddocs.keys(), '\\n')\n",
    "print(list(ddocs.keys())[0],'-->',ddocs[list(ddocs.keys())[0]]) # imprime a chave e o valor no índice [0] da lista"
   ]
  },
  {
   "cell_type": "markdown",
   "metadata": {},
   "source": [
    "### Exercício 2)\n",
    "Percorra as strings armazenadas como valores no dicionário criado no exercício 1), concatenando-as em uma única string. Quebre a string gerada em uma lista de palavras.\n",
    "\n",
    "**DICA**: Utilize <font color='blue'>word_tokenize</font> do pacote <font color='blue'>nltk</font>"
   ]
  },
  {
   "cell_type": "code",
   "execution_count": 24,
   "metadata": {},
   "outputs": [],
   "source": [
    "import nltk\n"
   ]
  },
  {
   "cell_type": "code",
   "execution_count": 25,
   "metadata": {},
   "outputs": [
    {
     "name": "stdout",
     "output_type": "stream",
     "text": [
      "['From', ':', 'ssave', '@', 'ole.cdac.com', '(', 'The', 'Devil', 'Reincarnate', ')']\n"
     ]
    }
   ],
   "source": [
    "# obtendo palavras do documento com word_tokenize, concatenando em uma string única\n",
    "\n",
    "words=''\n",
    "for k,v in ddocs.items():\n",
    "    words = words + v                  # obtém uma string única\n",
    "    \n",
    "words = nltk.word_tokenize(words)      # tokenizando e criando lista de palavras\n",
    "\n",
    "print(words[0:10])"
   ]
  },
  {
   "cell_type": "markdown",
   "metadata": {},
   "source": [
    "### Exercício 3)\n",
    "Remova todas os \"tokens\" da lista criada no exercício 2) que sejam de comprimento 1 ou que contenham caractéres que não são letras do alfabeto. Faça com que todas as palavras estajam em letras minúsculas na lista resultante."
   ]
  },
  {
   "cell_type": "code",
   "execution_count": 26,
   "metadata": {},
   "outputs": [
    {
     "name": "stdout",
     "output_type": "stream",
     "text": [
      "['from', 'ssave', 'the', 'devil', 'reincarnate', 'subject', 're', 'was', 're', 'safety']\n"
     ]
    }
   ],
   "source": [
    "import string\n",
    "\n",
    "# .lower: coloca todas as letras em minúsculas\n",
    "# .isalpha() remove todos os simbolos que não são letras do alfabeto\n",
    "# not in string.ascii_letters: remove todas as strings com apenas uma letra\n",
    "words = [w.lower() for w in words if w.isalpha() and w not in string.ascii_letters]\n",
    "# words = [w.lower() for w in words if w.isalpha() and len(w) != 1] # código alternativo\n",
    "\n",
    "print(words[0:10])"
   ]
  },
  {
   "cell_type": "markdown",
   "metadata": {},
   "source": [
    "### Exercício 4)\n",
    "Remova da lista de palavras resultante do exercício 3) todas as \"stop_words\". Lembre-se que as palavras são da língua inglesa."
   ]
  },
  {
   "cell_type": "code",
   "execution_count": 27,
   "metadata": {},
   "outputs": [],
   "source": [
    "from nltk.corpus import stopwords\n"
   ]
  },
  {
   "cell_type": "code",
   "execution_count": 28,
   "metadata": {},
   "outputs": [
    {
     "name": "stdout",
     "output_type": "stream",
     "text": [
      "Stopwords removidas:\n",
      " ['i', 'me', 'my', 'myself', 'we']\n",
      "Palavras Relevantes:\n",
      " ['ssave', 'devil', 'reincarnate', 'subject', 'safety', 'far', 'see', 'car', 'article', 'simnet', 'mark', 'poulson', 'writes', 'ssave', 'devil', 'reincarnate', 'writes', 'surprised', 'number', 'people']\n"
     ]
    }
   ],
   "source": [
    "# removendo stop words (palavras sem significado semântico útil)\n",
    "\n",
    "# lista das stop words\n",
    "stop_words = stopwords.words('english')\n",
    "print('Stopwords removidas:\\n', stop_words[:5])\n",
    "\n",
    "words = [w for w in words if w not in stop_words]\n",
    "print('Palavras Relevantes:\\n',words[:20])"
   ]
  },
  {
   "cell_type": "markdown",
   "metadata": {},
   "source": [
    "### Exercício 5) \n",
    "Faça a normalização léxica (stemming) das palavras da lista resultante do exercício 4) e remova palavras repetidas após a normalização. Quantas palavras foram removidas após a normalização léxica?\n",
    "\n",
    "**Dica**: Utilize o método <font color='blue'>PorterStemmer</font> do pacote <font color='blue'>nltk.stem</font>"
   ]
  },
  {
   "cell_type": "code",
   "execution_count": 19,
   "metadata": {},
   "outputs": [],
   "source": [
    "from nltk.stem import PorterStemmer\n"
   ]
  },
  {
   "cell_type": "code",
   "execution_count": 29,
   "metadata": {},
   "outputs": [
    {
     "name": "stdout",
     "output_type": "stream",
     "text": [
      "47220\n",
      "Foram removidas  40446  palavras\n",
      "6774 ['scene', 'conductor', 'eg', 'gentl', 'virtu', 'destroy', 'distinguish', 'protocol', 'regardless', 'justin', 'bizarr', 'cours', 'center', 'boot', 'neutral', 'neg', 'bump', 'vanish', 'submiss', 'adriaansen']\n"
     ]
    }
   ],
   "source": [
    "# stemming: guardando apenas a raiz das palavras\n",
    "\n",
    "n_antes = len(words)\n",
    "print('Número de palavras antes da remoção:', n_antes)\n",
    "words = [PorterStemmer().stem(w) for w in words]       # stemming\n",
    "words = list(set(words))                               # remove as palavras repetidas com set()\n",
    "n_depois = len(words)\n",
    "print('Foram removidas ',n_antes-n_depois,' palavras')\n",
    "\n",
    "print('Número de palavras após a remoção:', len(words),words[:20])"
   ]
  },
  {
   "cell_type": "markdown",
   "metadata": {},
   "source": [
    "### Exercício 6) \n",
    "Gere uma lista de palavras para cada documento armazenado como valores no dicionário do exercício 1) aplicando os passos dos exercícios de 2 a 5 para cada documento.\n",
    "Porém, no passo 5 não remova palavras repetidas após a normalização léxica. Armazene o resultado em um novo dicionário onde as chaves são os nomes dos documentos, como no dicionário do exercício 1), e os valores são as listas de palavras geradas para cada documento."
   ]
  },
  {
   "cell_type": "code",
   "execution_count": 30,
   "metadata": {},
   "outputs": [],
   "source": [
    "import nltk\n",
    "from nltk.corpus import stopwords\n",
    "from nltk.stem import PorterStemmer\n",
    "import pandas as pd\n",
    "import numpy as np\n",
    "from collections import Counter"
   ]
  },
  {
   "cell_type": "code",
   "execution_count": 31,
   "metadata": {},
   "outputs": [],
   "source": [
    "docsXwords = {}\n",
    "\n",
    "for k,v in ddocs.items():\n",
    "    words = nltk.word_tokenize(v)                        # tokenizando e criando lista de palavras\n",
    "    words = [w.lower() for w in words if w.isalpha() and w not in string.ascii_letters] # remove símbolos e 1 letra\n",
    "    words = [w for w in words if w not in stop_words]    # remove stopwords\n",
    "    words = [PorterStemmer().stem(w) for w in words]     # stemming sem remover as palavras repetidas\n",
    "    docsXwords[k] = words\n",
    "    "
   ]
  },
  {
   "cell_type": "markdown",
   "metadata": {},
   "source": [
    "### Exercício 7)\n",
    "Utilize o dicionário contruído no exercício anterior para construir\n",
    "uma matriz Documentos $\\times$ Palavras para a coleção de documentos contidos no diretório `DocCol2`."
   ]
  },
  {
   "cell_type": "code",
   "execution_count": 33,
   "metadata": {},
   "outputs": [
    {
     "name": "stdout",
     "output_type": "stream",
     "text": [
      "      scene  conductor   eg  gentl  virtu  destroy  distinguish  protocol  \\\n",
      "au1     0.0        0.0  0.0    0.0    0.0      0.0          0.0       0.0   \n",
      "au10    0.0        0.0  0.0    0.0    0.0      0.0          1.0       0.0   \n",
      "au11    0.0        0.0  0.0    0.0    0.0      0.0          0.0       0.0   \n",
      "au12    0.0        0.0  0.0    0.0    0.0      0.0          0.0       0.0   \n",
      "au13    0.0        0.0  0.0    0.0    0.0      0.0          0.0       0.0   \n",
      "\n",
      "      regardless  justin  ...  antiochen  renew  vocal  lindaburi  egyptian  \\\n",
      "au1          0.0     0.0  ...        0.0    0.0    0.0        0.0       0.0   \n",
      "au10         0.0     0.0  ...        0.0    0.0    0.0        0.0       0.0   \n",
      "au11         0.0     0.0  ...        0.0    0.0    0.0        0.0       0.0   \n",
      "au12         0.0     0.0  ...        0.0    0.0    0.0        0.0       0.0   \n",
      "au13         0.0     0.0  ...        0.0    0.0    0.0        0.0       0.0   \n",
      "\n",
      "      barnhous  optic  rcc  consist  cush  \n",
      "au1        0.0    0.0  0.0      0.0   0.0  \n",
      "au10       0.0    0.0  0.0      1.0   0.0  \n",
      "au11       0.0    0.0  0.0      0.0   0.0  \n",
      "au12       0.0    0.0  0.0      0.0   0.0  \n",
      "au13       0.0    0.0  0.0      0.0   0.0  \n",
      "\n",
      "[5 rows x 6774 columns]\n"
     ]
    }
   ],
   "source": [
    "# unificando todas as palavras em uma única lista\n",
    "corpus = [palavras for sublista in list(docsXwords.values()) for palavras in sublista]\n",
    "\n",
    "# removendo repeticoes\n",
    "corpus = list(set(corpus))\n",
    "\n",
    "# criando dataframe documentosXpalavras df_dXp\n",
    "df_dXp = pd.DataFrame(data=np.zeros((len(list(ddocs.keys())),len(corpus))),\n",
    "                      index = list(ddocs.keys()), columns = corpus)\n",
    "\n",
    "for key,value in docsXwords.items():\n",
    "    dtemp = dict(Counter(value))       # cria dicionário temporário onde k: palavras e v: contagem\n",
    "    df_dXp.loc[key,list(dtemp.keys())] = list(dtemp.values())\n",
    "    \n",
    "print(df_dXp.head())"
   ]
  },
  {
   "cell_type": "markdown",
   "metadata": {},
   "source": [
    "### Exercício 8)\n",
    "Utilizando PCA, projete a coleção de documentos no espaço gerado pelas duas direções principais da matriz Documentos $\\times$ Palavras."
   ]
  },
  {
   "cell_type": "code",
   "execution_count": 36,
   "metadata": {},
   "outputs": [],
   "source": [
    "from sklearn.decomposition import PCA\n",
    "from sklearn.preprocessing import StandardScaler\n"
   ]
  },
  {
   "cell_type": "code",
   "execution_count": 37,
   "metadata": {},
   "outputs": [
    {
     "name": "stdout",
     "output_type": "stream",
     "text": [
      "Linha da primeira ocorrência: {'au': 0, 'ch': 15, 'gr': 65}\n",
      "Linhas x Colunas após transformação pelo PCA: (91, 2)\n"
     ]
    }
   ],
   "source": [
    "docid = {}\n",
    "for i,c in enumerate(df_dXp.index.values):\n",
    "   if c[0:2] not in docid:              # as duas letras iniciais do indice (nome do arquivo) indicam o\n",
    "      docid[c[0:2]] = i                 # tópico ao qual o documento está relacionado (ba:baseball, sp: spatial subjects)\n",
    "                                        # docid armazena como chave o tópico e valor \n",
    "print('Linha da primeira ocorrência:', docid)       # a linha onde aparece pela primeira vez \n",
    "        \n",
    "doc_ids = [docid[c[0:2]] for c in df_dXp.index.values] # cria uma lista de labels indicando\n",
    "                                                       # a qual topico o documento pertence.  \n",
    "                                                       # Os labels serão utilizados para colorir\n",
    "                                                       # os documentos de acordo com seu tópico\n",
    "X = df_dXp.values                                      # => Pego os atributos e converto para uma array de numpy\n",
    "X = StandardScaler().fit_transform(X)                  # Aplica uma normalização Z-score (=padronização)\n",
    "                                                       # nos dados para melhorar o resultado do PCA\n",
    "\n",
    "pca_obj = PCA(n_components=2)\n",
    "Xpca = pca_obj.fit_transform(X)\n",
    "\n",
    "print('Linhas x Colunas após transformação pelo PCA:', Xpca.shape)"
   ]
  },
  {
   "cell_type": "markdown",
   "metadata": {},
   "source": [
    "### Exercício 9)\n",
    "Visualize a projeção da coleção de documentos no espaço bidimensional gerado no exercício anterior e se necessário faça um zoom para melhor visualizar a distribuição dos documentos."
   ]
  },
  {
   "cell_type": "code",
   "execution_count": 38,
   "metadata": {},
   "outputs": [],
   "source": [
    "import matplotlib.pyplot as plt\n",
    "%matplotlib inline\n"
   ]
  },
  {
   "cell_type": "code",
   "execution_count": 43,
   "metadata": {},
   "outputs": [
    {
     "name": "stdout",
     "output_type": "stream",
     "text": [
      "[ 0 15 65]\n"
     ]
    },
    {
     "data": {
      "text/plain": [
       "<matplotlib.collections.PathCollection at 0x16f91830310>"
      ]
     },
     "execution_count": 43,
     "metadata": {},
     "output_type": "execute_result"
    },
    {
     "data": {
      "image/png": "[encoded data removed]",
      "text/plain": [
       "<Figure size 432x288 with 1 Axes>"
      ]
     },
     "metadata": {
      "needs_background": "light"
     },
     "output_type": "display_data"
    }
   ],
   "source": [
    "print(np.unique(doc_ids))\n",
    "plt.scatter(Xpca[:,0],Xpca[:,1],c=doc_ids)"
   ]
  },
  {
   "cell_type": "code",
   "execution_count": 44,
   "metadata": {},
   "outputs": [
    {
     "data": {
      "text/plain": [
       "<matplotlib.collections.PathCollection at 0x16f918606d0>"
      ]
     },
     "execution_count": 44,
     "metadata": {},
     "output_type": "execute_result"
    },
    {
     "data": {
      "image/png": "[encoded data removed]",
      "text/plain": [
       "<Figure size 432x288 with 1 Axes>"
      ]
     },
     "metadata": {
      "needs_background": "light"
     },
     "output_type": "display_data"
    }
   ],
   "source": [
    "# fazendo zoom\n",
    "\n",
    "fig, ax = plt.subplots()\n",
    "ax.set_xlim(-5, 0)\n",
    "ax.set_ylim(-10, 5)\n",
    "\n",
    "plt.scatter(Xpca[:,0],Xpca[:,1],c=doc_ids)"
   ]
  },
  {
   "cell_type": "markdown",
   "metadata": {},
   "source": [
    "### Exercício 10)\n",
    "Dado o documento `au8` (linha de rótulo `au8` no DataFrame Documentos $\\times$ Palavras) e utilizando a distância \"cosseno\"  (cosseno entre dois vetores correspondendo a vetorização dos documentos), encontre qual o documento mais parecido com `au8`. Calcule o cosseno entre a linha representada por `au8` na matriz Documentos $\\times$ Palavras e todas as outras linhas, tomando o maior valor como correspondendo ao documento mais parecido.\n",
    "Repita a projeção realizada no exercício 8), ressaltando o documento `au8` e o documento mais parecido com ele. "
   ]
  },
  {
   "cell_type": "code",
   "execution_count": 51,
   "metadata": {},
   "outputs": [
    {
     "data": {
      "text/plain": [
       "13"
      ]
     },
     "execution_count": 51,
     "metadata": {},
     "output_type": "execute_result"
    }
   ],
   "source": [
    "# encontrando o indice da linha de 'au8' no DataFrame\n",
    "au8_id = np.argwhere(df_dXp.index.values=='au8')[0][0]\n",
    "au8_id"
   ]
  },
  {
   "cell_type": "code",
   "execution_count": 52,
   "metadata": {},
   "outputs": [
    {
     "data": {
      "text/plain": [
       "array([ 0.06983122,  0.09023304,  0.05681329,  0.89154395,  0.08475241,\n",
       "        0.21188547,  0.79138019, -0.10506966, -0.10387317, -0.12822151,\n",
       "        0.12503376,  0.05313075,  3.24231686,  6.7538329 , -0.098155  ,\n",
       "       -0.14529646, -0.1648905 , -0.23191241, -0.17261066, -0.17170867,\n",
       "       -0.19215803, -0.15401837, -0.18351277, -0.1776609 , -0.1781697 ,\n",
       "       -0.08534541, -0.18059266, -0.15490637, -0.15672715, -0.17780393,\n",
       "       -0.1561258 , -0.25896059, -0.17524163, -0.24473975, -0.2309373 ,\n",
       "       -0.16083431, -0.16360477, -0.21589868, -0.22210132, -0.2177315 ,\n",
       "       -0.23568757, -0.20737274, -0.11363167, -0.20104074, -0.17312642,\n",
       "       -0.19388909, -0.15402032, -0.11549566, -0.09763515, -0.26394422,\n",
       "       -0.05271023, -0.19773894, -0.11665035, -0.22466682, -0.10196432,\n",
       "       -0.13201352, -0.22365901, -0.18140035, -0.22197549, -0.17835442,\n",
       "       -0.21826508, -0.20154014, -0.13428047, -0.18661208, -0.19770733,\n",
       "       -0.15046421, -0.20086153, -0.09866037, -0.14816641, -0.14750234,\n",
       "       -0.17301205, -0.08908786, -0.08630424, -0.13881673, -0.13474405,\n",
       "       -0.07384099, -0.1340333 , -0.12808829, -0.04418293, -0.15746665,\n",
       "       -0.1376447 , -0.16443734,  0.04079243, -0.14121774, -0.15335993,\n",
       "       -0.0989214 , -0.16078882, -0.19442795, -0.17402666, -0.15109255,\n",
       "       -0.06133711])"
      ]
     },
     "execution_count": 52,
     "metadata": {},
     "output_type": "execute_result"
    }
   ],
   "source": [
    "X = df_dXp.values\n",
    "X = StandardScaler().fit_transform(X)\n",
    "\n",
    "# calculando a similaridade pelo cosseno e utilizando a formula\n",
    "# cos(x,y) = np.dot(x,y)/(np.linalg.norm(x)*np.linalg.norm(y))\n",
    "cosau8 = np.apply_along_axis(lambda x: \n",
    "             np.dot(X[au8_id],x)/(np.linalg.norm(au8_id)*np.linalg.norm(x)),1,X)  # calcula o cosseno entre o índice au8\n",
    "                                                                                  # e todos os demais índices\n",
    "cosau8"
   ]
  },
  {
   "cell_type": "code",
   "execution_count": 56,
   "metadata": {},
   "outputs": [
    {
     "name": "stdout",
     "output_type": "stream",
     "text": [
      "[49 31 33 40 17 34 53 56 38 58 60 39 37 41 61 43 66 51 64 87 45 20 63 22\n",
      " 57 26 59 24 29 23 32 88 44 70 18 19 16 81 36 35 86 79 28 30 27 46 21 84\n",
      " 89 65 68 69 15 83 73 80 74 62 76 55  9 77 52 47 42  7  8 54 85 67 14 48\n",
      " 71 72 25 75 90 50 78 82 11  2  0  4  1 10  5  6  3 12 13]\n",
      "Indice do documento mais parecido: 12\n",
      "Documento mais parecido com au8:  au7\n"
     ]
    }
   ],
   "source": [
    "# distância = 1 - similaridade, por isso a menor distância está na posição [-1]\n",
    "# ordenando e pegando o maior valor (note que o elemento [-1] é o próprio documento au8)\n",
    "sim_au8_id = np.argsort(cosau8)#[-2]     # argsort retorna o índice ordenado pelo argumento ()\n",
    "                                         # [-1] é o próprio índice au8   \n",
    "print(sim_au8_id)\n",
    "\n",
    "sim_au8_id = sim_au8_id[-2]              # [-2] é o documento mais parecido\n",
    "\n",
    "print('Indice do documento mais parecido:', sim_au8_id)\n",
    "print('Documento mais parecido com au8: ',df_dXp.index.values[sim_au8_id])"
   ]
  },
  {
   "cell_type": "code",
   "execution_count": 59,
   "metadata": {},
   "outputs": [
    {
     "data": {
      "text/plain": [
       "<matplotlib.collections.PathCollection at 0x16f9639d310>"
      ]
     },
     "execution_count": 59,
     "metadata": {},
     "output_type": "execute_result"
    },
    {
     "data": {
      "image/png": "[encoded data removed]",
      "text/plain": [
       "<Figure size 432x288 with 1 Axes>"
      ]
     },
     "metadata": {
      "needs_background": "light"
     },
     "output_type": "display_data"
    }
   ],
   "source": [
    "fig, ax = plt.subplots()\n",
    "ax.set_xlim(-5, 2)\n",
    "ax.set_ylim(-10, 5)\n",
    "\n",
    "# au8 e o documento mais parecido estão marcos com um X vermelho\n",
    "plt.scatter(Xpca[:,0],Xpca[:,1],c=doc_ids)\n",
    "plt.scatter(Xpca[[au8_id,sim_au8_id],0],Xpca[[au8_id,sim_au8_id],1],marker='x',color='r') #au8_id=13; sim_au8_id=12"
   ]
  },
  {
   "cell_type": "code",
   "execution_count": 63,
   "metadata": {},
   "outputs": [
    {
     "data": {
      "text/plain": [
       "array([[-3.72548685, -9.38942362],\n",
       "       [-3.36835448, -7.82635326]])"
      ]
     },
     "execution_count": 63,
     "metadata": {},
     "output_type": "execute_result"
    }
   ],
   "source": [
    "Xpca[[13,12]]"
   ]
  },
  {
   "cell_type": "code",
   "execution_count": null,
   "metadata": {},
   "outputs": [],
   "source": []
  }
 ],
 "metadata": {
  "kernelspec": {
   "display_name": "Python 3",
   "language": "python",
   "name": "python3"
  },
  "language_info": {
   "codemirror_mode": {
    "name": "ipython",
    "version": 3
   },
   "file_extension": ".py",
   "mimetype": "text/x-python",
   "name": "python",
   "nbconvert_exporter": "python",
   "pygments_lexer": "ipython3",
   "version": "3.8.10"
  }
 },
 "nbformat": 4,
 "nbformat_minor": 2
}
