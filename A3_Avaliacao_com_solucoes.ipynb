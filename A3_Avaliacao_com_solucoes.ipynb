{
 "cells": [
  {
   "cell_type": "markdown",
   "metadata": {},
   "source": [
    "# MBA em Ciência de Dados\n",
    "## Técnicas Avançadas de Captura e Tratamento de Dados\n",
    "\n",
    "\n",
    "### <span style=\"color:darkred\">Módulo III - Aquisição e Transformação de Dados</span>\n",
    "\n",
    "\n",
    "## <span style=\"color:darkred\">Avaliação - com soluções</span>\n",
    "\n",
    "Moacir Antonelli Ponti\n",
    "\n",
    "CeMEAI - ICMC/USP São Carlos\n",
    "\n",
    "---\n",
    "#### <font color='red'> As respostas devem ser fornecidas no Moodle. O notebook é apenas para a implementação dos códigos que fornecerão as respostas</font>\n",
    "\n",
    "---"
   ]
  },
  {
   "cell_type": "markdown",
   "metadata": {},
   "source": [
    "Antes de iniciar, acesse o portal : https://dados.educacao.sp.gov.br/dataset/fluxo-escolar-por-escola\n",
    "\n",
    "Procure pelo arquivo CSV relativo a \"Fluxo Escolar 2019 - por escola\", arquivo `FLUXO_ESCOLAR_ESCOLA.csv`\n",
    "\n",
    "O fluxo escolar é medido pela taxa média de aprovação em cada etapa da escolarização, sendo elas as séries iniciais e séries finais do Ensino Fundamental e Ensino Médio, coletadas pelo Censo Escolar.\n",
    "\n",
    "Para saber mais sobre o funcionamento do Fluxo Escolar, visite a página https://dados.educacao.sp.gov.br/story/fluxo\n",
    "\n",
    "Carregue os dados. As colunas possuem significado de acordo com o \"dicionário de dados\" disponível ao visualizar o arquivo no referido site. As colunas são rotuladas da seguinte forma:\n",
    "- Ano: para o qual foi realizado o cálculo do fluxo\n",
    "- CD_DIRETORIA: Código da diretoria de ensino\n",
    "- NM_DIRETORIA: Nome da diretoria de ensino\n",
    "- NM_MUNICIPIO: Nome do Município\n",
    "- CD_REDE_ENSINO: Código da Rede de Ensino (1:Estadual)\n",
    "- CD_ESCOLA: Código da Escola\n",
    "- NM_COMPLETO_ESCOLA: Nome Completo da Escola\n",
    "- CD_TP_IDENTIFICADOR: Código do Tipo de Escola\n",
    "- APR_1: Porcentagem de Alunos Aprovados no Ensino Fundamental - Anos Iniciais no ensino fundamental de 9 anos\n",
    "- REP_1: Porcentagem de Alunos Reprovados no Ensino Fundamental - Anos Iniciais no ensino fundamental de 9 anos\n",
    "- ABA_1: Porcentagem de Alunos com Abandono no Ensino Fundamental - Anos Iniciais no ensino fundamental de 9 anos\n",
    "- REP_2: Porcentagem de Alunos Reprovados no Ensino Fundamental - Anos Finais no ensino fundamental de 9 anos\n",
    "- ABA_2: Porcentagem de Alunos com Abando no Ensino Fundamental - Anos Finais no ensino fundamental de 9 anos\n",
    "- APR_3: Porcentagem de Alunos Aprovados no Ensino Médio\n",
    "- REP_3: Porcentagem de Alunos Reprovados no Ensino Médio\n",
    "- ABA_3: Porcentagem de Alunos com Abandono no Ensino Médio"
   ]
  },
  {
   "cell_type": "code",
   "execution_count": 1,
   "metadata": {},
   "outputs": [
    {
     "name": "stdout",
     "output_type": "stream",
     "text": [
      "atributos:  16\n",
      "linhas:  5220\n"
     ]
    }
   ],
   "source": [
    "# carregando as bibliotecas necessárias\n",
    "import numpy as np\n",
    "import matplotlib.pyplot as plt\n",
    "import pandas as pd\n",
    "# carregando dados\n",
    "dc = pd.read_csv(\"./dados/FLUXO_ESCOLAR_ESCOLA.csv\", sep=',')\n",
    "ncols = dc.shape[1]\n",
    "ncols = dc.shape[1]\n",
    "print(\"atributos: \", ncols)\n",
    "print(\"linhas: \", dc.shape[0])"
   ]
  },
  {
   "cell_type": "markdown",
   "metadata": {},
   "source": [
    "### Questão 1)\n",
    " \n",
    "Considere os seguintes problemas e a natureza dos seus respectivos dados:\n",
    "\n",
    "I - Uma sequência de dados de um sensor de temperatura, com valores em Celsius coletados e armazenados a cada 2 horas. Utilizando o histórico de 1 ano de observações anteriores até o dia atual, se intenciona predizer a temperatura nas próximas 24 horas.<br>\n",
    "II - Uma base de dados contendo informações sobre livros (gênero, número de páginas, autor, ano de lançamento, país de origem, entre outros) e as avaliações desses livros (nota de 1 a 5) obtidos junto a leitores do fã clube de Harry Potter de Minas Gerais, com a qual se intenciona predizer qual seria a nota de um livro sendo considerado para publicação por uma editora, permitindo predizer o potencial desse novo livro para o público brasileiro.<br>\n",
    "III - Numa base de dados de um e-commerce contendo informações sobre clientes e seus padrões de compras, foi feita uma segmentação manual de milhares de clientes em 5 categorias. Deseja-se treinar modelos para aprender a classificar novos clientes em uma dessas categorias.<br>\n",
    "\n",
    "Podemos utilizar métodos que assumam dados do tipo i.i.d. (independente e identicamente distribuídos) e garantir que esses métodos irão obter conclusões válidas em quais dos casos?\n",
    "\n",
    "<font color='red'>(a) III</font><br>\n",
    "(b) I e III<br>\n",
    "(c) I<br>\n",
    "(d) II<br>\n",
    "\n",
    "<font color='red'>Resposta</font>: *O caso I é de natureza sequencial e temporal, sendo que cada temperatura tomada possui relação com a anterior, sendo não i.i.d. O caso II possui viés de seleção se considerarmos que a intenção é predizer para um público mais amplo do que a origem dos dados obtidos permite. Já o caso III é i.i.d. pois não há dependência entre os dados e a amostragem é adequada para o problema em questão.*"
   ]
  },
  {
   "cell_type": "markdown",
   "metadata": {},
   "source": [
    "### Questão 2)\n",
    " \n",
    "Compute a média das variáveis ABA_1, ABA_2 e ABA_3 e adicione essa média como um novo atributo ABA_MED à base de dados. Substitua por nulo (`nan`) os valores onde 'ABA_MED' seja igual a 0. Realize a **discretização** da variável 'ABA_MED' utilizando:\n",
    "1. o método dos quantis, utilizando 7 intervalos alvo\n",
    "2. o método dos intervalos, utilizando os seguintes intervalos alvo: (0, 1] (1, 5] (5, 10] (10, 25] (25, 50] (50, max(ABA_MED)],\n",
    "em que max(ABA_MED) é o maior valor desse atributo\n",
    "\n",
    "Use o método qcut() para o item 1 e cut() para o item 2\n",
    "\n",
    "Adicione essas novas variáveis na base, com os nomes 'ABA_Q' (quantis) e 'ABA_I' (intervalos)\n",
    "\n",
    "Qual é a quantidade de dados (frequências dos valores discretizados) na base após a discretização, relativos ao primeiro intervalo (com os menores valores) e ao último intervalo (com os maiores valores) para, respectivamente, ABA_Q e ABA_I?\n",
    "\n",
    "(a) ABA_Q: primeiro -0.004, último 423. ABA_I: primeiro 1, último 431<br>\n",
    "(b) ABA_Q: primeiro 423, último 431. ABA_I: primeiro 1612, último 4<br>\n",
    "(c) ABA_Q: primeiro 431, último 3099. ABA_I: primeiro 1612, último 0<br>\n",
    "<font color='red'>(d) ABA_Q: primeiro 431, último 423. ABA_I: primeiro 1612, último 1\n",
    ".<br></font>\n",
    "\n",
    "<font color='red'>Resposta</font>: *ver codigo abaixo*"
   ]
  },
  {
   "cell_type": "code",
   "execution_count": 2,
   "metadata": {},
   "outputs": [
    {
     "name": "stdout",
     "output_type": "stream",
     "text": [
      "['ABA_1', 'ABA_2', 'ABA_3']\n"
     ]
    }
   ],
   "source": [
    "atts = ['ABA_1', 'ABA_2', 'ABA_3']\n",
    "print(atts)\n",
    "dc['ABA_MED'] = dc[atts].mean(axis=1)"
   ]
  },
  {
   "cell_type": "code",
   "execution_count": 3,
   "metadata": {
    "scrolled": true
   },
   "outputs": [
    {
     "data": {
      "text/plain": [
       "<AxesSubplot:>"
      ]
     },
     "execution_count": 3,
     "metadata": {},
     "output_type": "execute_result"
    },
    {
     "data": {
      "image/png": "[encoded data removed]",
      "text/plain": [
       "<Figure size 432x288 with 1 Axes>"
      ]
     },
     "metadata": {
      "needs_background": "light"
     },
     "output_type": "display_data"
    }
   ],
   "source": [
    "dc.loc[dc['ABA_MED']==0,'ABA_MED'] = np.nan\n",
    "dc['ABA_MED'].hist()"
   ]
  },
  {
   "cell_type": "code",
   "execution_count": 4,
   "metadata": {},
   "outputs": [
    {
     "data": {
      "text/plain": [
       "count    2966.000000\n",
       "mean        1.412117\n",
       "std         1.833886\n",
       "min        -0.003333\n",
       "25%         0.263333\n",
       "50%         0.820000\n",
       "75%         1.979167\n",
       "max        53.716667\n",
       "Name: ABA_MED, dtype: float64"
      ]
     },
     "execution_count": 4,
     "metadata": {},
     "output_type": "execute_result"
    }
   ],
   "source": [
    "dc['ABA_MED'].describe()"
   ]
  },
  {
   "cell_type": "code",
   "execution_count": 5,
   "metadata": {},
   "outputs": [
    {
     "data": {
      "text/plain": [
       "(-0.0043300000000000005, 0.143]    431\n",
       "(0.617, 1.09]                      431\n",
       "(1.766, 2.91]                      425\n",
       "(0.314, 0.617]                     424\n",
       "(2.91, 53.717]                     423\n",
       "(0.143, 0.314]                     417\n",
       "(1.09, 1.766]                      415\n",
       "Name: ABA_Q, dtype: int64"
      ]
     },
     "execution_count": 5,
     "metadata": {},
     "output_type": "execute_result"
    }
   ],
   "source": [
    "tot_q =  pd.qcut(dc['ABA_MED'], 7)\n",
    "dc['ABA_Q'] = tot_q\n",
    "dc['ABA_Q'].value_counts()"
   ]
  },
  {
   "cell_type": "code",
   "execution_count": 6,
   "metadata": {},
   "outputs": [
    {
     "data": {
      "text/plain": [
       "(25.0, 50.0]         0\n",
       "(50.0, 53.717]       1\n",
       "(10.0, 25.0]         3\n",
       "(5.0, 10.0]        113\n",
       "(2.5, 5.0]         434\n",
       "(1.0, 2.5]         792\n",
       "(0.0, 1.0]        1612\n",
       "Name: ABA_I, dtype: int64"
      ]
     },
     "execution_count": 6,
     "metadata": {},
     "output_type": "execute_result"
    }
   ],
   "source": [
    "intervs = [0, 1, 2.5, 5, 10, 25, 50, dc['ABA_MED'].max()]\n",
    "tot_i =  pd.cut(dc['ABA_MED'], intervs)\n",
    "dc['ABA_I'] = tot_i\n",
    "dc['ABA_I'].value_counts().sort_values()"
   ]
  },
  {
   "cell_type": "markdown",
   "metadata": {},
   "source": [
    "### Questão 3)\n",
    "\n",
    "Normalize 2 variáveis da base: ABA_MED e APR_3\n",
    "* APR_3 utilizando normalização min-max com mínimo 0 e máximo 1\n",
    "* ABA_MED utilizando normalização robusta\n",
    "\n",
    "Para isso, codifique funções que recebam uma coluna por parâmetro e retornem um atributo já normalizado\n",
    "\n",
    "Depois, aplique as funções e crie novas variáveis com os atributos normalizados: APR_3_01 e ABA_MED_nr.\n",
    "\n",
    "Após a normalização, quais os valores de média, desvio padrão, mínimo e máximo dessas novas variáveis, arredondando para 1 casa decimal?\n",
    "\n",
    "(a) APR_3_01: 0.0, 1.0, 0.0, 1.0; ABA_MED_nr: 0.3, 1.1, -0.5, 30.8<br>\n",
    "(b) APR_3_01: 0.7, 0.4, 0.0, 1.0; ABA_MED_nr: 0.3, 0.7, -1.0, 53.8<br>\n",
    "(c) APR_3_01: 0.0, 1.0, 0.0, 1.0; ABA_MED_nr: 0.3, 0.7, -1.0, 53.8<br>\n",
    "<font color='red'>(d) APR_3_01: 0.7, 0.4, 0.0, 1.0; ABA_MED_nr: 0.3, 1.1, -0.5, 30.8<br></font>\n",
    "\n",
    "<font color='red'>Resposta</font>: *ver codigo abaixo*"
   ]
  },
  {
   "cell_type": "code",
   "execution_count": 7,
   "metadata": {},
   "outputs": [],
   "source": [
    "def norm_robusta(att):\n",
    "    # computa média e desvio padrao\n",
    "    var_med = att.median()\n",
    "    q25 = att.quantile(0.25)\n",
    "    q75 = att.quantile(0.75)\n",
    "\n",
    "    # computa normalizacao\n",
    "    var_norm = (att - var_med) / (q75-q25)\n",
    "    return var_norm\n",
    "\n",
    "def norm_minmax(att, a=0, b=1):\n",
    "    # computa minimo e maximo\n",
    "    var_min = att.min()\n",
    "    var_max = att.max()\n",
    "\n",
    "    # computa normalizacao\n",
    "    att_norm = a+( ((att - var_min)*(b-a)) / (var_max-var_min) )\n",
    "    return att_norm"
   ]
  },
  {
   "cell_type": "code",
   "execution_count": 8,
   "metadata": {},
   "outputs": [],
   "source": [
    "# INICIAIS_n,  FINAIS_n, MEDIO_n\n",
    "dc['ABA_MED_nr'] = norm_robusta(dc['ABA_MED'] )\n",
    "dc['APR_3_01'] = norm_minmax(dc['APR_3'],a=0,b=1)"
   ]
  },
  {
   "cell_type": "code",
   "execution_count": 9,
   "metadata": {},
   "outputs": [
    {
     "data": {
      "text/html": [
       "<div>\n",
       "<style scoped>\n",
       "    .dataframe tbody tr th:only-of-type {\n",
       "        vertical-align: middle;\n",
       "    }\n",
       "\n",
       "    .dataframe tbody tr th {\n",
       "        vertical-align: top;\n",
       "    }\n",
       "\n",
       "    .dataframe thead th {\n",
       "        text-align: right;\n",
       "    }\n",
       "</style>\n",
       "<table border=\"1\" class=\"dataframe\">\n",
       "  <thead>\n",
       "    <tr style=\"text-align: right;\">\n",
       "      <th></th>\n",
       "      <th>ABA_MED_nr</th>\n",
       "      <th>APR_3_01</th>\n",
       "    </tr>\n",
       "  </thead>\n",
       "  <tbody>\n",
       "    <tr>\n",
       "      <th>count</th>\n",
       "      <td>2966.0</td>\n",
       "      <td>5220.0</td>\n",
       "    </tr>\n",
       "    <tr>\n",
       "      <th>mean</th>\n",
       "      <td>0.3</td>\n",
       "      <td>0.7</td>\n",
       "    </tr>\n",
       "    <tr>\n",
       "      <th>std</th>\n",
       "      <td>1.1</td>\n",
       "      <td>0.4</td>\n",
       "    </tr>\n",
       "    <tr>\n",
       "      <th>min</th>\n",
       "      <td>-0.5</td>\n",
       "      <td>0.0</td>\n",
       "    </tr>\n",
       "    <tr>\n",
       "      <th>25%</th>\n",
       "      <td>-0.3</td>\n",
       "      <td>0.0</td>\n",
       "    </tr>\n",
       "    <tr>\n",
       "      <th>50%</th>\n",
       "      <td>0.0</td>\n",
       "      <td>0.9</td>\n",
       "    </tr>\n",
       "    <tr>\n",
       "      <th>75%</th>\n",
       "      <td>0.7</td>\n",
       "      <td>1.0</td>\n",
       "    </tr>\n",
       "    <tr>\n",
       "      <th>max</th>\n",
       "      <td>30.8</td>\n",
       "      <td>1.0</td>\n",
       "    </tr>\n",
       "  </tbody>\n",
       "</table>\n",
       "</div>"
      ],
      "text/plain": [
       "       ABA_MED_nr  APR_3_01\n",
       "count      2966.0    5220.0\n",
       "mean          0.3       0.7\n",
       "std           1.1       0.4\n",
       "min          -0.5       0.0\n",
       "25%          -0.3       0.0\n",
       "50%           0.0       0.9\n",
       "75%           0.7       1.0\n",
       "max          30.8       1.0"
      ]
     },
     "execution_count": 9,
     "metadata": {},
     "output_type": "execute_result"
    }
   ],
   "source": [
    "np.round(dc[['ABA_MED_nr', 'APR_3_01']].describe(),1)"
   ]
  },
  {
   "cell_type": "markdown",
   "metadata": {},
   "source": [
    "### Questão 4)\n",
    " \n",
    "Transforme os atributos 'ABA_2' e 'ABA_MED' por meio da função da raiz quadrada. Para isso:\n",
    "1. Faça uma cópia da base de dados, e nessa cópia remova todas as linhas cujos atributos possuem valor 0 ou Nulos (`NaN`) em 'ABA_2' ou 'ABA_MED'\n",
    "2. Considerando os atributos 'ABA_2' e 'ABA_MED' transforme-os esses utilizando a operação da raiz quadrada no seguinte formato. Seja $x$ o atributo original, obtemos a sua versão transformada:\n",
    "$$x' = \\sqrt{x+1}$$\n",
    "e os adicione à base de dados com novos nomes, ex. 'sqrtABA_2' e  'sqrtABA_MED',\n",
    "3. Calcule a correlação entre os atributos após a transformação do passo 2 (utilize o método `.corr()`)\n",
    "\n",
    "Qual o valor obtido da correlação entre essas novas variáveis ('sqrtABA_2' e 'sqrtABA_MED') ao arredondar para 2 casas decimais?\n",
    "\n",
    "(a) 0.85<br>\n",
    "<font color='red'>(b) 0.81<br></font>\n",
    "(c) 0.77<br>\n",
    "(d) 1.00<br>\n",
    "\n",
    "<font color='red'>Resposta</font>: *ver codigo abaixo*"
   ]
  },
  {
   "cell_type": "code",
   "execution_count": 10,
   "metadata": {},
   "outputs": [],
   "source": [
    "dc2 = dc.copy()"
   ]
  },
  {
   "cell_type": "code",
   "execution_count": 11,
   "metadata": {},
   "outputs": [
    {
     "name": "stdout",
     "output_type": "stream",
     "text": [
      "(2034, 21)\n"
     ]
    }
   ],
   "source": [
    "dc2 = dc2.drop(dc2[dc2['ABA_2'] == 0].index)\n",
    "dc2 = dc2.drop(dc2[dc2['ABA_MED'] == 0].index)\n",
    "dc2 = dc2.dropna(subset=['ABA_2','ABA_MED'])\n",
    "print(dc2.shape)"
   ]
  },
  {
   "cell_type": "code",
   "execution_count": 12,
   "metadata": {},
   "outputs": [],
   "source": [
    "# vamos adicionar essas novas variaveis a base\n",
    "dc2['ABA_2_S'] = np.sqrt(np.array(dc2['ABA_2'])+1)\n",
    "dc2['ABA_MED_S'] = np.sqrt(np.array(dc2['ABA_MED'])+1)"
   ]
  },
  {
   "cell_type": "code",
   "execution_count": 13,
   "metadata": {},
   "outputs": [
    {
     "data": {
      "text/html": [
       "<div>\n",
       "<style scoped>\n",
       "    .dataframe tbody tr th:only-of-type {\n",
       "        vertical-align: middle;\n",
       "    }\n",
       "\n",
       "    .dataframe tbody tr th {\n",
       "        vertical-align: top;\n",
       "    }\n",
       "\n",
       "    .dataframe thead th {\n",
       "        text-align: right;\n",
       "    }\n",
       "</style>\n",
       "<table border=\"1\" class=\"dataframe\">\n",
       "  <thead>\n",
       "    <tr style=\"text-align: right;\">\n",
       "      <th></th>\n",
       "      <th>ABA_2</th>\n",
       "      <th>ABA_MED</th>\n",
       "      <th>ABA_2_S</th>\n",
       "      <th>ABA_MED_S</th>\n",
       "    </tr>\n",
       "  </thead>\n",
       "  <tbody>\n",
       "    <tr>\n",
       "      <th>ABA_2</th>\n",
       "      <td>1.00</td>\n",
       "      <td>0.84</td>\n",
       "      <td>0.96</td>\n",
       "      <td>0.78</td>\n",
       "    </tr>\n",
       "    <tr>\n",
       "      <th>ABA_MED</th>\n",
       "      <td>0.84</td>\n",
       "      <td>1.00</td>\n",
       "      <td>0.77</td>\n",
       "      <td>0.94</td>\n",
       "    </tr>\n",
       "    <tr>\n",
       "      <th>ABA_2_S</th>\n",
       "      <td>0.96</td>\n",
       "      <td>0.77</td>\n",
       "      <td>1.00</td>\n",
       "      <td>0.81</td>\n",
       "    </tr>\n",
       "    <tr>\n",
       "      <th>ABA_MED_S</th>\n",
       "      <td>0.78</td>\n",
       "      <td>0.94</td>\n",
       "      <td>0.81</td>\n",
       "      <td>1.00</td>\n",
       "    </tr>\n",
       "  </tbody>\n",
       "</table>\n",
       "</div>"
      ],
      "text/plain": [
       "           ABA_2  ABA_MED  ABA_2_S  ABA_MED_S\n",
       "ABA_2       1.00     0.84     0.96       0.78\n",
       "ABA_MED     0.84     1.00     0.77       0.94\n",
       "ABA_2_S     0.96     0.77     1.00       0.81\n",
       "ABA_MED_S   0.78     0.94     0.81       1.00"
      ]
     },
     "execution_count": 13,
     "metadata": {},
     "output_type": "execute_result"
    }
   ],
   "source": [
    "np.round(dc2[['ABA_2','ABA_MED', 'ABA_2_S','ABA_MED_S']].corr(),2)"
   ]
  },
  {
   "cell_type": "markdown",
   "metadata": {},
   "source": [
    "### Questão 5)\n",
    " \n",
    "Utilize a base de dados antes da modificação feita na Questão 4. Codifique a variável categórica 'ABA_Q' para o tipo categórica ordinal e 'NM_MUNICIPIO:' para categórica nominal:\n",
    "* Para ABA_Q use números inteiros sequenciais, iniciados por 0, para codificar a variável na ordem dos valores dos intervalos e gere um novo atributo ABA_Q_cod. \n",
    "* Para NM_MUNICIPIO use números inteiros sequenciais, iniciados por 0 para codificar a variável em ordem alfabética, e gere um novo atributo NM_MUN_cod. \n",
    "\n",
    "Observação: aqui a intenção é que o atributo codificação tenha relação com a ordem alfabética do município. Se a intenção fosse a de posteriormente aplicar métodos que realizam comparação por distância independente da ordem alfabética, a codificação ideal seria one-hot-encoding/dummy variables.\n",
    "\n",
    "Use a função `value_counts()` para mostrar a frequência dos códigos de ABA_Q_cod e NM_MUN_cod. Responda abaixo quais **valores discretos** (após codificação realizada) possuem a maior frequência (maior contagem):\n",
    "\n",
    "(a) NM_MUN_cod: código 1124;  ABA_Q_cod: códigos 0 e 2<br>\n",
    "(b) NM_MUN_cod: código 563;  ABA_Q_cod: código 0 e 1<br>\n",
    "(c) NM_MUN_cod: código 1124;  ABA_Q_cod: códigos 0 e 1<br>\n",
    "<font color='red'>(d) NM_MUN_cod: código 563;  ABA_Q_cod: códigos 0 e 3<br></font>\n",
    "\n",
    "<font color='red'>Resposta</font>: *ver codigo abaixo*\n"
   ]
  },
  {
   "cell_type": "code",
   "execution_count": 14,
   "metadata": {
    "scrolled": true
   },
   "outputs": [
    {
     "name": "stdout",
     "output_type": "stream",
     "text": [
      "{Interval(-0.0043300000000000005, 0.143, closed='right'): 0, Interval(0.143, 0.314, closed='right'): 1, Interval(0.314, 0.617, closed='right'): 2, Interval(0.617, 1.09, closed='right'): 3, Interval(1.09, 1.766, closed='right'): 4, Interval(1.766, 2.91, closed='right'): 5, Interval(2.91, 53.717, closed='right'): 6, nan: 7}\n"
     ]
    }
   ],
   "source": [
    "cats_t = dc['ABA_Q'].unique().sort_values()\n",
    "num_t = np.arange(cats_t.shape[0])\n",
    "\n",
    "map_t = dict(zip(cats_t, num_t))\n",
    "print(map_t)"
   ]
  },
  {
   "cell_type": "code",
   "execution_count": 15,
   "metadata": {},
   "outputs": [],
   "source": [
    "dc['NM_MUN_cod'] = dc['NM_MUNICIPIO'].astype(\"category\").cat.codes\n",
    "dc['ABA_Q_cod'] = dc['ABA_Q'].map(map_t)"
   ]
  },
  {
   "cell_type": "code",
   "execution_count": 16,
   "metadata": {},
   "outputs": [
    {
     "data": {
      "text/plain": [
       "4    415\n",
       "1    417\n",
       "6    423\n",
       "2    424\n",
       "5    425\n",
       "0    431\n",
       "3    431\n",
       "Name: ABA_Q_cod, dtype: int64"
      ]
     },
     "execution_count": 16,
     "metadata": {},
     "output_type": "execute_result"
    }
   ],
   "source": [
    "dc['ABA_Q_cod'].value_counts().sort_values()"
   ]
  },
  {
   "cell_type": "code",
   "execution_count": 17,
   "metadata": {},
   "outputs": [
    {
     "data": {
      "text/plain": [
       "643       1\n",
       "228       1\n",
       "271       1\n",
       "232       1\n",
       "240       1\n",
       "       ... \n",
       "582      82\n",
       "535      89\n",
       "108     165\n",
       "214     170\n",
       "563    1116\n",
       "Name: NM_MUN_cod, Length: 644, dtype: int64"
      ]
     },
     "execution_count": 17,
     "metadata": {},
     "output_type": "execute_result"
    }
   ],
   "source": [
    "dc['NM_MUN_cod'].value_counts().sort_values()"
   ]
  }
 ],
 "metadata": {
  "kernelspec": {
   "display_name": "Python 3",
   "language": "python",
   "name": "python3"
  },
  "language_info": {
   "codemirror_mode": {
    "name": "ipython",
    "version": 3
   },
   "file_extension": ".py",
   "mimetype": "text/x-python",
   "name": "python",
   "nbconvert_exporter": "python",
   "pygments_lexer": "ipython3",
   "version": "3.9.2"
  }
 },
 "nbformat": 4,
 "nbformat_minor": 4
}
