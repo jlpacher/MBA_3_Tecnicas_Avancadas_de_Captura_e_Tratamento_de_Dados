{
 "cells": [
  {
   "cell_type": "markdown",
   "metadata": {},
   "source": [
    "# MBA em Ciência de Dados\n",
    "# Técnicas Avançadas de Captura e Tratamento de Dados\n",
    "\n",
    "### <span style=\"color:darkred\">Módulo I - Dados Estruturados, Não Estruturados e problemas típicos em bases de dados</span>\n",
    "\n",
    "\n",
    "## <span style=\"color:darkred\">Avaliação com soluções</span>\n",
    "\n",
    "Moacir Antonelli Ponti\n",
    "\n",
    "CeMEAI - ICMC/USP São Carlos\n",
    "\n",
    "\n",
    "---"
   ]
  },
  {
   "cell_type": "code",
   "execution_count": 1,
   "metadata": {},
   "outputs": [],
   "source": [
    "# carregando a biblioteca necessária\n",
    "import pandas as pd\n",
    "import matplotlib.pyplot as plt\n",
    "import numpy as np"
   ]
  },
  {
   "cell_type": "code",
   "execution_count": 2,
   "metadata": {},
   "outputs": [],
   "source": [
    "df = pd.read_csv(\"./dados/TACTD-01-Base.csv\")"
   ]
  },
  {
   "cell_type": "markdown",
   "metadata": {},
   "source": [
    "### Questão 1)\n",
    "\n",
    "Considere a base de dados disponível em `TACTD-01-Base.csv`. Com relação aos dados faltantes no atributo 'Sex', i.e. linhas que não sejam 'F' nem 'M', podemos dizer que:\n",
    " \n",
    " <font color='red'>(a) São do tipo completamente aleatório (MCAR)</font><br>\n",
    " (b) São do tipo (condicionalmente) aleatório (MAR)<br>\n",
    " (c) São do tipo não aleatório<br>\n",
    " (d) Não há dados faltantes<br>\n",
    " \n",
    " <font color='red'>Resposta: (ver abaixo os dados e distribuicoes)</font><br>\n",
    " \n",
    " <i>TL;DR: Não há justificativa razoável para dizer que a perda da informação Sexo tem relação clara com algum outro *atributo* ou com o próprio *valor da variável*. Considerar MCAR é o mais plausível pois é razoável dizer que os dados existentes (não faltantes) são representativos com relação aos faltantes.\n",
    " "
   ]
  },
  {
   "cell_type": "markdown",
   "metadata": {},
   "source": [
    "\n",
    " <i>Explicação item a item:\n",
    " 1. MAR não se aplica pois há poucos dados para afirmar condicionalidade: não seria adequado confiar demais em poucos dados para estabelecer relações com *valores específicos* como \"England\" do atributo país e o valor \"1973\" do atributo ano de nascimento.\n",
    "    * país England: os dados perdidos representam 50% de todos os desse país, mas isso indica realmente algo? Os dois outros perdidos são USA, mas para esse temos muitos outros não faltantes, então há mesmo um padrão ligando País a perda do atributo Sexo? Porque 50% dos faltantes são de England mas para USA isso não se aplicaria?\n",
    "    * ano 1973: o argumento é parecido, e seria ainda mais difícil considerar uma relação pois precisaríamos condicionar ao ano 1973 e ao país USA, já que para England isso não se aplica (os anos de nascimento são 1986 e 1979 para England).\n",
    "    \n",
    "    Assim, para considerar condicionalmente aleatório, não basta achar correlação individual com valores isolados (England, 1973), se isso não tem um embasamento mais forte. Considerar MAR significaria dizer com certeza que a perda está relacionada a valores específicos, e essa conclusão pode estar equivocada.<br>\n",
    " \n",
    " 2. Podemos descartar o caso não aleatório pois não é possível afirmar que a falta dos dados tem a ver com o valor da variável. A distribuicao entre M e F é balanceada na base como um todo, a falta da informação em algumas linhas não tem relação clara com os próprios valores faltantes (M ou F). Apesar desse ser um atributo sensível (Sexo), os dados não indicam de nenhuma forma essa hipótese e, novamente, é razoável dizer que os dados existentes (não faltantes) são representativos com relação aos faltantes.<br>\n",
    "    \n",
    " *Conclusão - não é possível encontrar qualquer relação não aleatória, portanto temos o caso MCAR.*</i>"
   ]
  },
  {
   "cell_type": "code",
   "execution_count": 3,
   "metadata": {},
   "outputs": [
    {
     "data": {
      "text/html": [
       "<div>\n",
       "<style scoped>\n",
       "    .dataframe tbody tr th:only-of-type {\n",
       "        vertical-align: middle;\n",
       "    }\n",
       "\n",
       "    .dataframe tbody tr th {\n",
       "        vertical-align: top;\n",
       "    }\n",
       "\n",
       "    .dataframe thead th {\n",
       "        text-align: right;\n",
       "    }\n",
       "</style>\n",
       "<table border=\"1\" class=\"dataframe\">\n",
       "  <thead>\n",
       "    <tr style=\"text-align: right;\">\n",
       "      <th></th>\n",
       "      <th>Name</th>\n",
       "      <th>Sex</th>\n",
       "      <th>Year of Birth</th>\n",
       "      <th>Country of Birth</th>\n",
       "      <th>Religion</th>\n",
       "      <th>City</th>\n",
       "      <th>Profession</th>\n",
       "      <th>Years of Experience</th>\n",
       "    </tr>\n",
       "  </thead>\n",
       "  <tbody>\n",
       "    <tr>\n",
       "      <th>4</th>\n",
       "      <td>Mariann Mulero</td>\n",
       "      <td>NaN</td>\n",
       "      <td>1973</td>\n",
       "      <td>USA</td>\n",
       "      <td>Christian</td>\n",
       "      <td>New Orleans</td>\n",
       "      <td>Nurse</td>\n",
       "      <td>21.0</td>\n",
       "    </tr>\n",
       "    <tr>\n",
       "      <th>5</th>\n",
       "      <td>Kathey Kleiman</td>\n",
       "      <td>NaN</td>\n",
       "      <td>1973</td>\n",
       "      <td>USA</td>\n",
       "      <td>Christian</td>\n",
       "      <td>New Orleans</td>\n",
       "      <td>Nurse</td>\n",
       "      <td>18.0</td>\n",
       "    </tr>\n",
       "    <tr>\n",
       "      <th>6</th>\n",
       "      <td>Rupert Rollison</td>\n",
       "      <td>NaN</td>\n",
       "      <td>1986</td>\n",
       "      <td>England</td>\n",
       "      <td>Christian</td>\n",
       "      <td>Birmingham</td>\n",
       "      <td>Nurse</td>\n",
       "      <td>5.0</td>\n",
       "    </tr>\n",
       "    <tr>\n",
       "      <th>7</th>\n",
       "      <td>Signe Seymore</td>\n",
       "      <td>NaN</td>\n",
       "      <td>1979</td>\n",
       "      <td>England</td>\n",
       "      <td>Christian</td>\n",
       "      <td>Birmingham</td>\n",
       "      <td>Nurse</td>\n",
       "      <td>8.0</td>\n",
       "    </tr>\n",
       "    <tr>\n",
       "      <th>12</th>\n",
       "      <td>Kraig Kriner</td>\n",
       "      <td>NaN</td>\n",
       "      <td>1972</td>\n",
       "      <td>Scotland</td>\n",
       "      <td>Christian</td>\n",
       "      <td>Edinburgh</td>\n",
       "      <td>Nurse</td>\n",
       "      <td>16.0</td>\n",
       "    </tr>\n",
       "    <tr>\n",
       "      <th>38</th>\n",
       "      <td>Archie Hogan</td>\n",
       "      <td>NaN</td>\n",
       "      <td>1976</td>\n",
       "      <td>Wales</td>\n",
       "      <td>Christian</td>\n",
       "      <td>Edinburgh</td>\n",
       "      <td>Nurse</td>\n",
       "      <td>19.0</td>\n",
       "    </tr>\n",
       "  </tbody>\n",
       "</table>\n",
       "</div>"
      ],
      "text/plain": [
       "               Name  Sex  Year of Birth Country of Birth   Religion  \\\n",
       "4    Mariann Mulero  NaN           1973              USA  Christian   \n",
       "5    Kathey Kleiman  NaN           1973              USA  Christian   \n",
       "6   Rupert Rollison  NaN           1986          England  Christian   \n",
       "7     Signe Seymore  NaN           1979          England  Christian   \n",
       "12     Kraig Kriner  NaN           1972         Scotland  Christian   \n",
       "38     Archie Hogan  NaN           1976            Wales  Christian   \n",
       "\n",
       "           City Profession  Years of Experience  \n",
       "4   New Orleans      Nurse                 21.0  \n",
       "5   New Orleans      Nurse                 18.0  \n",
       "6    Birmingham      Nurse                  5.0  \n",
       "7    Birmingham      Nurse                  8.0  \n",
       "12    Edinburgh      Nurse                 16.0  \n",
       "38    Edinburgh      Nurse                 19.0  "
      ]
     },
     "execution_count": 3,
     "metadata": {},
     "output_type": "execute_result"
    }
   ],
   "source": [
    "df[(df['Sex']!= 'F') & (df['Sex']!= 'M')]"
   ]
  },
  {
   "cell_type": "code",
   "execution_count": 4,
   "metadata": {},
   "outputs": [
    {
     "data": {
      "image/png": "[encoded data removed]",
      "text/plain": [
       "<Figure size 432x288 with 1 Axes>"
      ]
     },
     "metadata": {
      "needs_background": "light"
     },
     "output_type": "display_data"
    }
   ],
   "source": [
    "# distribuicao de Sex na base de dados\n",
    "h = plt.hist(df.loc[df['Sex'].notnull(), 'Sex'])"
   ]
  },
  {
   "cell_type": "markdown",
   "metadata": {},
   "source": [
    "---\n",
    "\n",
    "### Questão 2)\n",
    "\n",
    "\n",
    "Considere a base de dados disponível em `TACTD-01-Base.csv`, e analise os dados no atributo 'Religion'. Esse atributo possui os seguintes problemas:\n",
    "\n",
    " <font color='red'>(a) 9 dados faltantes (sendo desses 5 dados errôneos) e 1 outlier<br></font>\n",
    " (b) 4 dados faltantes devido a omissão do usuário<br>\n",
    " (c) 9 dados errôneos, sendo desses 2 outliers<br>\n",
    " (d) 1 outlier<br>\n",
    "\n",
    "<font color='red'>Resposta: </font>*os dados fora do esperado são  `--`, `[`, `d`, `Ac%#`, `1` e nan, sendo desses 4 nans. Assim, 9 são faltantes no total, sendo 5 digitados erroneamente ou corrompidos. Além disso, aparece uma única ocorrência do valor 'Buddhist', o que pode ser considerado um outlier*<br>"
   ]
  },
  {
   "cell_type": "code",
   "execution_count": 5,
   "metadata": {},
   "outputs": [
    {
     "name": "stdout",
     "output_type": "stream",
     "text": [
      "['Christian' 'd' nan '[' '----' '1' 'Ac%#' 'Buddhist']\n",
      "\n",
      "Valor\t\tQuantidade\n",
      "nan\t\t 4\n",
      "Christian\t\t90\n",
      "d\t\t1\n",
      "[\t\t1\n",
      "----\t\t1\n",
      "1\t\t1\n",
      "Ac%#\t\t1\n",
      "Buddhist\t\t1\n"
     ]
    }
   ],
   "source": [
    "values = df['Religion'].unique()\n",
    "print(values, end='\\n\\n')\n",
    "\n",
    "# listando os valores únicos e sua quantidade\n",
    "print(\"Valor\\t\\tQuantidade\")\n",
    "# exibindo valores nulos/nan\n",
    "print(\"nan\\t\\t\", np.sum(df['Religion'].isnull()))\n",
    "for value in df['Religion'].unique():\n",
    "    if (value == value):\n",
    "        print(value, end='\\t\\t')\n",
    "        print(np.sum(df['Religion'] == value))"
   ]
  },
  {
   "cell_type": "code",
   "execution_count": 6,
   "metadata": {},
   "outputs": [
    {
     "name": "stdout",
     "output_type": "stream",
     "text": [
      "['d' nan '[' '----' '1' 'Ac%#']\n"
     ]
    }
   ],
   "source": [
    "valid_religion = ['Christian', 'Buddhist']\n",
    "invalid_religion = np.delete(values, np.isin(values, valid_religion))\n",
    "print(invalid_religion)"
   ]
  },
  {
   "cell_type": "code",
   "execution_count": 7,
   "metadata": {},
   "outputs": [
    {
     "data": {
      "text/html": [
       "<div>\n",
       "<style scoped>\n",
       "    .dataframe tbody tr th:only-of-type {\n",
       "        vertical-align: middle;\n",
       "    }\n",
       "\n",
       "    .dataframe tbody tr th {\n",
       "        vertical-align: top;\n",
       "    }\n",
       "\n",
       "    .dataframe thead th {\n",
       "        text-align: right;\n",
       "    }\n",
       "</style>\n",
       "<table border=\"1\" class=\"dataframe\">\n",
       "  <thead>\n",
       "    <tr style=\"text-align: right;\">\n",
       "      <th></th>\n",
       "      <th>Name</th>\n",
       "      <th>Sex</th>\n",
       "      <th>Year of Birth</th>\n",
       "      <th>Country of Birth</th>\n",
       "      <th>Religion</th>\n",
       "      <th>City</th>\n",
       "      <th>Profession</th>\n",
       "      <th>Years of Experience</th>\n",
       "    </tr>\n",
       "  </thead>\n",
       "  <tbody>\n",
       "    <tr>\n",
       "      <th>9</th>\n",
       "      <td>Leanne Lowy</td>\n",
       "      <td>F</td>\n",
       "      <td>1969</td>\n",
       "      <td>England</td>\n",
       "      <td>d</td>\n",
       "      <td>Birmingham</td>\n",
       "      <td>Nurse</td>\n",
       "      <td>22.0</td>\n",
       "    </tr>\n",
       "    <tr>\n",
       "      <th>18</th>\n",
       "      <td>Ricardo Rima</td>\n",
       "      <td>M</td>\n",
       "      <td>1977</td>\n",
       "      <td>Peru</td>\n",
       "      <td>NaN</td>\n",
       "      <td>Arequipa</td>\n",
       "      <td>Nurse</td>\n",
       "      <td>16.0</td>\n",
       "    </tr>\n",
       "    <tr>\n",
       "      <th>30</th>\n",
       "      <td>Amelia Caldwell</td>\n",
       "      <td>F</td>\n",
       "      <td>1977</td>\n",
       "      <td>Scotland</td>\n",
       "      <td>NaN</td>\n",
       "      <td>Edinburgh</td>\n",
       "      <td>Nurse</td>\n",
       "      <td>10.0</td>\n",
       "    </tr>\n",
       "    <tr>\n",
       "      <th>39</th>\n",
       "      <td>Marlon Moore</td>\n",
       "      <td>M</td>\n",
       "      <td>1984</td>\n",
       "      <td>Australia</td>\n",
       "      <td>[</td>\n",
       "      <td>Brisbane</td>\n",
       "      <td>Nurse</td>\n",
       "      <td>4.0</td>\n",
       "    </tr>\n",
       "    <tr>\n",
       "      <th>47</th>\n",
       "      <td>Erica Hudson</td>\n",
       "      <td>F</td>\n",
       "      <td>1980</td>\n",
       "      <td>Brazil</td>\n",
       "      <td>NaN</td>\n",
       "      <td>Santo André</td>\n",
       "      <td>Nurse</td>\n",
       "      <td>10.0</td>\n",
       "    </tr>\n",
       "    <tr>\n",
       "      <th>63</th>\n",
       "      <td>Alton Thornton</td>\n",
       "      <td>M</td>\n",
       "      <td>1984</td>\n",
       "      <td>Canada</td>\n",
       "      <td>----</td>\n",
       "      <td>Vancouver</td>\n",
       "      <td>Nurse</td>\n",
       "      <td>3.0</td>\n",
       "    </tr>\n",
       "    <tr>\n",
       "      <th>67</th>\n",
       "      <td>Marshall Vargas</td>\n",
       "      <td>M</td>\n",
       "      <td>1990</td>\n",
       "      <td>Scotland</td>\n",
       "      <td>1</td>\n",
       "      <td>Edinburgh</td>\n",
       "      <td>Nurse</td>\n",
       "      <td>NaN</td>\n",
       "    </tr>\n",
       "    <tr>\n",
       "      <th>71</th>\n",
       "      <td>Zachary Yates</td>\n",
       "      <td>M</td>\n",
       "      <td>2010</td>\n",
       "      <td>D3</td>\n",
       "      <td>Ac%#</td>\n",
       "      <td>_Dh</td>\n",
       "      <td>Nurse</td>\n",
       "      <td>16.0</td>\n",
       "    </tr>\n",
       "    <tr>\n",
       "      <th>92</th>\n",
       "      <td>Norah Carey</td>\n",
       "      <td>F</td>\n",
       "      <td>1961</td>\n",
       "      <td>Scotland</td>\n",
       "      <td>NaN</td>\n",
       "      <td>Edinburgh</td>\n",
       "      <td>Nurse</td>\n",
       "      <td>31.0</td>\n",
       "    </tr>\n",
       "  </tbody>\n",
       "</table>\n",
       "</div>"
      ],
      "text/plain": [
       "               Name Sex  Year of Birth Country of Birth Religion         City  \\\n",
       "9       Leanne Lowy   F           1969          England        d   Birmingham   \n",
       "18     Ricardo Rima   M           1977             Peru      NaN     Arequipa   \n",
       "30  Amelia Caldwell   F           1977         Scotland      NaN    Edinburgh   \n",
       "39     Marlon Moore   M           1984        Australia        [     Brisbane   \n",
       "47     Erica Hudson   F           1980           Brazil      NaN  Santo André   \n",
       "63   Alton Thornton   M           1984           Canada     ----    Vancouver   \n",
       "67  Marshall Vargas   M           1990         Scotland        1    Edinburgh   \n",
       "71    Zachary Yates   M           2010               D3     Ac%#          _Dh   \n",
       "92      Norah Carey   F           1961         Scotland      NaN    Edinburgh   \n",
       "\n",
       "   Profession  Years of Experience  \n",
       "9       Nurse                 22.0  \n",
       "18      Nurse                 16.0  \n",
       "30      Nurse                 10.0  \n",
       "39      Nurse                  4.0  \n",
       "47      Nurse                 10.0  \n",
       "63      Nurse                  3.0  \n",
       "67      Nurse                  NaN  \n",
       "71      Nurse                 16.0  \n",
       "92      Nurse                 31.0  "
      ]
     },
     "execution_count": 7,
     "metadata": {},
     "output_type": "execute_result"
    }
   ],
   "source": [
    "df[df['Religion'].isin(invalid_religion)]"
   ]
  },
  {
   "cell_type": "markdown",
   "metadata": {},
   "source": [
    "---\n",
    "### Questão 3)\n",
    "\n",
    "Dados estruturados, quando comparados aos não-estruturados, são caracterizados por:\n",
    "\n",
    "(a) permitir executar validação dos dados, mas não possibilitar acesso direto<br>\n",
    "(b) possibilitar maior liberdade/flexibilidade na coleta dos dados, sendo ideais para coleta com baixo controle<br>\n",
    "(c) armazenado em arquivos de formato texto livre, permitindo controle de versões<br>\n",
    "<font color='red'>(d) possuir campos e atributos que permitam endereçar os dados diretamenteo<br></font>"
   ]
  },
  {
   "cell_type": "markdown",
   "metadata": {},
   "source": [
    "---\n",
    "\n",
    "### Questão 4)\n",
    "\n",
    "Considere a base de dados disponível em `TACTD-01-Base.csv`, e analise os dados no atributo 'Years of experience' por meio do gráfico de caixa e depois visualizando as linhas contendo outliers mostrados no gráfico de caixa.\n",
    "\n",
    "O atributo possui:\n",
    "\n",
    "(a) 3 outliers globais<br>\n",
    "(b) 1 outlier, pois os outros dados são plausíveis<br>\n",
    "<font color='red'>(c) 3 outliers globais, sendo dois desses também outliers contextuais<br></font>\n",
    "(d) 3 outliers contextuais, sendo um deles também um outlier global<br>\n",
    "\n",
    "\n",
    " <font color='red'>Resposta: (ver abaixo os dados e distribuicoes)</font><br>\n",
    " *Analisando o boxplot, vemos que os outliers estão acima de 35 anos de experiencia. Selecionando-os, notamos que são efetivamente pontos aberrantes, com 45 anos de experiencia ou mais. No entanto, um deles faz sentido pois uma pessoa nascida em 1950, que teria hoje cerca de 70 anos, pode realmente ter 45 anos de experiência, já os demais possuem idade incompatível com a experiência indicada e portanto são também outliers contextuais*"
   ]
  },
  {
   "cell_type": "code",
   "execution_count": 8,
   "metadata": {},
   "outputs": [
    {
     "data": {
      "text/plain": [
       "<AxesSubplot:>"
      ]
     },
     "execution_count": 8,
     "metadata": {},
     "output_type": "execute_result"
    },
    {
     "data": {
      "image/png": "[encoded data removed]",
      "text/plain": [
       "<Figure size 432x288 with 1 Axes>"
      ]
     },
     "metadata": {
      "needs_background": "light"
     },
     "output_type": "display_data"
    }
   ],
   "source": [
    "df.boxplot(['Years of Experience'])"
   ]
  },
  {
   "cell_type": "code",
   "execution_count": 9,
   "metadata": {},
   "outputs": [
    {
     "data": {
      "text/html": [
       "<div>\n",
       "<style scoped>\n",
       "    .dataframe tbody tr th:only-of-type {\n",
       "        vertical-align: middle;\n",
       "    }\n",
       "\n",
       "    .dataframe tbody tr th {\n",
       "        vertical-align: top;\n",
       "    }\n",
       "\n",
       "    .dataframe thead th {\n",
       "        text-align: right;\n",
       "    }\n",
       "</style>\n",
       "<table border=\"1\" class=\"dataframe\">\n",
       "  <thead>\n",
       "    <tr style=\"text-align: right;\">\n",
       "      <th></th>\n",
       "      <th>Name</th>\n",
       "      <th>Sex</th>\n",
       "      <th>Year of Birth</th>\n",
       "      <th>Country of Birth</th>\n",
       "      <th>Religion</th>\n",
       "      <th>City</th>\n",
       "      <th>Profession</th>\n",
       "      <th>Years of Experience</th>\n",
       "    </tr>\n",
       "  </thead>\n",
       "  <tbody>\n",
       "    <tr>\n",
       "      <th>1</th>\n",
       "      <td>Ivo Izidro</td>\n",
       "      <td>M</td>\n",
       "      <td>1983</td>\n",
       "      <td>Mexico</td>\n",
       "      <td>Christian</td>\n",
       "      <td>Acapulco</td>\n",
       "      <td>Nurse</td>\n",
       "      <td>52.0</td>\n",
       "    </tr>\n",
       "    <tr>\n",
       "      <th>8</th>\n",
       "      <td>Lora Lemoine</td>\n",
       "      <td>F</td>\n",
       "      <td>1976</td>\n",
       "      <td>England</td>\n",
       "      <td>Christian</td>\n",
       "      <td>Birmingham</td>\n",
       "      <td>Nurse</td>\n",
       "      <td>46.0</td>\n",
       "    </tr>\n",
       "    <tr>\n",
       "      <th>22</th>\n",
       "      <td>Ariel Almada</td>\n",
       "      <td>F</td>\n",
       "      <td>1950</td>\n",
       "      <td>Portugal</td>\n",
       "      <td>Christian</td>\n",
       "      <td>Lisbon</td>\n",
       "      <td>Nurse</td>\n",
       "      <td>45.0</td>\n",
       "    </tr>\n",
       "  </tbody>\n",
       "</table>\n",
       "</div>"
      ],
      "text/plain": [
       "            Name Sex  Year of Birth Country of Birth   Religion        City  \\\n",
       "1     Ivo Izidro   M           1983           Mexico  Christian    Acapulco   \n",
       "8   Lora Lemoine   F           1976          England  Christian  Birmingham   \n",
       "22  Ariel Almada   F           1950         Portugal  Christian      Lisbon   \n",
       "\n",
       "   Profession  Years of Experience  \n",
       "1       Nurse                 52.0  \n",
       "8       Nurse                 46.0  \n",
       "22      Nurse                 45.0  "
      ]
     },
     "execution_count": 9,
     "metadata": {},
     "output_type": "execute_result"
    }
   ],
   "source": [
    "df[df['Years of Experience']>35]"
   ]
  },
  {
   "cell_type": "markdown",
   "metadata": {},
   "source": [
    "## Questão 5)\n",
    "\n",
    "Gere o gráfico de caixa do atributo 'Year of Birth' e depois selecione e imprima na tela todas as linhas em que o atributo 'Year of Birth' possui valores fora das barras de mínimo e máximo do gráfico de caixa.\n",
    "\n",
    "Como interpretar as linhas retornadas e quais ações são mais indicadas, em termos de manter ou remover os dados supeitos?\n",
    "\n",
    "(a) a linha 15 e a linha 71 possuem outliers e dados errôneos, ambas devem ser removidas por completo.<br>\n",
    "<font color='red'>(b) a linha 15 possui valores considerados outliers, mas são plausíveis e podem ser mantidos; a linha 71 possui outliers e dados errôneos e deve ser removida<br></font>\n",
    "(c) a linha 22 possui outliers e atributos com dados errôneos, com valores que devem ser removidos; a linha 71 possui um outlier, mas é plausível e pode ser mantido<br>\n",
    "(d) a linha 15 e a linha 71 possuem valores outliers, mas podem ser mantidos pois não há outros problemas que exigam limpeza<br>\n",
    "\n",
    " <font color='red'>Resposta: (ver abaixo os dados e distribuicoes)</font><br>\n",
    " *A linha 15 já foi analisada na questão anterior, possui um valor outlier (1940), mas plausível, já a linha 71 possui ano de nascimento 2010 portanto essa pessoa não poderia ter profissão \"Enfermeiro(a)\", o que é reforcado pelos 16 Anos de Experiencia, bem como outros atributos com valores fora do esperado. Assim, é mais seguro remover essa linha como dados inputados incorretamente ou corrompidos.*"
   ]
  },
  {
   "cell_type": "code",
   "execution_count": 10,
   "metadata": {},
   "outputs": [
    {
     "data": {
      "text/plain": [
       "<AxesSubplot:>"
      ]
     },
     "execution_count": 10,
     "metadata": {},
     "output_type": "execute_result"
    },
    {
     "data": {
      "image/png": "[encoded data removed]",
      "text/plain": [
       "<Figure size 432x288 with 1 Axes>"
      ]
     },
     "metadata": {
      "needs_background": "light"
     },
     "output_type": "display_data"
    }
   ],
   "source": [
    "df.boxplot(['Year of Birth'])"
   ]
  },
  {
   "cell_type": "code",
   "execution_count": 11,
   "metadata": {},
   "outputs": [
    {
     "data": {
      "text/html": [
       "<div>\n",
       "<style scoped>\n",
       "    .dataframe tbody tr th:only-of-type {\n",
       "        vertical-align: middle;\n",
       "    }\n",
       "\n",
       "    .dataframe tbody tr th {\n",
       "        vertical-align: top;\n",
       "    }\n",
       "\n",
       "    .dataframe thead th {\n",
       "        text-align: right;\n",
       "    }\n",
       "</style>\n",
       "<table border=\"1\" class=\"dataframe\">\n",
       "  <thead>\n",
       "    <tr style=\"text-align: right;\">\n",
       "      <th></th>\n",
       "      <th>Name</th>\n",
       "      <th>Sex</th>\n",
       "      <th>Year of Birth</th>\n",
       "      <th>Country of Birth</th>\n",
       "      <th>Religion</th>\n",
       "      <th>City</th>\n",
       "      <th>Profession</th>\n",
       "      <th>Years of Experience</th>\n",
       "    </tr>\n",
       "  </thead>\n",
       "  <tbody>\n",
       "    <tr>\n",
       "      <th>15</th>\n",
       "      <td>Vinicius Vitorio</td>\n",
       "      <td>M</td>\n",
       "      <td>1940</td>\n",
       "      <td>Brazil</td>\n",
       "      <td>Christian</td>\n",
       "      <td>São Paulo</td>\n",
       "      <td>Nurse</td>\n",
       "      <td>35.0</td>\n",
       "    </tr>\n",
       "    <tr>\n",
       "      <th>71</th>\n",
       "      <td>Zachary Yates</td>\n",
       "      <td>M</td>\n",
       "      <td>2010</td>\n",
       "      <td>D3</td>\n",
       "      <td>Ac%#</td>\n",
       "      <td>_Dh</td>\n",
       "      <td>Nurse</td>\n",
       "      <td>16.0</td>\n",
       "    </tr>\n",
       "  </tbody>\n",
       "</table>\n",
       "</div>"
      ],
      "text/plain": [
       "                Name Sex  Year of Birth Country of Birth   Religion  \\\n",
       "15  Vinicius Vitorio   M           1940           Brazil  Christian   \n",
       "71     Zachary Yates   M           2010               D3       Ac%#   \n",
       "\n",
       "         City Profession  Years of Experience  \n",
       "15  São Paulo      Nurse                 35.0  \n",
       "71        _Dh      Nurse                 16.0  "
      ]
     },
     "execution_count": 11,
     "metadata": {},
     "output_type": "execute_result"
    }
   ],
   "source": [
    "df[(df['Year of Birth']>1990) | (df['Year of Birth']<1950)]"
   ]
  }
 ],
 "metadata": {
  "kernelspec": {
   "display_name": "Python 3",
   "language": "python",
   "name": "python3"
  },
  "language_info": {
   "codemirror_mode": {
    "name": "ipython",
    "version": 3
   },
   "file_extension": ".py",
   "mimetype": "text/x-python",
   "name": "python",
   "nbconvert_exporter": "python",
   "pygments_lexer": "ipython3",
   "version": "3.9.2"
  }
 },
 "nbformat": 4,
 "nbformat_minor": 4
}
