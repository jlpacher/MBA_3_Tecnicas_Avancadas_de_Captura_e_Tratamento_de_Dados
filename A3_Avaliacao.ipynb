{
 "cells": [
  {
   "cell_type": "markdown",
   "metadata": {},
   "source": [
    "# MBA em Ciência de Dados\n",
    "## Técnicas Avançadas de Captura e Tratamento de Dados\n",
    "\n",
    "\n",
    "### <span style=\"color:darkred\">Módulo III - Aquisição e Transformação de Dados</span>\n",
    "\n",
    "\n",
    "## <span style=\"color:darkred\">Avaliação</span>\n",
    "\n",
    "Moacir Antonelli Ponti\n",
    "\n",
    "CeMEAI - ICMC/USP São Carlos\n",
    "\n",
    "---\n",
    "#### <font color='red'> As respostas devem ser fornecidas no Moodle. O notebook é apenas para a implementação dos códigos que fornecerão as respostas</font>\n",
    "\n",
    "---"
   ]
  },
  {
   "cell_type": "markdown",
   "metadata": {},
   "source": [
    "Antes de iniciar, acesse o portal : https://dados.educacao.sp.gov.br/dataset/fluxo-escolar-por-escola\n",
    "\n",
    "Procure pelo arquivo CSV relativo a \"Fluxo Escolar 2019 - por escola\", arquivo `FLUXO_ESCOLAR_ESCOLA.csv`<br>\n",
    "OBS: esse arquivo estará também no ZIP contendo os dados para esse módulo, caso haja problemas de acesso.\n",
    "\n",
    "O fluxo escolar é medido pela taxa média de aprovação em cada etapa da escolarização, sendo elas as séries iniciais e séries finais do Ensino Fundamental e Ensino Médio, coletadas pelo Censo Escolar.\n",
    "\n",
    "Para saber mais sobre o funcionamento do Fluxo Escolar, visite a página https://dados.educacao.sp.gov.br/story/fluxo\n",
    "\n",
    "Carregue os dados. As colunas possuem significado de acordo com o \"dicionário de dados\" disponível ao visualizar o arquivo no referido site. As colunas são rotuladas da seguinte forma:\n",
    "- Ano: para o qual foi realizado o cálculo do fluxo\n",
    "- CD_DIRETORIA: Código da diretoria de ensino\n",
    "- NM_DIRETORIA: Nome da diretoria de ensino\n",
    "- NM_MUNICIPIO: Nome do Município\n",
    "- CD_REDE_ENSINO: Código da Rede de Ensino (1:Estadual)\n",
    "- CD_ESCOLA: Código da Escola\n",
    "- NM_COMPLETO_ESCOLA: Nome Completo da Escola\n",
    "- CD_TP_IDENTIFICADOR: Código do Tipo de Escola\n",
    "- APR_1: Porcentagem de Alunos Aprovados no Ensino Fundamental - Anos Iniciais no ensino fundamental de 9 anos\n",
    "- REP_1: Porcentagem de Alunos Reprovados no Ensino Fundamental - Anos Iniciais no ensino fundamental de 9 anos\n",
    "- ABA_1: Porcentagem de Alunos com Abandono no Ensino Fundamental - Anos Iniciais no ensino fundamental de 9 anos\n",
    "- APR_2: Porcentagem de Alunos Aprovados no Ensino Fundamental - Anos Finais no ensino fundamental de 9 anos\n",
    "- REP_2: Porcentagem de Alunos Reprovados no Ensino Fundamental - Anos Finais no ensino fundamental de 9 anos\n",
    "- ABA_2: Porcentagem de Alunos com Abandono no Ensino Fundamental - Anos Finais no ensino fundamental de 9 anos\n",
    "- APR_3: Porcentagem de Alunos Aprovados no Ensino Médio\n",
    "- REP_3: Porcentagem de Alunos Reprovados no Ensino Médio\n",
    "- ABA_3: Porcentagem de Alunos com Abandono no Ensino Médio"
   ]
  },
  {
   "cell_type": "code",
   "execution_count": 1,
   "metadata": {},
   "outputs": [
    {
     "name": "stdout",
     "output_type": "stream",
     "text": [
      "atributos:  16\n",
      "linhas:  5220\n"
     ]
    }
   ],
   "source": [
    "# carregando as bibliotecas necessárias\n",
    "import numpy as np\n",
    "import matplotlib.pyplot as plt\n",
    "import pandas as pd\n",
    "# carregando dados\n",
    "dc = pd.read_csv(\"./dados/FLUXO_ESCOLAR_ESCOLA.csv\", sep=',')\n",
    "ncols = dc.shape[1]\n",
    "print(\"atributos: \", ncols)\n",
    "print(\"linhas: \", dc.shape[0])"
   ]
  },
  {
   "cell_type": "markdown",
   "metadata": {},
   "source": [
    "### Questão 1)\n",
    " \n",
    "Considere os seguintes problemas e a natureza dos seus respectivos dados:\n",
    "\n",
    "I - Uma sequência de dados de um sensor de temperatura, com valores em Celsius coletados e armazenados a cada 2 horas. Utilizando o histórico de 1 ano de observações anteriores até o dia atual, se intenciona predizer a temperatura nas próximas 24 horas.<br>\n",
    "II - Uma base de dados contendo informações sobre livros (gênero, número de páginas, autor, ano de lançamento, país de origem, entre outros) e as avaliações desses livros (nota de 1 a 5) obtidos junto a leitores do fã clube de Harry Potter de Minas Gerais, com a qual se intenciona predizer qual seria a nota de um livro sendo considerado para publicação por uma editora, permitindo predizer o potencial desse novo livro para o público brasileiro.<br>\n",
    "III - Numa base de dados de um e-commerce contendo informações sobre clientes e seus padrões de compras, foi feita uma segmentação manual de milhares de clientes em 5 categorias. Deseja-se treinar modelos para aprender a classificar novos clientes em uma dessas categorias.<br>\n",
    "\n",
    "Podemos utilizar métodos que assumam dados do tipo i.i.d. (independente e identicamente distribuídos) e garantir que esses métodos irão obter conclusões válidas em quais dos casos?\n",
    "\n",
    "<font color='red'>(a) III<br></font>\n",
    "(b) I e III<br>\n",
    "(c) I<br>\n",
    "(d) II<br>"
   ]
  },
  {
   "cell_type": "markdown",
   "metadata": {},
   "source": [
    "I - Séries Temporais não são iid pois cada exemplo ou amostra é dependente do exemplo anterior.   \n",
    "II - Nesse caso há um viés de seleção ou amostragem de conveniência, não tendo sido levada em conta toda a população de interesse. A amostragem de leitores do fã clube de Harry Potter de Minas Gerais não permite predizer o potencial para todo o Brasil nem de outros gêneros.\n",
    "Viés de amostragem   \n",
    ". considerado frequentemente o mais perigoso   \n",
    ". muitos métodos consideram premissas sobre a amostragem   \n",
    ". frequentemente i.i.d. (independente e identicamente distribuída)"
   ]
  },
  {
   "cell_type": "markdown",
   "metadata": {},
   "source": [
    "### Questão 2)\n",
    " \n",
    "Compute a média das variáveis ABA_1, ABA_2 e ABA_3 e adicione essa média como um novo atributo ABA_MED à base de dados. Substitua por nulo (`nan`) os valores onde 'ABA_MED' seja igual a 0. Realize a **discretização** da variável 'ABA_MED' utilizando:\n",
    "1. o método dos quantis, utilizando 7 intervalos alvo\n",
    "2. o método dos intervalos, utilizando 6 intervalos alvo: (0, 1] (1, 5] (5, 10] (10, 25] (25, 50] (50, max(ABA_MED)],\n",
    "em que max(ABA_MED) é o maior valor desse atributo\n",
    "\n",
    "Use o método qcut() para o item 1 e cut() para o item 2\n",
    "\n",
    "Adicione essa novas variáveis na base, com os nomes 'ABA_Q' (quantis) e 'ABA_I' (intervalos)\n",
    "\n",
    "Qual é a quantidade de dados (frequências dos valores discretizados) na base após a discretização, relativos ao primeiro intervalo (com os menores valores) e ao último intervalo (com os maiores valores) para, respectivamente, ABA_Q e ABA_I?\n",
    "\n",
    "(a) ABA_Q: primeiro -0.004, último 423. ABA_I: primeiro 1, último 431<br>\n",
    "(b) ABA_Q: primeiro 423, último 431. ABA_I: primeiro 1612, último 4<br>\n",
    "(c) ABA_Q: primeiro 431, último 3099. ABA_I: primeiro 1612, último 0<br>\n",
    "<font color='red'>(d) ABA_Q: primeiro 431, último 423. ABA_I: primeiro 1612, último 1<br></font>"
   ]
  },
  {
   "cell_type": "code",
   "execution_count": 2,
   "metadata": {},
   "outputs": [
    {
     "name": "stdout",
     "output_type": "stream",
     "text": [
      "Menor valor: -0.0033333333333333335\n",
      "Maior valor: 53.71666666666667\n"
     ]
    },
    {
     "data": {
      "text/plain": [
       "<matplotlib.axes._subplots.AxesSubplot at 0x23c1e9e3e50>"
      ]
     },
     "execution_count": 2,
     "metadata": {},
     "output_type": "execute_result"
    },
    {
     "data": {
      "image/png": "[encoded data removed]",
      "text/plain": [
       "<Figure size 432x288 with 1 Axes>"
      ]
     },
     "metadata": {
      "needs_background": "light"
     },
     "output_type": "display_data"
    }
   ],
   "source": [
    "# Criando a nova coluna e inputando os valores\n",
    "dc['ABA_MED'] = (dc['ABA_1']+dc['ABA_2']+dc['ABA_3'])/3\n",
    "\n",
    "# substituindo por nulo (nan) onde 'ABA_MED' = 0\n",
    "dc.loc[dc['ABA_MED']==0, 'ABA_MED'] = np.nan\n",
    "\n",
    "# boxplot de 'ABA_MED'\n",
    "print('Menor valor:', (dc['ABA_MED']).min())\n",
    "print('Maior valor:', (dc['ABA_MED']).max())\n",
    "atts = 'ABA_MED'\n",
    "dc.boxplot(atts)"
   ]
  },
  {
   "cell_type": "code",
   "execution_count": 3,
   "metadata": {},
   "outputs": [
    {
     "name": "stdout",
     "output_type": "stream",
     "text": [
      "category\n",
      "(-0.0043300000000000005, 0.143]    431\n",
      "(0.617, 1.09]                      431\n",
      "(1.766, 2.91]                      425\n",
      "(0.314, 0.617]                     424\n",
      "(2.91, 53.717]                     423\n",
      "(0.143, 0.314]                     417\n",
      "(1.09, 1.766]                      415\n",
      "Name: ABA_Q, dtype: int64\n"
     ]
    },
    {
     "data": {
      "text/plain": [
       "<matplotlib.axes._subplots.AxesSubplot at 0x23c1f1fe490>"
      ]
     },
     "execution_count": 3,
     "metadata": {},
     "output_type": "execute_result"
    },
    {
     "data": {
      "image/png": "[encoded data removed]",
      "text/plain": [
       "<Figure size 432x288 with 1 Axes>"
      ]
     },
     "metadata": {
      "needs_background": "light"
     },
     "output_type": "display_data"
    }
   ],
   "source": [
    "# discretização de 'ABA_MED' pelo método dos quartis, 7 intervalos\n",
    "\n",
    "# realizar discretizacao e armazenar\n",
    "aba_quartil =  pd.qcut(dc['ABA_MED'], 7)#, labels=labels)\n",
    "# inserir nova coluna\n",
    "ncols = dc.shape[1]\n",
    "dc.insert(ncols, 'ABA_Q', aba_quartil)\n",
    "\n",
    "# exibir o tipo da coluna e valores\n",
    "print(dc['ABA_Q'].dtype.name)\n",
    "print(dc['ABA_Q'].value_counts())\n",
    "dc['ABA_Q'].value_counts().plot(kind='bar')"
   ]
  },
  {
   "cell_type": "code",
   "execution_count": 4,
   "metadata": {},
   "outputs": [
    {
     "name": "stdout",
     "output_type": "stream",
     "text": [
      "category\n",
      "(0.0, 1.0]        1612\n",
      "(1.0, 5.0]        1226\n",
      "(5.0, 10.0]        113\n",
      "(10.0, 25.0]         3\n",
      "(50.0, 53.717]       1\n",
      "(25.0, 50.0]         0\n",
      "Name: ABA_I, dtype: int64\n"
     ]
    },
    {
     "data": {
      "text/plain": [
       "<matplotlib.axes._subplots.AxesSubplot at 0x23c1f1f8850>"
      ]
     },
     "execution_count": 4,
     "metadata": {},
     "output_type": "execute_result"
    },
    {
     "data": {
      "image/png": "[encoded data removed]",
      "text/plain": [
       "<Figure size 432x288 with 1 Axes>"
      ]
     },
     "metadata": {
      "needs_background": "light"
     },
     "output_type": "display_data"
    }
   ],
   "source": [
    "# discretização de 'ABA_MED' pelo método dos intervalos, utilizando 6 intervalos alvo:\n",
    "# (0, 1] (1, 5] (5, 10] (10, 25] (25, 50] (50, max(ABA_MED)], em que max(ABA_MED) é o maior valor desse atributo\n",
    "# notar que existem 11 negativos que serão desprezados nessa discretização\n",
    "\n",
    "# interv_aba = [0, 1, 5, 10, 25, 50, max(dc['ABA_MED'])]\n",
    "interv_aba = [0, 1, 5, 10, 25, 50, dc['ABA_MED'].max()]\n",
    "\n",
    "# realizar discretizacao e armazenar\n",
    "aba_intervalos = pd.cut(dc['ABA_MED'], bins=interv_aba)\n",
    "\n",
    "# inserir nova coluna\n",
    "ncols = dc.shape[1]             \n",
    "dc.insert(ncols, 'ABA_I', aba_intervalos)\n",
    "\n",
    "# exibir o tipo da coluna\n",
    "print(dc['ABA_I'].dtype.name)\n",
    "print(dc['ABA_I'].value_counts())\n",
    "dc['ABA_I'].value_counts().plot(kind='bar') "
   ]
  },
  {
   "cell_type": "markdown",
   "metadata": {},
   "source": [
    "### Questão 3)\n",
    "\n",
    "\n",
    "Normalize 2 variáveis da base: ABA_MED e APR_3\n",
    "* APR_3 utilizando normalização min-max com mínimo 0 e máximo 1\n",
    "* ABA_MED utilizando normalização robusta\n",
    "\n",
    "Para isso, codifique funções que recebam uma coluna por parâmetro e retornem um atributo já normalizado\n",
    "\n",
    "Depois, aplique as funções e crie novas variáveis com os atributos normalizados: APR_3_01 e ABA_MED_nr.\n",
    "\n",
    "Após a normalização, quais os valores de média, desvio padrão, mínimo e máximo dessas novas variáveis, arredondando para 1 casa decimal?\n",
    "\n",
    "(a) APR_3_01: 0.0, 1.0, 0.0, 1.0; ABA_MED_nr: 0.3, 1.1, -0.5, 30.8<br>\n",
    "(b) APR_3_01: 0.7, 0.4, 0.0, 1.0; ABA_MED_nr: 0.3, 0.7, -1.0, 53.8<br>\n",
    "(c) APR_3_01: 0.0, 1.0, 0.0, 1.0; ABA_MED_nr: 0.3, 0.7, -1.0, 53.8<br>\n",
    "<font color='red'>(d) APR_3_01: 0.7, 0.4, 0.0, 1.0; ABA_MED_nr: 0.3, 1.1, -0.5, 30.8<br></font>"
   ]
  },
  {
   "cell_type": "code",
   "execution_count": 5,
   "metadata": {},
   "outputs": [
    {
     "data": {
      "text/plain": [
       "<matplotlib.axes._subplots.AxesSubplot at 0x23c1f2ded00>"
      ]
     },
     "execution_count": 5,
     "metadata": {},
     "output_type": "execute_result"
    },
    {
     "data": {
      "image/png": "[encoded data removed]",
      "text/plain": [
       "<Figure size 432x288 with 1 Axes>"
      ]
     },
     "metadata": {
      "needs_background": "light"
     },
     "output_type": "display_data"
    }
   ],
   "source": [
    "att = ['ABA_MED', 'APR_3']\n",
    "dc.boxplot(att)"
   ]
  },
  {
   "cell_type": "code",
   "execution_count": 6,
   "metadata": {},
   "outputs": [],
   "source": [
    "# função para normalização pelo método z-score\n",
    "def norm_zscore(att):\n",
    "    # computa média e desvio padrao\n",
    "    var_mean = att.mean()\n",
    "    var_sigm = att.std()\n",
    "    # computa normalização\n",
    "    att_norm = (att - var_mean) / var_sigm\n",
    "    return att_norm\n",
    "\n",
    "# função para normalização pelo método min-max p/ o intervalo 0-1\n",
    "def norm_minmax_0_1(att):\n",
    "    # computa o mínimo e o máximo\n",
    "    var_min = att.min()\n",
    "    var_max = att.max()\n",
    "    # computa normalização\n",
    "    att_norm = (att - var_min) / (var_max - var_min)\n",
    "    return att_norm\n",
    "\n",
    "# função para normalização pelo método robusto\n",
    "def norm_robusta(att):\n",
    "    # computa a mediana os os quartis\n",
    "    var_median = att.median()\n",
    "    q25 = att.quantile(0.25)\n",
    "    q75 = att.quantile(0.75)\n",
    "    # computa normalização\n",
    "    att_norm = (att - var_median) / (q75 - q25)\n",
    "    return att_norm\n",
    "\n",
    "# função para normalização pela norma L-infinito \n",
    "def norm_linf(att):\n",
    "    # computa o máximo\n",
    "    var_max = att.max()\n",
    "    # computa normalização\n",
    "    att_norm = (att) / (var_max)\n",
    "    return att_norm"
   ]
  },
  {
   "cell_type": "code",
   "execution_count": 7,
   "metadata": {},
   "outputs": [],
   "source": [
    "# normalizando\n",
    "dc['APR_3_01'] = norm_minmax_0_1(dc['APR_3'])\n",
    "dc['ABA_MED_nr'] = norm_robusta(dc['ABA_MED'])"
   ]
  },
  {
   "cell_type": "code",
   "execution_count": 8,
   "metadata": {},
   "outputs": [
    {
     "name": "stdout",
     "output_type": "stream",
     "text": [
      "APR_3_01\n"
     ]
    },
    {
     "data": {
      "text/plain": [
       "count    5220.0\n",
       "mean        0.7\n",
       "std         0.4\n",
       "min         0.0\n",
       "max         1.0\n",
       "Name: APR_3_01, dtype: float64"
      ]
     },
     "execution_count": 8,
     "metadata": {},
     "output_type": "execute_result"
    }
   ],
   "source": [
    "print(dc.columns.values[-2])\n",
    "round(dc['APR_3_01'].describe()[[0,1,2,3,7]], 1)"
   ]
  },
  {
   "cell_type": "code",
   "execution_count": 9,
   "metadata": {},
   "outputs": [
    {
     "name": "stdout",
     "output_type": "stream",
     "text": [
      "ABA_MED_nr\n"
     ]
    },
    {
     "data": {
      "text/plain": [
       "count    2966.0\n",
       "mean        0.3\n",
       "std         1.1\n",
       "min        -0.5\n",
       "max        30.8\n",
       "Name: ABA_MED_nr, dtype: float64"
      ]
     },
     "execution_count": 9,
     "metadata": {},
     "output_type": "execute_result"
    }
   ],
   "source": [
    "print(dc.columns.values[-1])\n",
    "round(dc['ABA_MED_nr'].describe()[[0,1,2,3,7]], 1)"
   ]
  },
  {
   "cell_type": "markdown",
   "metadata": {},
   "source": [
    "### Questão 4)\n",
    " \n",
    " Transforme os atributos 'ABA_2' e 'ABA_MED' por meio da função da raiz quadrada. Para isso:\n",
    "1. Faça uma cópia da base de dados, e nessa cópia remova todas as linhas cujos atributos possuem valor 0 ou Nulos (`NaN`) em 'ABA_2' ou 'ABA_MED'\n",
    "2. Considerando os atributos 'ABA_2' e 'ABA_MED' transforme-os esses utilizando a operação da raiz quadrada no seguinte formato. Seja $x$ o atributo original, obtemos a sua versão transformada:\n",
    "$$x' = \\sqrt{x+1}$$\n",
    "e os adicione à base de dados com novos nomes, ex. 'sqrtABA_2' e  'sqrtABA_MED',\n",
    "3. Calcule a correlação entre os atributos após a transformação do passo 2 (utilize o método `.corr()`)\n",
    "\n",
    "Qual o valor obtido da correlação entre essas novas variáveis ('sqrtABA_2' e 'sqrtABA_MED') ao arredondar para 2 casas decimais?\n",
    "\n",
    "(a) 0.85<br>\n",
    "<font color='red'>(b) 0.81<br></font>\n",
    "(c) 0.77<br>\n",
    "(d) 1.0<br>"
   ]
  },
  {
   "cell_type": "code",
   "execution_count": 10,
   "metadata": {},
   "outputs": [
    {
     "data": {
      "text/plain": [
       "array([[<matplotlib.axes._subplots.AxesSubplot object at 0x0000023C1BBC6CD0>,\n",
       "        <matplotlib.axes._subplots.AxesSubplot object at 0x0000023C1F3B0A00>]],\n",
       "      dtype=object)"
      ]
     },
     "execution_count": 10,
     "metadata": {},
     "output_type": "execute_result"
    },
    {
     "data": {
      "image/png": "[encoded data removed]",
      "text/plain": [
       "<Figure size 432x288 with 2 Axes>"
      ]
     },
     "metadata": {
      "needs_background": "light"
     },
     "output_type": "display_data"
    }
   ],
   "source": [
    "atts = ['ABA_2', 'ABA_MED']\n",
    "dc[atts].hist()"
   ]
  },
  {
   "cell_type": "code",
   "execution_count": 11,
   "metadata": {},
   "outputs": [],
   "source": [
    "# cópia da base de dados, e remoção das linhas com valor 0 ou Nulos (NaN) em 'ABA_2' ou 'ABA_MED'\n",
    "dc2 = dc.copy()\n",
    "dc2 = dc2[(~dc2['ABA_2'].isna()) & (~dc2['ABA_MED'].isna()) & (dc2['ABA_2']!=0) & (dc2['ABA_MED']!=0)]"
   ]
  },
  {
   "cell_type": "code",
   "execution_count": 16,
   "metadata": {},
   "outputs": [],
   "source": [
    "# função para transformação pela raiz quadrada sqrt(x+1) \n",
    "def sqrt_x_mais_1(att):\n",
    "    # computa transformação\n",
    "    att_sqrt = np.sqrt(att+1)\n",
    "    return att_sqrt"
   ]
  },
  {
   "cell_type": "code",
   "execution_count": 17,
   "metadata": {},
   "outputs": [],
   "source": [
    "# transformando\n",
    "dc2['sqrtABA_2'] = sqrt_x_mais_1(dc2['ABA_2'])\n",
    "dc2['sqrtABA_MED'] = sqrt_x_mais_1(dc2['ABA_MED'])"
   ]
  },
  {
   "cell_type": "code",
   "execution_count": 18,
   "metadata": {},
   "outputs": [
    {
     "data": {
      "text/html": [
       "<div>\n",
       "<style scoped>\n",
       "    .dataframe tbody tr th:only-of-type {\n",
       "        vertical-align: middle;\n",
       "    }\n",
       "\n",
       "    .dataframe tbody tr th {\n",
       "        vertical-align: top;\n",
       "    }\n",
       "\n",
       "    .dataframe thead th {\n",
       "        text-align: right;\n",
       "    }\n",
       "</style>\n",
       "<table border=\"1\" class=\"dataframe\">\n",
       "  <thead>\n",
       "    <tr style=\"text-align: right;\">\n",
       "      <th></th>\n",
       "      <th>sqrtABA_2</th>\n",
       "      <th>sqrtABA_MED</th>\n",
       "    </tr>\n",
       "  </thead>\n",
       "  <tbody>\n",
       "    <tr>\n",
       "      <th>sqrtABA_2</th>\n",
       "      <td>1.00</td>\n",
       "      <td>0.81</td>\n",
       "    </tr>\n",
       "    <tr>\n",
       "      <th>sqrtABA_MED</th>\n",
       "      <td>0.81</td>\n",
       "      <td>1.00</td>\n",
       "    </tr>\n",
       "  </tbody>\n",
       "</table>\n",
       "</div>"
      ],
      "text/plain": [
       "             sqrtABA_2  sqrtABA_MED\n",
       "sqrtABA_2         1.00         0.81\n",
       "sqrtABA_MED       0.81         1.00"
      ]
     },
     "execution_count": 18,
     "metadata": {},
     "output_type": "execute_result"
    }
   ],
   "source": [
    "# correlação entre os atributos\n",
    "attrs = ['ABA_2','ABA_MED', 'sqrtABA_2', 'sqrtABA_MED']\n",
    "attrs = ['sqrtABA_2', 'sqrtABA_MED']\n",
    "round(dc2[attrs].corr(), 2)"
   ]
  },
  {
   "cell_type": "markdown",
   "metadata": {},
   "source": [
    "### Questão 5)\n",
    " \n",
    "Utilize a base de dados antes da modificação feita na Questão 4. Codifique a variável categórica 'ABA_Q' para o tipo categórica ordinal e 'NM_MUNICIPIO:' para categórica nominal:\n",
    "* Para ABA_Q use números inteiros sequenciais, iniciados por 0, para codificar a variável na ordem dos valores dos intervalos e gere um novo atributo ABA_Q_cod. \n",
    "* Para NM_MUNICIPIO use números inteiros sequenciais, iniciados por 0 para codificar a variável em ordem alfabética, e gere um novo atributo NM_MUN_cod. \n",
    "\n",
    "Observação: aqui a intenção é que o atributo codificação tenha relação com a ordem alfabética do município. Se a intenção fosse a de posteriormente aplicar métodos que realizam comparação por distância independente da ordem alfabética, a codificação ideal seria one-hot-encoding/dummy variables.\n",
    "\n",
    "Use a função `value_counts()` para mostrar a frequência dos códigos de ABA_Q_cod e NM_MUN_cod. Responda abaixo quais **valores discretos** (após codificação realizada) possuem a maior frequência (maior contagem):\n",
    "\n",
    "(a) NM_MUN_cod: código 1124;  ABA_Q_cod: códigos 0 e 2<br>\n",
    "(b) NM_MUN_cod: código 563;  ABA_Q_cod: código 0 e 1<br>\n",
    "(c) NM_MUN_cod: código 1124;  ABA_Q_cod: códigos 0 e 1<br>\n",
    "<font color='red'>(d) NM_MUN_cod: código 563;  ABA_Q_cod: códigos 0 e 3<br></font>"
   ]
  },
  {
   "cell_type": "code",
   "execution_count": 144,
   "metadata": {},
   "outputs": [
    {
     "data": {
      "text/plain": [
       "(-0.0043300000000000005, 0.143]    431\n",
       "(0.617, 1.09]                      431\n",
       "(1.766, 2.91]                      425\n",
       "(0.314, 0.617]                     424\n",
       "(2.91, 53.717]                     423\n",
       "(0.143, 0.314]                     417\n",
       "(1.09, 1.766]                      415\n",
       "Name: ABA_Q, dtype: int64"
      ]
     },
     "execution_count": 144,
     "metadata": {},
     "output_type": "execute_result"
    }
   ],
   "source": [
    "# Codificando a variável categórica 'ABA_Q' para categórica ordinal\n",
    "dc['ABA_Q'].value_counts()"
   ]
  },
  {
   "cell_type": "code",
   "execution_count": 154,
   "metadata": {
    "scrolled": true
   },
   "outputs": [
    {
     "name": "stdout",
     "output_type": "stream",
     "text": [
      "[Interval(-0.0043300000000000005, 0.143, closed='right')\n",
      " Interval(0.143, 0.314, closed='right')\n",
      " Interval(0.314, 0.617, closed='right')\n",
      " Interval(0.617, 1.09, closed='right')\n",
      " Interval(1.09, 1.766, closed='right')\n",
      " Interval(1.766, 2.91, closed='right')\n",
      " Interval(2.91, 53.717, closed='right')]\n",
      "[0 1 2 3 4 5 6]\n"
     ]
    }
   ],
   "source": [
    "# criando uma lista para categorização por números inteiros sequenciais, iniciados por 0\n",
    "cat_ABA_Q = np.sort(dc.loc[dc['ABA_Q'].notnull(), 'ABA_Q'].unique())\n",
    "num_recurso = np.arange(cat_ABA_Q.shape[0])\n",
    "print(cat_ABA_Q)\n",
    "print(num_recurso)"
   ]
  },
  {
   "cell_type": "code",
   "execution_count": 155,
   "metadata": {},
   "outputs": [
    {
     "name": "stdout",
     "output_type": "stream",
     "text": [
      "\n",
      "Dicionário:\n",
      "{Interval(-0.0043300000000000005, 0.143, closed='right'): 0, Interval(0.143, 0.314, closed='right'): 1, Interval(0.314, 0.617, closed='right'): 2, Interval(0.617, 1.09, closed='right'): 3, Interval(1.09, 1.766, closed='right'): 4, Interval(1.766, 2.91, closed='right'): 5, Interval(2.91, 53.717, closed='right'): 6}\n"
     ]
    },
    {
     "data": {
      "text/html": [
       "<div>\n",
       "<style scoped>\n",
       "    .dataframe tbody tr th:only-of-type {\n",
       "        vertical-align: middle;\n",
       "    }\n",
       "\n",
       "    .dataframe tbody tr th {\n",
       "        vertical-align: top;\n",
       "    }\n",
       "\n",
       "    .dataframe thead th {\n",
       "        text-align: right;\n",
       "    }\n",
       "</style>\n",
       "<table border=\"1\" class=\"dataframe\">\n",
       "  <thead>\n",
       "    <tr style=\"text-align: right;\">\n",
       "      <th></th>\n",
       "      <th>ABA_Q_cod</th>\n",
       "      <th>ABA_Q</th>\n",
       "    </tr>\n",
       "  </thead>\n",
       "  <tbody>\n",
       "    <tr>\n",
       "      <th>0</th>\n",
       "      <td>NaN</td>\n",
       "      <td>NaN</td>\n",
       "    </tr>\n",
       "    <tr>\n",
       "      <th>1</th>\n",
       "      <td>NaN</td>\n",
       "      <td>NaN</td>\n",
       "    </tr>\n",
       "    <tr>\n",
       "      <th>2</th>\n",
       "      <td>NaN</td>\n",
       "      <td>NaN</td>\n",
       "    </tr>\n",
       "    <tr>\n",
       "      <th>3</th>\n",
       "      <td>NaN</td>\n",
       "      <td>NaN</td>\n",
       "    </tr>\n",
       "    <tr>\n",
       "      <th>4</th>\n",
       "      <td>NaN</td>\n",
       "      <td>NaN</td>\n",
       "    </tr>\n",
       "  </tbody>\n",
       "</table>\n",
       "</div>"
      ],
      "text/plain": [
       "  ABA_Q_cod ABA_Q\n",
       "0       NaN   NaN\n",
       "1       NaN   NaN\n",
       "2       NaN   NaN\n",
       "3       NaN   NaN\n",
       "4       NaN   NaN"
      ]
     },
     "execution_count": 155,
     "metadata": {},
     "output_type": "execute_result"
    }
   ],
   "source": [
    "# criando um dicionário para categorizar a variável segundo sua ordenação\n",
    "map_recurso = dict(zip(cat_ABA_Q, num_recurso))\n",
    "print(\"\\nDicionário:\")\n",
    "print(map_recurso)\n",
    "# a partir do dicionário criar um mapa entre os valores existentes e a nova coluna com valores numéricos\n",
    "dc['ABA_Q_cod'] = dc['ABA_Q'].map(map_recurso)\n",
    "dc[['ABA_Q_cod', 'ABA_Q']].tail()"
   ]
  },
  {
   "cell_type": "code",
   "execution_count": 160,
   "metadata": {},
   "outputs": [
    {
     "data": {
      "text/plain": [
       "SAO PAULO      1116\n",
       "GUARULHOS       170\n",
       "CAMPINAS        165\n",
       "SANTO ANDRE      89\n",
       "SOROCABA         82\n",
       "               ... \n",
       "MOTUCA            1\n",
       "PIRATININGA       1\n",
       "MARINOPOLIS       1\n",
       "SALES             1\n",
       "ELISIARIO         1\n",
       "Name: NM_MUNICIPIO, Length: 644, dtype: int64"
      ]
     },
     "execution_count": 160,
     "metadata": {},
     "output_type": "execute_result"
    }
   ],
   "source": [
    "# Codificando a variável categórica 'NM_MUNICIPIO' para categórica nominal'\n",
    "dc['NM_MUNICIPIO'].value_counts()"
   ]
  },
  {
   "cell_type": "code",
   "execution_count": 161,
   "metadata": {},
   "outputs": [
    {
     "data": {
      "text/html": [
       "<div>\n",
       "<style scoped>\n",
       "    .dataframe tbody tr th:only-of-type {\n",
       "        vertical-align: middle;\n",
       "    }\n",
       "\n",
       "    .dataframe tbody tr th {\n",
       "        vertical-align: top;\n",
       "    }\n",
       "\n",
       "    .dataframe thead th {\n",
       "        text-align: right;\n",
       "    }\n",
       "</style>\n",
       "<table border=\"1\" class=\"dataframe\">\n",
       "  <thead>\n",
       "    <tr style=\"text-align: right;\">\n",
       "      <th></th>\n",
       "      <th>NM_MUN_cod</th>\n",
       "      <th>NM_MUNICIPIO</th>\n",
       "    </tr>\n",
       "  </thead>\n",
       "  <tbody>\n",
       "    <tr>\n",
       "      <th>746</th>\n",
       "      <td>64</td>\n",
       "      <td>BARUERI</td>\n",
       "    </tr>\n",
       "    <tr>\n",
       "      <th>805</th>\n",
       "      <td>266</td>\n",
       "      <td>ITAQUAQUECETUBA</td>\n",
       "    </tr>\n",
       "    <tr>\n",
       "      <th>3911</th>\n",
       "      <td>332</td>\n",
       "      <td>MAUA</td>\n",
       "    </tr>\n",
       "    <tr>\n",
       "      <th>704</th>\n",
       "      <td>604</td>\n",
       "      <td>TATUI</td>\n",
       "    </tr>\n",
       "    <tr>\n",
       "      <th>4019</th>\n",
       "      <td>233</td>\n",
       "      <td>IGUAPE</td>\n",
       "    </tr>\n",
       "  </tbody>\n",
       "</table>\n",
       "</div>"
      ],
      "text/plain": [
       "      NM_MUN_cod     NM_MUNICIPIO\n",
       "746           64          BARUERI\n",
       "805          266  ITAQUAQUECETUBA\n",
       "3911         332             MAUA\n",
       "704          604            TATUI\n",
       "4019         233           IGUAPE"
      ]
     },
     "execution_count": 161,
     "metadata": {},
     "output_type": "execute_result"
    }
   ],
   "source": [
    "# codificando 'NM_MUNICIPIO' com núm.inteiros sequenciais, iniciados por 0 para codificar a variável em ordem alfabética\n",
    "# Nan = -1\n",
    "dc['NM_MUN_cod'] = dc['NM_MUNICIPIO'].astype(\"category\").cat.codes\n",
    "dc[['NM_MUN_cod', 'NM_MUNICIPIO']].sample(5)"
   ]
  },
  {
   "cell_type": "code",
   "execution_count": 162,
   "metadata": {},
   "outputs": [
    {
     "name": "stdout",
     "output_type": "stream",
     "text": [
      "0    431\n",
      "3    431\n",
      "5    425\n",
      "2    424\n",
      "6    423\n",
      "1    417\n",
      "4    415\n",
      "Name: ABA_Q_cod, dtype: int64\n",
      "563    1116\n",
      "214     170\n",
      "108     165\n",
      "535      89\n",
      "582      82\n",
      "       ... \n",
      "616       1\n",
      "620       1\n",
      "624       1\n",
      "246       1\n",
      "643       1\n",
      "Name: NM_MUN_cod, Length: 644, dtype: int64\n"
     ]
    }
   ],
   "source": [
    "# códigos numéricos com maior contagem\n",
    "print(dc['ABA_Q_cod'].value_counts())\n",
    "print(dc['NM_MUN_cod'].value_counts())"
   ]
  },
  {
   "cell_type": "code",
   "execution_count": null,
   "metadata": {},
   "outputs": [],
   "source": []
  }
 ],
 "metadata": {
  "kernelspec": {
   "display_name": "Python 3",
   "language": "python",
   "name": "python3"
  },
  "language_info": {
   "codemirror_mode": {
    "name": "ipython",
    "version": 3
   },
   "file_extension": ".py",
   "mimetype": "text/x-python",
   "name": "python",
   "nbconvert_exporter": "python",
   "pygments_lexer": "ipython3",
   "version": "3.8.10"
  }
 },
 "nbformat": 4,
 "nbformat_minor": 4
}
