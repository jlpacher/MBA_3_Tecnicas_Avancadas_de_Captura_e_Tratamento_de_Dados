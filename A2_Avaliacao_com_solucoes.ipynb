{
 "cells": [
  {
   "cell_type": "markdown",
   "metadata": {},
   "source": [
    "# MBA em Ciência de Dados\n",
    "# Técnicas Avançadas de Captura e Tratamento de Dados\n",
    "\n",
    "### <span style=\"color:darkred\">Módulo II - Tratamento e limpeza de Dados</span>\n",
    "\n",
    "\n",
    "### <span style=\"color:darkred\">Avaliação com soluções</span>\n",
    "\n",
    "Moacir Antonelli Ponti\n",
    "\n",
    "CeMEAI - ICMC/USP São Carlos\n",
    "\n",
    "---"
   ]
  },
  {
   "cell_type": "code",
   "execution_count": 47,
   "metadata": {},
   "outputs": [
    {
     "data": {
      "text/html": [
       "<div>\n",
       "<style scoped>\n",
       "    .dataframe tbody tr th:only-of-type {\n",
       "        vertical-align: middle;\n",
       "    }\n",
       "\n",
       "    .dataframe tbody tr th {\n",
       "        vertical-align: top;\n",
       "    }\n",
       "\n",
       "    .dataframe thead th {\n",
       "        text-align: right;\n",
       "    }\n",
       "</style>\n",
       "<table border=\"1\" class=\"dataframe\">\n",
       "  <thead>\n",
       "    <tr style=\"text-align: right;\">\n",
       "      <th></th>\n",
       "      <th>gid</th>\n",
       "      <th>UF</th>\n",
       "      <th>nome</th>\n",
       "      <th>Censo</th>\n",
       "      <th>PIB</th>\n",
       "      <th>Pop_est_2009</th>\n",
       "      <th>PIB_percapita</th>\n",
       "      <th>Descrição</th>\n",
       "      <th>classe</th>\n",
       "      <th>desemprego</th>\n",
       "    </tr>\n",
       "  </thead>\n",
       "  <tbody>\n",
       "    <tr>\n",
       "      <th>0</th>\n",
       "      <td>215</td>\n",
       "      <td>BAHIA</td>\n",
       "      <td>Tremedal</td>\n",
       "      <td>2010</td>\n",
       "      <td>5.788399e+04</td>\n",
       "      <td>18433</td>\n",
       "      <td>3140.239990</td>\n",
       "      <td>Produto Interno Bruto per capita</td>\n",
       "      <td>1</td>\n",
       "      <td>9.3</td>\n",
       "    </tr>\n",
       "    <tr>\n",
       "      <th>1</th>\n",
       "      <td>306</td>\n",
       "      <td>RIO GRANDE DO SUL</td>\n",
       "      <td>Turuçu</td>\n",
       "      <td>2010</td>\n",
       "      <td>4.572388e+04</td>\n",
       "      <td>4000</td>\n",
       "      <td>11430.969727</td>\n",
       "      <td>Produto Interno Bruto per capita</td>\n",
       "      <td>2</td>\n",
       "      <td>4.9</td>\n",
       "    </tr>\n",
       "    <tr>\n",
       "      <th>2</th>\n",
       "      <td>900</td>\n",
       "      <td>ESPIRITO SANTO</td>\n",
       "      <td>Vitória</td>\n",
       "      <td>2010</td>\n",
       "      <td>1.978263e+07</td>\n",
       "      <td>320156</td>\n",
       "      <td>61790.589844</td>\n",
       "      <td>Produto Interno Bruto per capita</td>\n",
       "      <td>4</td>\n",
       "      <td>8.3</td>\n",
       "    </tr>\n",
       "    <tr>\n",
       "      <th>3</th>\n",
       "      <td>3613</td>\n",
       "      <td>MINAS GERAIS</td>\n",
       "      <td>Jacutinga</td>\n",
       "      <td>2010</td>\n",
       "      <td>2.478160e+05</td>\n",
       "      <td>21424</td>\n",
       "      <td>11567.209961</td>\n",
       "      <td>Produto Interno Bruto per capita</td>\n",
       "      <td>2</td>\n",
       "      <td>5.0</td>\n",
       "    </tr>\n",
       "    <tr>\n",
       "      <th>4</th>\n",
       "      <td>1028</td>\n",
       "      <td>PIAUÍ</td>\n",
       "      <td>Nazária</td>\n",
       "      <td>2010</td>\n",
       "      <td>2.095138e+04</td>\n",
       "      <td>7895</td>\n",
       "      <td>2653.750000</td>\n",
       "      <td>Produto Interno Bruto per capita</td>\n",
       "      <td>1</td>\n",
       "      <td>6.8</td>\n",
       "    </tr>\n",
       "    <tr>\n",
       "      <th>...</th>\n",
       "      <td>...</td>\n",
       "      <td>...</td>\n",
       "      <td>...</td>\n",
       "      <td>...</td>\n",
       "      <td>...</td>\n",
       "      <td>...</td>\n",
       "      <td>...</td>\n",
       "      <td>...</td>\n",
       "      <td>...</td>\n",
       "      <td>...</td>\n",
       "    </tr>\n",
       "    <tr>\n",
       "      <th>5567</th>\n",
       "      <td>2102</td>\n",
       "      <td>PARÁ</td>\n",
       "      <td>Santa Maria do Pará</td>\n",
       "      <td>2010</td>\n",
       "      <td>9.988815e+04</td>\n",
       "      <td>23202</td>\n",
       "      <td>4305.149902</td>\n",
       "      <td>Produto Interno Bruto per capita</td>\n",
       "      <td>1</td>\n",
       "      <td>6.1</td>\n",
       "    </tr>\n",
       "    <tr>\n",
       "      <th>5568</th>\n",
       "      <td>4655</td>\n",
       "      <td>SÃO PAULO</td>\n",
       "      <td>Mineiros do Tietê</td>\n",
       "      <td>2010</td>\n",
       "      <td>9.854938e+04</td>\n",
       "      <td>12334</td>\n",
       "      <td>7990.060059</td>\n",
       "      <td>Produto Interno Bruto per capita</td>\n",
       "      <td>1</td>\n",
       "      <td>8.1</td>\n",
       "    </tr>\n",
       "    <tr>\n",
       "      <th>5569</th>\n",
       "      <td>1115</td>\n",
       "      <td>GOIÁS</td>\n",
       "      <td>Pirenópolis</td>\n",
       "      <td>2010</td>\n",
       "      <td>1.820774e+05</td>\n",
       "      <td>20945</td>\n",
       "      <td>8693.120117</td>\n",
       "      <td>Produto Interno Bruto per capita</td>\n",
       "      <td>1</td>\n",
       "      <td>4.2</td>\n",
       "    </tr>\n",
       "    <tr>\n",
       "      <th>5570</th>\n",
       "      <td>2102</td>\n",
       "      <td>PARÁ</td>\n",
       "      <td>Santa Maria do Pará</td>\n",
       "      <td>2010</td>\n",
       "      <td>9.988815e+04</td>\n",
       "      <td>23202</td>\n",
       "      <td>4305.149902</td>\n",
       "      <td>Produto Interno Bruto per capita</td>\n",
       "      <td>1</td>\n",
       "      <td>6.1</td>\n",
       "    </tr>\n",
       "    <tr>\n",
       "      <th>5571</th>\n",
       "      <td>4655</td>\n",
       "      <td>SP</td>\n",
       "      <td>Mineiros do Tietê</td>\n",
       "      <td>2010</td>\n",
       "      <td>9.854938e+04</td>\n",
       "      <td>12334</td>\n",
       "      <td>7990.060059</td>\n",
       "      <td>Produto Interno Bruto per capita</td>\n",
       "      <td>1</td>\n",
       "      <td>8.1</td>\n",
       "    </tr>\n",
       "  </tbody>\n",
       "</table>\n",
       "<p>5572 rows × 10 columns</p>\n",
       "</div>"
      ],
      "text/plain": [
       "       gid                 UF                 nome Censo           PIB  \\\n",
       "0      215              BAHIA             Tremedal  2010  5.788399e+04   \n",
       "1      306  RIO GRANDE DO SUL               Turuçu  2010  4.572388e+04   \n",
       "2      900     ESPIRITO SANTO              Vitória  2010  1.978263e+07   \n",
       "3     3613       MINAS GERAIS            Jacutinga  2010  2.478160e+05   \n",
       "4     1028              PIAUÍ              Nazária  2010  2.095138e+04   \n",
       "...    ...                ...                  ...   ...           ...   \n",
       "5567  2102               PARÁ  Santa Maria do Pará  2010  9.988815e+04   \n",
       "5568  4655          SÃO PAULO    Mineiros do Tietê  2010  9.854938e+04   \n",
       "5569  1115              GOIÁS          Pirenópolis  2010  1.820774e+05   \n",
       "5570  2102               PARÁ  Santa Maria do Pará  2010  9.988815e+04   \n",
       "5571  4655                 SP    Mineiros do Tietê  2010  9.854938e+04   \n",
       "\n",
       "      Pop_est_2009  PIB_percapita                         Descrição  classe  \\\n",
       "0            18433    3140.239990  Produto Interno Bruto per capita       1   \n",
       "1             4000   11430.969727  Produto Interno Bruto per capita       2   \n",
       "2           320156   61790.589844  Produto Interno Bruto per capita       4   \n",
       "3            21424   11567.209961  Produto Interno Bruto per capita       2   \n",
       "4             7895    2653.750000  Produto Interno Bruto per capita       1   \n",
       "...            ...            ...                               ...     ...   \n",
       "5567         23202    4305.149902  Produto Interno Bruto per capita       1   \n",
       "5568         12334    7990.060059  Produto Interno Bruto per capita       1   \n",
       "5569         20945    8693.120117  Produto Interno Bruto per capita       1   \n",
       "5570         23202    4305.149902  Produto Interno Bruto per capita       1   \n",
       "5571         12334    7990.060059  Produto Interno Bruto per capita       1   \n",
       "\n",
       "      desemprego  \n",
       "0            9.3  \n",
       "1            4.9  \n",
       "2            8.3  \n",
       "3            5.0  \n",
       "4            6.8  \n",
       "...          ...  \n",
       "5567         6.1  \n",
       "5568         8.1  \n",
       "5569         4.2  \n",
       "5570         6.1  \n",
       "5571         8.1  \n",
       "\n",
       "[5572 rows x 10 columns]"
      ]
     },
     "execution_count": 47,
     "metadata": {},
     "output_type": "execute_result"
    }
   ],
   "source": [
    "# carregando as bibliotecas necessárias\n",
    "import numpy as np\n",
    "import matplotlib.pyplot as plt\n",
    "import pandas as pd\n",
    "\n",
    "from sklearn.svm import SVC\n",
    "from sklearn.linear_model import Ridge\n",
    "from sklearn import metrics\n",
    "\n",
    "# carregando dados\n",
    "data = pd.read_csv(\"./dados/pib_mba_avaliacao2021.csv\")\n",
    "data"
   ]
  },
  {
   "cell_type": "markdown",
   "metadata": {},
   "source": [
    "Vamos utilizar uma base de dados baixada do IBGE com o PIB per capita para cada município brasileiro, essa base foi modificada para o propósito dos exercícios abaixo e possui as seguintes colunas:\n",
    "* gid - identificador geográfico do município\n",
    "* UF - unidade federativa\n",
    "* nome - nome do município\n",
    "* Censo - ano do censo relativo aos dados\n",
    "* PIB - total do PIB\n",
    "* Pop_est_2009 - populacao estimada\t\n",
    "* PIB_percapita - PIB per capita segundo os dados\n",
    "* Descrição - Descrição do dados\n",
    "* classe - classe do município\n",
    "* desemprego - índice de desemprego na cidade no ano do Censo\n"
   ]
  },
  {
   "cell_type": "markdown",
   "metadata": {},
   "source": [
    "### Questão 1)\n",
    "\n",
    "Verifique a distribuição dos valores e tipos dos atributos e realize um tratamento de dados considerando:\n",
    "\n",
    "1. Correção dos dados que for possível inferir o valor verdadeiro, ajustando e padronizando-os. Anote em quais variáveis isso ocorreu. Valores outliers não devem ser removidos/alterados, apenas dados claramente errôneos ou não padronizados.\n",
    "2. Conversão dos atributos que deveriam ser numéricos para numérico - inspecione os valores para garantir que a conversão não vá gerar dados faltantes de forma desnecessária, substituindo por numeros os que forem possíveis como por exemplo o atributo \"floor\" como visto na aula em que substituímos dados por 0. Anote as variáveis em que isso ocorreu.\n",
    "    \n",
    "Quais variáveis possuiam valores que precisaram ser padronizados ou corrigidos, e quantos valores em cada uma delas foi possível corrigir?\n",
    " \n",
    "(a) UF (5) e Censo (2)<br>\n",
    "(b) UF (9), Desemprego (10), Censo (3)<br>\n",
    "(c) Censo (2) <br>\n",
    "<font color='red'>(d) UF (9) e Censo (2)<br></font>\n",
    "\n",
    "<font color='red'>Resposta</font>: *Ver código abaixo. Note que 2007 para Censo é um valor possível e não deve ser corrigido, já 20100 é claramente um erro de digitação e passível de correção.*\n",
    "\n",
    "---"
   ]
  },
  {
   "cell_type": "code",
   "execution_count": 48,
   "metadata": {},
   "outputs": [
    {
     "name": "stdout",
     "output_type": "stream",
     "text": [
      "gid : int64, intervalo: 1 , 5568\n",
      "UF : object\n",
      "\t 33 distintos: ['BAHIA' 'RIO GRANDE DO SUL' 'ESPIRITO SANTO' 'MINAS GERAIS' 'PIAUÍ'\n",
      " 'GOIÁS' 'PERNAMBUCO' 'PARÁ' 'SERGIPE' 'SÃO PAULO' 'PARAÍBA' 'TOCANTINS'\n",
      " 'AMAZONAS' 'SANTA CATARINA' 'CEARÁ' 'RORAIMA' 'MARANHÃO' 'RIO DE JANEIRO'\n",
      " 'MATO GROSSO' 'PARANÁ' 'ALAGOAS' 'MATO GROSSO DO SUL' 'ACRE'\n",
      " 'RIO GRANDE DO NORTE' 'RONDÔNIA' 'PARANA' 'AMAPÁ' 'DISTRITO FEDERAL'\n",
      " 'MINAS G.' 'R.G. DO SUL' 'SP' 'PIAU' 'PARANA ']\n",
      "nome : object\n",
      "\t 5292 distintos: ['Tremedal' 'Turuçu' 'Vitória' ... 'Guararapes' 'Barra do Guarita'\n",
      " 'Machadinho']\n",
      "Censo : object\n",
      "\t 4 distintos: ['2010' '“2010' nan '2007' '20100']\n",
      "PIB : float64, intervalo: 1.0001 , 1167951456.0\n",
      "Pop_est_2009 : int64, intervalo: 837 , 11037593\n",
      "PIB_percapita : float64, intervalo: 1929.9699707 , 360815.84375\n",
      "Descrição : object\n",
      "\t 1 distintos: ['Produto Interno Bruto per capita']\n",
      "classe : int64, intervalo: 1 , 5\n",
      "desemprego : float64, intervalo: 1.0 , 407.0\n"
     ]
    }
   ],
   "source": [
    "def verifica_atributos(df):\n",
    "    for var in df:\n",
    "        # imprime variavel e seu tipo\n",
    "        print(var,\":\", df[var].dtype.name, end=\"\")\n",
    "        # se nao numérico\n",
    "        if not np.issubdtype(df[var].dtype, np.number):\n",
    "            print(\"\\n\\t\",df[var].nunique(), \"distintos: \", end=\"\")\n",
    "            print(df[var].unique())\n",
    "        else:\n",
    "            print(\", intervalo: \",end=\"\")\n",
    "            print(df[var].min(), \",\", df[var].max())\n",
    "\n",
    "verifica_atributos(data)"
   ]
  },
  {
   "cell_type": "code",
   "execution_count": 49,
   "metadata": {},
   "outputs": [
    {
     "name": "stdout",
     "output_type": "stream",
     "text": [
      "MINAS GERAIS           852\n",
      "SÃO PAULO              646\n",
      "RIO GRANDE DO SUL      495\n",
      "BAHIA                  417\n",
      "PARANÁ                 395\n",
      "SANTA CATARINA         293\n",
      "GOIÁS                  247\n",
      "PARAÍBA                223\n",
      "PIAUÍ                  223\n",
      "MARANHÃO               217\n",
      "PERNAMBUCO             186\n",
      "CEARÁ                  184\n",
      "RIO GRANDE DO NORTE    167\n",
      "PARÁ                   145\n",
      "MATO GROSSO            141\n",
      "TOCANTINS              139\n",
      "ALAGOAS                102\n",
      "RIO DE JANEIRO          92\n",
      "ESPIRITO SANTO          78\n",
      "MATO GROSSO DO SUL      78\n",
      "SERGIPE                 75\n",
      "AMAZONAS                62\n",
      "RONDÔNIA                52\n",
      "ACRE                    22\n",
      "AMAPÁ                   16\n",
      "RORAIMA                 15\n",
      "PARANA                   3\n",
      "SP                       2\n",
      "PARANA                   1\n",
      "MINAS G.                 1\n",
      "PIAU                     1\n",
      "DISTRITO FEDERAL         1\n",
      "R.G. DO SUL              1\n",
      "Name: UF, dtype: int64\n",
      "UFs Inválidas: ['PARANA' 'MINAS G.' 'R.G. DO SUL' 'SP' 'PIAU' 'PARANA ']\n"
     ]
    }
   ],
   "source": [
    "# ajustando 'UF'\n",
    "print(data['UF'].value_counts())\n",
    "\n",
    "UFs_data = data['UF'].unique()\n",
    "#print(data['UF'].unique())\n",
    "\n",
    "# array com UFs válidas\n",
    "UFs_valid = np.array(['BAHIA', 'RIO GRANDE DO SUL', 'ESPIRITO SANTO', 'MINAS GERAIS', 'PIAUÍ',\n",
    " 'GOIÁS', 'PERNAMBUCO', 'PARÁ', 'SERGIPE', 'SÃO PAULO', 'PARAÍBA', 'TOCANTINS',\n",
    " 'AMAZONAS', 'SANTA CATARINA', 'CEARÁ', 'RORAIMA', 'MARANHÃO', 'RIO DE JANEIRO',\n",
    " 'MATO GROSSO', 'PARANÁ', 'ALAGOAS', 'MATO GROSSO DO SUL', 'ACRE',\n",
    " 'RIO GRANDE DO NORTE', 'RONDÔNIA', 'AMAPÁ', 'DISTRITO FEDERAL'])\n",
    "\n",
    "# listando UFs inválidas\n",
    "print(\"UFs Inválidas: {}\".format(UFs_data[~np.isin(data['UF'].unique(), UFs_valid)]))"
   ]
  },
  {
   "cell_type": "code",
   "execution_count": 50,
   "metadata": {},
   "outputs": [
    {
     "name": "stdout",
     "output_type": "stream",
     "text": [
      "[]\n"
     ]
    }
   ],
   "source": [
    "# tratando casos um a um\n",
    "data.loc[data['UF']=='PARANA', 'UF'] = 'PARANÁ'\n",
    "data.loc[data['UF']=='PARANA ', 'UF'] = 'PARANÁ'\n",
    "data.loc[data['UF']=='PIAU', 'UF'] = 'PIAUÍ'\n",
    "data.loc[data['UF']=='MINAS G.', 'UF'] = 'MINAS GERAIS'\n",
    "data.loc[data['UF']=='R.G. DO SUL', 'UF'] = 'RIO GRANDE DO SUL'\n",
    "data.loc[data['UF']=='SP', 'UF'] = 'SÃO PAULO'\n",
    "\n",
    "UFs_data = data['UF'].unique()\n",
    "print(UFs_data[~np.isin(data['UF'].unique(), UFs_valid)])"
   ]
  },
  {
   "cell_type": "code",
   "execution_count": 51,
   "metadata": {},
   "outputs": [
    {
     "name": "stdout",
     "output_type": "stream",
     "text": [
      "2010     5559\n",
      "2007        5\n",
      "“2010       1\n",
      "20100       1\n",
      "Name: Censo, dtype: int64\n"
     ]
    }
   ],
   "source": [
    "# ajustando 'Censo'\n",
    "print(data['Censo'].value_counts())\n"
   ]
  },
  {
   "cell_type": "code",
   "execution_count": 52,
   "metadata": {},
   "outputs": [
    {
     "name": "stdout",
     "output_type": "stream",
     "text": [
      "2010.0    5560\n",
      "2007.0       5\n",
      "Name: Censo, dtype: int64\n"
     ]
    }
   ],
   "source": [
    "data.loc[data['Censo']=='\"2010', 'Censo'] = '2010'\n",
    "data.loc[:,'Censo'] = pd.to_numeric(data.loc[:,'Censo'], downcast='integer', errors='coerce')\n",
    "data.loc[data['Censo']==20100, 'Censo'] = 2010\n",
    "\n",
    "# ajustando 'Censo'\n",
    "print(data['Censo'].value_counts())"
   ]
  },
  {
   "cell_type": "markdown",
   "metadata": {},
   "source": [
    "### Questão 2)\n",
    "\n",
    "Após o tratamento feito na Questão 2:\n",
    "1. Remova colunas que possuam valores redundantes constantes\n",
    "2. Exiba, e posteriormente remova muninícipios duplicados (considere nome e UF para esse fim), mantendo a primeira ocorrência. \n",
    "\n",
    "Qual o tamanho final da base de dados após esse tratamento?\n",
    "\n",
    "(a) 5572 x 10<br>\n",
    "(b) 5572 x 9<br>\n",
    "(c) 5565 x 8<br>\n",
    "<font color='red'>(d) 5565 x 9</font><br>\n",
    "\n",
    "<font color='red'>Resposta</font>: *o atributo Descrição tem apenas um valor e pode ser descartado, e removendo as duplicatas, ficamos com 5565 linhas conforme código abaixo.*\n",
    "\n",
    "\n",
    "---"
   ]
  },
  {
   "cell_type": "code",
   "execution_count": 53,
   "metadata": {},
   "outputs": [],
   "source": [
    "# removendo a coluna descricao, pois todos os valores são iguais\n",
    "data = data.drop('Descrição', axis = 1)"
   ]
  },
  {
   "cell_type": "code",
   "execution_count": 54,
   "metadata": {},
   "outputs": [
    {
     "data": {
      "text/html": [
       "<div>\n",
       "<style scoped>\n",
       "    .dataframe tbody tr th:only-of-type {\n",
       "        vertical-align: middle;\n",
       "    }\n",
       "\n",
       "    .dataframe tbody tr th {\n",
       "        vertical-align: top;\n",
       "    }\n",
       "\n",
       "    .dataframe thead th {\n",
       "        text-align: right;\n",
       "    }\n",
       "</style>\n",
       "<table border=\"1\" class=\"dataframe\">\n",
       "  <thead>\n",
       "    <tr style=\"text-align: right;\">\n",
       "      <th></th>\n",
       "      <th>gid</th>\n",
       "      <th>UF</th>\n",
       "      <th>nome</th>\n",
       "      <th>Censo</th>\n",
       "      <th>PIB</th>\n",
       "      <th>Pop_est_2009</th>\n",
       "      <th>PIB_percapita</th>\n",
       "      <th>classe</th>\n",
       "      <th>desemprego</th>\n",
       "    </tr>\n",
       "  </thead>\n",
       "  <tbody>\n",
       "    <tr>\n",
       "      <th>2348</th>\n",
       "      <td>3474</td>\n",
       "      <td>PERNAMBUCO</td>\n",
       "      <td>Pedra</td>\n",
       "      <td>2010.0</td>\n",
       "      <td>121027.789062</td>\n",
       "      <td>20788</td>\n",
       "      <td>5822.000000</td>\n",
       "      <td>1</td>\n",
       "      <td>8.5</td>\n",
       "    </tr>\n",
       "    <tr>\n",
       "      <th>5462</th>\n",
       "      <td>3773</td>\n",
       "      <td>SÃO PAULO</td>\n",
       "      <td>Guapiara</td>\n",
       "      <td>2010.0</td>\n",
       "      <td>175721.890625</td>\n",
       "      <td>20927</td>\n",
       "      <td>8396.900391</td>\n",
       "      <td>1</td>\n",
       "      <td>7.2</td>\n",
       "    </tr>\n",
       "    <tr>\n",
       "      <th>5567</th>\n",
       "      <td>2102</td>\n",
       "      <td>PARÁ</td>\n",
       "      <td>Santa Maria do Pará</td>\n",
       "      <td>2010.0</td>\n",
       "      <td>99888.148438</td>\n",
       "      <td>23202</td>\n",
       "      <td>4305.149902</td>\n",
       "      <td>1</td>\n",
       "      <td>6.1</td>\n",
       "    </tr>\n",
       "    <tr>\n",
       "      <th>5568</th>\n",
       "      <td>4655</td>\n",
       "      <td>SÃO PAULO</td>\n",
       "      <td>Mineiros do Tietê</td>\n",
       "      <td>2010.0</td>\n",
       "      <td>98549.375000</td>\n",
       "      <td>12334</td>\n",
       "      <td>7990.060059</td>\n",
       "      <td>1</td>\n",
       "      <td>8.1</td>\n",
       "    </tr>\n",
       "    <tr>\n",
       "      <th>5569</th>\n",
       "      <td>1115</td>\n",
       "      <td>GOIÁS</td>\n",
       "      <td>Pirenópolis</td>\n",
       "      <td>2010.0</td>\n",
       "      <td>182077.437500</td>\n",
       "      <td>20945</td>\n",
       "      <td>8693.120117</td>\n",
       "      <td>1</td>\n",
       "      <td>4.2</td>\n",
       "    </tr>\n",
       "    <tr>\n",
       "      <th>5570</th>\n",
       "      <td>2102</td>\n",
       "      <td>PARÁ</td>\n",
       "      <td>Santa Maria do Pará</td>\n",
       "      <td>2010.0</td>\n",
       "      <td>99888.148438</td>\n",
       "      <td>23202</td>\n",
       "      <td>4305.149902</td>\n",
       "      <td>1</td>\n",
       "      <td>6.1</td>\n",
       "    </tr>\n",
       "    <tr>\n",
       "      <th>5571</th>\n",
       "      <td>4655</td>\n",
       "      <td>SÃO PAULO</td>\n",
       "      <td>Mineiros do Tietê</td>\n",
       "      <td>2010.0</td>\n",
       "      <td>98549.375000</td>\n",
       "      <td>12334</td>\n",
       "      <td>7990.060059</td>\n",
       "      <td>1</td>\n",
       "      <td>8.1</td>\n",
       "    </tr>\n",
       "  </tbody>\n",
       "</table>\n",
       "</div>"
      ],
      "text/plain": [
       "       gid          UF                 nome   Censo            PIB  \\\n",
       "2348  3474  PERNAMBUCO                Pedra  2010.0  121027.789062   \n",
       "5462  3773   SÃO PAULO             Guapiara  2010.0  175721.890625   \n",
       "5567  2102        PARÁ  Santa Maria do Pará  2010.0   99888.148438   \n",
       "5568  4655   SÃO PAULO    Mineiros do Tietê  2010.0   98549.375000   \n",
       "5569  1115       GOIÁS          Pirenópolis  2010.0  182077.437500   \n",
       "5570  2102        PARÁ  Santa Maria do Pará  2010.0   99888.148438   \n",
       "5571  4655   SÃO PAULO    Mineiros do Tietê  2010.0   98549.375000   \n",
       "\n",
       "      Pop_est_2009  PIB_percapita  classe  desemprego  \n",
       "2348         20788    5822.000000       1         8.5  \n",
       "5462         20927    8396.900391       1         7.2  \n",
       "5567         23202    4305.149902       1         6.1  \n",
       "5568         12334    7990.060059       1         8.1  \n",
       "5569         20945    8693.120117       1         4.2  \n",
       "5570         23202    4305.149902       1         6.1  \n",
       "5571         12334    7990.060059       1         8.1  "
      ]
     },
     "execution_count": 54,
     "metadata": {},
     "output_type": "execute_result"
    }
   ],
   "source": [
    "# removendo duplicatas\n",
    "data[data.duplicated(['nome', 'UF'], keep=\"first\")]"
   ]
  },
  {
   "cell_type": "code",
   "execution_count": 55,
   "metadata": {},
   "outputs": [],
   "source": [
    "data = data.drop_duplicates(['nome', 'UF'], keep='first')\n",
    "#data = data.drop_duplicates(keep='first')"
   ]
  },
  {
   "cell_type": "code",
   "execution_count": 56,
   "metadata": {},
   "outputs": [
    {
     "name": "stdout",
     "output_type": "stream",
     "text": [
      "Dados após tratamento 5565 x 9\n"
     ]
    }
   ],
   "source": [
    "n_tratdup = data.shape\n",
    "print(\"Dados após tratamento %d x %d\" % (n_tratdup[0], n_tratdup[1]))"
   ]
  },
  {
   "cell_type": "markdown",
   "metadata": {},
   "source": [
    "---\n",
    "### Questão 3)\n",
    "\n",
    "Vamos analisar possíveis outliers. Utilize o método da análise da dispersão pelo *desvio padrão* e inspecione as colunas 'gid', 'PIB', 'Pop_est_2009', 'desemprego', procurando por outliers globais com critério de 3 desvios padrões, i.e. $3\\sigma$. Nessa questão não remova outliers da base de dados, apenas identifique-os.\n",
    "\n",
    "Quantos outliers foram encontrados, respectivamente, para 'gid', 'PIB', 'Pop_est_2009' e 'desemprego'?\n",
    "\n",
    "(a) 0, 27, 1, 2<br>\n",
    "(c) 0, 9, 44, 0<br>\n",
    "(d) 1, 5, 9, 44<br>\n",
    "<font color='red'>(d) 0, 5, 27, 2<br></font>\n"
   ]
  },
  {
   "cell_type": "code",
   "execution_count": 57,
   "metadata": {},
   "outputs": [],
   "source": [
    "def remove_outliers_std(df, attributes, t):\n",
    "    \n",
    "    dfn = df.copy()\n",
    "    \n",
    "    outliers = []\n",
    "    for var in attributes:\n",
    "        # verifica se variável é numerica\n",
    "        if np.issubdtype(df[var].dtype, np.number):\n",
    "            crit_std = df[var].std() * t\n",
    "            mu = df[var].mean()\n",
    "            \n",
    "            outl = dfn.loc[(df[var] < mu-crit_std) | (df[var] > mu+crit_std), :]\n",
    "            tot_out = np.sum((df[var] < mu-crit_std) | (df[var] > mu+crit_std))\n",
    "            \n",
    "            # apenas inliers segundo std\n",
    "            dfn = dfn.loc[(df[var] >= mu-crit_std) & (df[var] <= mu+crit_std),:]\n",
    "            print('%s, mu = %.2f, std = %.2f, outliers = %d' % (var, mu, crit_std/t, tot_out))\n",
    "            if tot_out > 0: outliers.append(outl)\n",
    "        \n",
    "    return dfn, outliers"
   ]
  },
  {
   "cell_type": "code",
   "execution_count": 58,
   "metadata": {
    "scrolled": true
   },
   "outputs": [
    {
     "name": "stdout",
     "output_type": "stream",
     "text": [
      "gid, mu = 2784.90, std = 1607.03, outliers = 0\n",
      "PIB, mu = 862037.50, std = 17673043.96, outliers = 5\n",
      "Pop_est_2009, mu = 34408.02, std = 201803.45, outliers = 27\n",
      "desemprego, mu = 6.67, std = 5.81, outliers = 2\n"
     ]
    }
   ],
   "source": [
    "d, o = remove_outliers_std(data,['gid', 'PIB', 'Pop_est_2009', 'desemprego'], 3)"
   ]
  },
  {
   "cell_type": "markdown",
   "metadata": {},
   "source": [
    "---\n",
    "\n",
    "### Questão 4)\n",
    "\n",
    "Utilize a base de dados após o tratamento inicial, e sem remoção de outliers. Imprima o total de valores faltantes em cada variável e, posteriormente, utilize o preenchimento por média condicionada, preenchendo 'desemprego' com as médias agrupadas por 'UF'.\n",
    "\n",
    "Para isso codifique uma função que deverá:\n",
    "1. calcular a média de uma variável alvo A (a ser preenchida) relativa a (ou agrupada por) cada valor distinto da variável que se deseja usar para agrupar;\n",
    "2. atribuir a média calculada de forma agrupada a todas as linhas cuja variável alvo é faltante e que possua o valor da variável categórica correspondente;\n",
    "3. o valor atribuido deve seguir o mesmo tipo da variável alvo, ou seja, int, float, etc. Quando int, realize o arredondamento utlizando `np.round(,0)`, quando float64 utilize `np.round(,1)`\n",
    "\n",
    "Quantos dados faltantes existiam em \"desemprego\", e qual a média e o desvio padrão dessa variável após o preenchimento?\n",
    "\n",
    "<font color='red'>(a) 62 faltantes, média 6.6664, desvio padrão 5.7834</font><br>\n",
    "(b) 59 faltantes, média 6.6663, desvio padrão 5.7834 <br>\n",
    "(c) 62 faltantes, média 6.6663, desvio padrão 4.5120 <br>\n",
    "(d) 62 faltantes, média 5.8126, desvio padrão 5.7834\n",
    "\n",
    "<font color='red'>Resposta</font>: *ver código abaixo*\n"
   ]
  },
  {
   "cell_type": "code",
   "execution_count": 59,
   "metadata": {},
   "outputs": [
    {
     "name": "stdout",
     "output_type": "stream",
     "text": [
      "nome - faltantes:  2\n",
      "Censo - faltantes:  7\n",
      "PIB - faltantes:  1\n",
      "PIB_percapita - faltantes:  4\n",
      "desemprego - faltantes:  62\n"
     ]
    }
   ],
   "source": [
    "# verificando atributos faltantes\n",
    "for var in data:\n",
    "    # imprime variavel\n",
    "    missvar = np.sum(data[var].isnull())\n",
    "    if (missvar > 0):\n",
    "        print(var,\"- faltantes: \", missvar)"
   ]
  },
  {
   "cell_type": "code",
   "execution_count": 60,
   "metadata": {},
   "outputs": [],
   "source": [
    "def missing_condmean(df, att, att_cat):\n",
    "        \n",
    "    dfn = df.copy()\n",
    "    print('- preencher ', att, ' condicionado a ', att_cat, end=' : ')\n",
    "    nullatt = np.sum(dfn[att].isnull())\n",
    "    print(nullatt, 'faltantes')\n",
    "\n",
    "    media = dfn.groupby(att_cat)[att].agg('mean')\n",
    "    \n",
    "    for var in df[att_cat].unique():\n",
    "        print('\\t %s media = %.1f' % (var, media[var]))\n",
    "        dfn.loc[(dfn[att].isnull()) & (dfn[att_cat]==var), att] = np.round(media[var],1)\n",
    "        \n",
    "    return dfn"
   ]
  },
  {
   "cell_type": "code",
   "execution_count": 61,
   "metadata": {
    "scrolled": true
   },
   "outputs": [
    {
     "name": "stdout",
     "output_type": "stream",
     "text": [
      "- preencher  desemprego  condicionado a  UF : 62 faltantes\n",
      "\t BAHIA media = 9.1\n",
      "\t RIO GRANDE DO SUL media = 4.5\n",
      "\t ESPIRITO SANTO media = 7.6\n",
      "\t MINAS GERAIS media = 5.9\n",
      "\t PIAUÍ media = 5.8\n",
      "\t GOIÁS media = 4.7\n",
      "\t PERNAMBUCO media = 9.1\n",
      "\t PARÁ media = 7.2\n",
      "\t SERGIPE media = 8.4\n",
      "\t SÃO PAULO media = 7.0\n",
      "\t PARAÍBA media = 9.0\n",
      "\t TOCANTINS media = 5.9\n",
      "\t AMAZONAS media = 8.1\n",
      "\t SANTA CATARINA media = 6.8\n",
      "\t CEARÁ media = 5.3\n",
      "\t RORAIMA media = 7.6\n",
      "\t MARANHÃO media = 8.3\n",
      "\t RIO DE JANEIRO media = 8.2\n",
      "\t MATO GROSSO media = 7.2\n",
      "\t PARANÁ media = 4.5\n",
      "\t ALAGOAS media = 9.4\n",
      "\t MATO GROSSO DO SUL media = 4.5\n",
      "\t ACRE media = 4.1\n",
      "\t RIO GRANDE DO NORTE media = 9.6\n",
      "\t RONDÔNIA media = 3.2\n",
      "\t AMAPÁ media = 12.7\n",
      "\t DISTRITO FEDERAL media = 8.1\n"
     ]
    }
   ],
   "source": [
    "data_fill = missing_condmean(data, 'desemprego', 'UF')"
   ]
  },
  {
   "cell_type": "code",
   "execution_count": 62,
   "metadata": {},
   "outputs": [
    {
     "name": "stdout",
     "output_type": "stream",
     "text": [
      "Média, Desvio depois: 6.6664, 5.7834\n"
     ]
    }
   ],
   "source": [
    "print(\"Média, Desvio depois: %.4f, %.4f\"%  (np.round(data_fill.loc[:, 'desemprego'].mean(),4),np.round(data_fill.loc[:, 'desemprego'].std(),4)))"
   ]
  },
  {
   "cell_type": "markdown",
   "metadata": {},
   "source": [
    "---\n",
    "\n",
    "### Questão 5)\n",
    "\n",
    "Desejamos projetar um algoritmo de aprendizado em que o atributo alvo é 'classe', inicialmente utilizando apenas dados da UF Paraná, mas posteriormente deveremos utilizar o modelo aprendido em toda a base de dados. \n",
    "\n",
    "Use os dados tratados após o preenchimento de dados faltantes de desemprego, porém sem remoção de outliers. Considere o atributo 'classe' e analise a distribuicao dos seus valores em dois cenários:\n",
    "1. base completa\n",
    "2. considerando apenas a UF 'Paraná'. \n",
    "\n",
    "Após a análise podemos afirmar que:\n",
    "\n",
    "(a) Os cenários 1 e 2 são desbalanceados, com classes minoritárias diferentes e majoritárias iguais.<br>\n",
    "(b) Os cenários 1 e 2 são desbalanceados, com distribuição de classes similar.<br>\n",
    "(c) Apenas o cenário 2 é desbalanceado. <br>\n",
    "<font color='red'>(d) Os cenários 1 e 2 são desbalanceados, com classes majoritárias diferentes. <br></font>\n",
    "\n",
    "<font color='red'>Resposta</font>: *a análise revela que ambas estão desbalanceadas; quando analisada a base completa, a classe majoritária é a 1, enquanto que no Paraná, a majoritária é a 2. Exceto por essa inversão entre 1 e 2, as demais seguem distribuição similar: 3, 4 e 5 (sendo que 5 não está presente no estado do Paraná).*"
   ]
  },
  {
   "cell_type": "code",
   "execution_count": 63,
   "metadata": {},
   "outputs": [
    {
     "name": "stdout",
     "output_type": "stream",
     "text": [
      "\n",
      "Quantidades de cada classe:\n",
      "1    3156\n",
      "2    1977\n",
      "3     376\n",
      "4      51\n",
      "5       5\n",
      "Name: classe, dtype: int64\n",
      "\n",
      "Quantidades de cada classe em Paraná:\n",
      "2    237\n",
      "1    140\n",
      "3     20\n",
      "4      2\n",
      "Name: classe, dtype: int64\n"
     ]
    },
    {
     "data": {
      "image/png": "[encoded data removed]",
      "text/plain": [
       "<Figure size 432x288 with 1 Axes>"
      ]
     },
     "metadata": {
      "needs_background": "light"
     },
     "output_type": "display_data"
    }
   ],
   "source": [
    "print(\"\\nQuantidades de cada classe:\")\n",
    "print(data_fill.loc[:, 'classe'].value_counts())\n",
    "h = plt.hist(data_fill.loc[:, 'classe'], density=True)\n",
    "\n",
    "print(\"\\nQuantidades de cada classe em Paraná:\")\n",
    "print(data_fill.loc[data_fill['UF']=='PARANÁ', 'classe'].value_counts())\n",
    "h = plt.hist(data_fill.loc[data_fill['UF']=='PARANÁ', 'classe'], density=True)"
   ]
  },
  {
   "cell_type": "code",
   "execution_count": null,
   "metadata": {},
   "outputs": [],
   "source": []
  }
 ],
 "metadata": {
  "kernelspec": {
   "display_name": "Python 3",
   "language": "python",
   "name": "python3"
  },
  "language_info": {
   "codemirror_mode": {
    "name": "ipython",
    "version": 3
   },
   "file_extension": ".py",
   "mimetype": "text/x-python",
   "name": "python",
   "nbconvert_exporter": "python",
   "pygments_lexer": "ipython3",
   "version": "3.8.10"
  }
 },
 "nbformat": 4,
 "nbformat_minor": 4
}
