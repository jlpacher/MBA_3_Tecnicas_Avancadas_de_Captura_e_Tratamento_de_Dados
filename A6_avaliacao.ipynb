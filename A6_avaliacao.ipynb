{
 "cells": [
  {
   "cell_type": "markdown",
   "metadata": {},
   "source": [
    "# <font color=\"blue\"> MBA em Ciência de Dados</font>\n",
    "# <font color=\"blue\">Técnicas Avançadas para Captura e Tratamento de Dados</font>\n",
    "\n",
    "## <font color=\"blue\"> Matriz Documento $\\times$ Palavras - Bag of Words</font>\n",
    "    \n",
    "## <font color=\"blue\">Avaliação</font>\n",
    "\n",
    "**Material Produzido por Luis Gustavo Nonato**<br>\n",
    "**Cemeai - ICMC/USP São Carlos**\n",
    "---"
   ]
  },
  {
   "cell_type": "markdown",
   "metadata": {},
   "source": [
    "Os exercícios abaixo fazem uso da coleção de documentos presente no diretório `DocCol2` contido no arquivo <font style=\"font-family: monaco\"> DocCol.zip</font>, o qual pode ser baixado do Moodle."
   ]
  },
  {
   "cell_type": "code",
   "execution_count": 1,
   "metadata": {},
   "outputs": [],
   "source": [
    "import glob\n",
    "import nltk\n",
    "from nltk.corpus import stopwords\n",
    "from nltk.stem import PorterStemmer\n",
    "import pandas as pd\n",
    "import numpy as np\n",
    "from collections import Counter"
   ]
  },
  {
   "cell_type": "markdown",
   "metadata": {},
   "source": [
    "### Exercício 1)\n",
    "Armazene os documentos disponíveis no diretório `DocCol2` em um dicionário onde a chave é o nome do arquivo e o valor é a string contida no arquivo. O documento contendo a string com o maior número de caracteres é:\n",
    "\n",
    "a) gr7<br>\n",
    "<font color='red'>b) au2</font> <br>\n",
    "c) ch5<br>\n",
    "d) au8"
   ]
  },
  {
   "cell_type": "code",
   "execution_count": 2,
   "metadata": {},
   "outputs": [
    {
     "name": "stdout",
     "output_type": "stream",
     "text": [
      "dict_keys(['au1', 'au10', 'au11', 'au12', 'au13', 'au14', 'au15', 'au2', 'au3', 'au4', 'au5', 'au6', 'au7', 'au8', 'au9', 'ch1', 'ch10', 'ch11', 'ch12', 'ch13', 'ch14', 'ch15', 'ch16', 'ch17', 'ch18', 'ch19', 'ch2', 'ch20', 'ch21', 'ch22', 'ch23', 'ch24', 'ch25', 'ch26', 'ch27', 'ch28', 'ch29', 'ch3', 'ch30', 'ch31', 'ch32', 'ch33', 'ch34', 'ch35', 'ch36', 'ch37', 'ch38', 'ch39', 'ch4', 'ch40', 'ch41', 'ch42', 'ch43', 'ch44', 'ch45', 'ch46', 'ch47', 'ch48', 'ch49', 'ch5', 'ch50', 'ch6', 'ch7', 'ch8', 'ch9', 'gr1', 'gr10', 'gr11', 'gr12', 'gr13', 'gr14', 'gr15', 'gr16', 'gr17', 'gr18', 'gr19', 'gr2', 'gr20', 'gr21', 'gr22', 'gr23', 'gr24', 'gr25', 'gr26', 'gr3', 'gr4', 'gr5', 'gr6', 'gr7', 'gr8', 'gr9'])\n"
     ]
    }
   ],
   "source": [
    "files = glob.glob(\"DocCol2/*\")\n",
    "\n",
    "# Criando dicionário para guardar cada documento nas chaves e a string nos valores\n",
    "docs = {}\n",
    "for fname in files:\n",
    "    with open(fname,'r') as f:\n",
    "        key = fname.split('\\\\')[-1]\n",
    "        docs[key] = f.read() \n",
    "        \n",
    "print(docs.keys())"
   ]
  },
  {
   "cell_type": "code",
   "execution_count": 3,
   "metadata": {},
   "outputs": [
    {
     "name": "stdout",
     "output_type": "stream",
     "text": [
      "Arquivo com a maior string: au2\n",
      "Número de caracteres da maior string: 11672\n"
     ]
    }
   ],
   "source": [
    "# Criando dicionário para computar o número de caracteres de cada documento\n",
    "tamanho_string = {}\n",
    "\n",
    "for k,v in docs.items():\n",
    "    tamanho_string[k] = len(v)\n",
    "\n",
    "# Procurando a maior string\n",
    "maior_string = 0\n",
    "chave_maior_string = ''\n",
    "\n",
    "for k,v in tamanho_string.items():\n",
    "    if v > maior_string:\n",
    "        maior_string = v\n",
    "        chave_maior_string = k\n",
    "\n",
    "print('Arquivo com a maior string:', chave_maior_string)\n",
    "print('Número de caracteres da maior string:', maior_string)"
   ]
  },
  {
   "cell_type": "code",
   "execution_count": 4,
   "metadata": {},
   "outputs": [
    {
     "data": {
      "text/html": [
       "<div>\n",
       "<style scoped>\n",
       "    .dataframe tbody tr th:only-of-type {\n",
       "        vertical-align: middle;\n",
       "    }\n",
       "\n",
       "    .dataframe tbody tr th {\n",
       "        vertical-align: top;\n",
       "    }\n",
       "\n",
       "    .dataframe thead th {\n",
       "        text-align: right;\n",
       "    }\n",
       "</style>\n",
       "<table border=\"1\" class=\"dataframe\">\n",
       "  <thead>\n",
       "    <tr style=\"text-align: right;\">\n",
       "      <th></th>\n",
       "      <th>text</th>\n",
       "      <th>text_lenght</th>\n",
       "    </tr>\n",
       "  </thead>\n",
       "  <tbody>\n",
       "    <tr>\n",
       "      <th>au2</th>\n",
       "      <td>From: welty@cabot.balltown.cma.COM (richard we...</td>\n",
       "      <td>11672</td>\n",
       "    </tr>\n",
       "    <tr>\n",
       "      <th>au5</th>\n",
       "      <td>From: CPKJP@vm.cc.latech.edu (Kevin Parker)\\nS...</td>\n",
       "      <td>9693</td>\n",
       "    </tr>\n",
       "    <tr>\n",
       "      <th>au14</th>\n",
       "      <td>From: eliot@engr.washington.edu (eliot)\\nSubje...</td>\n",
       "      <td>9351</td>\n",
       "    </tr>\n",
       "    <tr>\n",
       "      <th>ch37</th>\n",
       "      <td>From: jhpb@sarto.budd-lake.nj.us (Joseph H. Bu...</td>\n",
       "      <td>9279</td>\n",
       "    </tr>\n",
       "    <tr>\n",
       "      <th>gr23</th>\n",
       "      <td>From: lilley@v5.cgu.mcc.ac.uk (Chris Lilley)\\n...</td>\n",
       "      <td>9261</td>\n",
       "    </tr>\n",
       "    <tr>\n",
       "      <th>...</th>\n",
       "      <td>...</td>\n",
       "      <td>...</td>\n",
       "    </tr>\n",
       "    <tr>\n",
       "      <th>au4</th>\n",
       "      <td>From: welty@cabot.balltown.cma.COM (richard we...</td>\n",
       "      <td>4780</td>\n",
       "    </tr>\n",
       "    <tr>\n",
       "      <th>gr6</th>\n",
       "      <td>From: edb@dmssyd.syd.dms.CSIRO.AU (Ed Breen)\\n...</td>\n",
       "      <td>4669</td>\n",
       "    </tr>\n",
       "    <tr>\n",
       "      <th>gr15</th>\n",
       "      <td>From: gorgen@ann-arbor.applicon.slb.com (David...</td>\n",
       "      <td>4661</td>\n",
       "    </tr>\n",
       "    <tr>\n",
       "      <th>au10</th>\n",
       "      <td>From: shantanu@risc.sps.mot.com (Shantanu Gang...</td>\n",
       "      <td>4617</td>\n",
       "    </tr>\n",
       "    <tr>\n",
       "      <th>au1</th>\n",
       "      <td>From: ssave@ole.cdac.com (The Devil Reincarnat...</td>\n",
       "      <td>4573</td>\n",
       "    </tr>\n",
       "  </tbody>\n",
       "</table>\n",
       "<p>91 rows × 2 columns</p>\n",
       "</div>"
      ],
      "text/plain": [
       "                                                   text  text_lenght\n",
       "au2   From: welty@cabot.balltown.cma.COM (richard we...        11672\n",
       "au5   From: CPKJP@vm.cc.latech.edu (Kevin Parker)\\nS...         9693\n",
       "au14  From: eliot@engr.washington.edu (eliot)\\nSubje...         9351\n",
       "ch37  From: jhpb@sarto.budd-lake.nj.us (Joseph H. Bu...         9279\n",
       "gr23  From: lilley@v5.cgu.mcc.ac.uk (Chris Lilley)\\n...         9261\n",
       "...                                                 ...          ...\n",
       "au4   From: welty@cabot.balltown.cma.COM (richard we...         4780\n",
       "gr6   From: edb@dmssyd.syd.dms.CSIRO.AU (Ed Breen)\\n...         4669\n",
       "gr15  From: gorgen@ann-arbor.applicon.slb.com (David...         4661\n",
       "au10  From: shantanu@risc.sps.mot.com (Shantanu Gang...         4617\n",
       "au1   From: ssave@ole.cdac.com (The Devil Reincarnat...         4573\n",
       "\n",
       "[91 rows x 2 columns]"
      ]
     },
     "execution_count": 4,
     "metadata": {},
     "output_type": "execute_result"
    }
   ],
   "source": [
    "# Solução alternativa\n",
    "aux_e1 = (\n",
    "    pd.DataFrame.\n",
    "    from_dict(docs, orient = 'index', columns = ['text']).\n",
    "    assign(\n",
    "        text_lenght = lambda x: x['text'].str.len()\n",
    "    ).\n",
    "    sort_values('text_lenght', ascending = False)\n",
    "        )\n",
    "aux_e1"
   ]
  },
  {
   "cell_type": "markdown",
   "metadata": {},
   "source": [
    "### Exercício 2)\n",
    "Crie um dicionário chamado `docsXwords` onde as chaves são os nomes dos arquivos e os valores são as listas de palavras do documento correspondente. As palavras em cada uma das listas devem ser constituídas apenas por letras do alfabeto, estarem lexicamente normalizadas e conterem mais que 1 caracter. Qual o documento cuja lista de palavras  resultante possui o **maior** número de palavras (lexicamente normalizadas) repetidas:\n",
    "\n",
    "a) gr22<br>\n",
    "<font color='red'>b) ch30</font><br>\n",
    "c) au1<br>\n",
    "d) au8"
   ]
  },
  {
   "cell_type": "code",
   "execution_count": 56,
   "metadata": {},
   "outputs": [
    {
     "data": {
      "text/plain": [
       "dict_keys(['au1', 'au10', 'au11', 'au12', 'au13', 'au14', 'au15', 'au2', 'au3', 'au4', 'au5', 'au6', 'au7', 'au8', 'au9', 'ch1', 'ch10', 'ch11', 'ch12', 'ch13', 'ch14', 'ch15', 'ch16', 'ch17', 'ch18', 'ch19', 'ch2', 'ch20', 'ch21', 'ch22', 'ch23', 'ch24', 'ch25', 'ch26', 'ch27', 'ch28', 'ch29', 'ch3', 'ch30', 'ch31', 'ch32', 'ch33', 'ch34', 'ch35', 'ch36', 'ch37', 'ch38', 'ch39', 'ch4', 'ch40', 'ch41', 'ch42', 'ch43', 'ch44', 'ch45', 'ch46', 'ch47', 'ch48', 'ch49', 'ch5', 'ch50', 'ch6', 'ch7', 'ch8', 'ch9', 'gr1', 'gr10', 'gr11', 'gr12', 'gr13', 'gr14', 'gr15', 'gr16', 'gr17', 'gr18', 'gr19', 'gr2', 'gr20', 'gr21', 'gr22', 'gr23', 'gr24', 'gr25', 'gr26', 'gr3', 'gr4', 'gr5', 'gr6', 'gr7', 'gr8', 'gr9'])"
      ]
     },
     "execution_count": 56,
     "metadata": {},
     "output_type": "execute_result"
    }
   ],
   "source": [
    "# Criando dicionário docsXwords com keys=nomes dos arquivos e Values=listas das palavras\n",
    "docsXwords = {}\n",
    "\n",
    "for k,v in docs.items():\n",
    "    words = nltk.word_tokenize(v)                        # tokenizando e criando lista de palavras\n",
    "    words = [w.lower() for w in words if w.isalpha() and len(w) != 1] # remove símbolos e 1 letra\n",
    "#     words = [w for w in words if w not in stop_words]    # remove stopwords\n",
    "    words = [PorterStemmer().stem(w) for w in words]     # stemming (normalização léxica) as repetidas\n",
    "    docsXwords[k] = words\n",
    "docsXwords.keys()"
   ]
  },
  {
   "cell_type": "code",
   "execution_count": 6,
   "metadata": {},
   "outputs": [
    {
     "data": {
      "text/plain": [
       "{'au1': 449,\n",
       " 'au10': 365,\n",
       " 'au11': 415,\n",
       " 'au12': 758,\n",
       " 'au13': 549,\n",
       " 'au14': 918,\n",
       " 'au15': 493,\n",
       " 'au2': 1122,\n",
       " 'au3': 265,\n",
       " 'au4': 368,\n",
       " 'au5': 728,\n",
       " 'au6': 398,\n",
       " 'au7': 552,\n",
       " 'au8': 506,\n",
       " 'au9': 349,\n",
       " 'ch1': 605,\n",
       " 'ch10': 676,\n",
       " 'ch11': 588,\n",
       " 'ch12': 757,\n",
       " 'ch13': 457,\n",
       " 'ch14': 615,\n",
       " 'ch15': 597,\n",
       " 'ch16': 731,\n",
       " 'ch17': 902,\n",
       " 'ch18': 963,\n",
       " 'ch19': 746,\n",
       " 'ch2': 615,\n",
       " 'ch20': 646,\n",
       " 'ch21': 1005,\n",
       " 'ch22': 666,\n",
       " 'ch23': 653,\n",
       " 'ch24': 1032,\n",
       " 'ch25': 857,\n",
       " 'ch26': 804,\n",
       " 'ch27': 602,\n",
       " 'ch28': 907,\n",
       " 'ch29': 669,\n",
       " 'ch3': 660,\n",
       " 'ch30': 1135,\n",
       " 'ch31': 468,\n",
       " 'ch32': 650,\n",
       " 'ch33': 791,\n",
       " 'ch34': 520,\n",
       " 'ch35': 761,\n",
       " 'ch36': 920,\n",
       " 'ch37': 606,\n",
       " 'ch38': 597,\n",
       " 'ch39': 848,\n",
       " 'ch4': 693,\n",
       " 'ch40': 896,\n",
       " 'ch41': 704,\n",
       " 'ch42': 549,\n",
       " 'ch43': 778,\n",
       " 'ch44': 996,\n",
       " 'ch45': 641,\n",
       " 'ch46': 686,\n",
       " 'ch47': 693,\n",
       " 'ch48': 847,\n",
       " 'ch49': 567,\n",
       " 'ch5': 583,\n",
       " 'ch50': 638,\n",
       " 'ch6': 802,\n",
       " 'ch7': 540,\n",
       " 'ch8': 854,\n",
       " 'ch9': 900,\n",
       " 'gr1': 410,\n",
       " 'gr10': 495,\n",
       " 'gr11': 323,\n",
       " 'gr12': 228,\n",
       " 'gr13': 257,\n",
       " 'gr14': 369,\n",
       " 'gr15': 381,\n",
       " 'gr16': 407,\n",
       " 'gr17': 244,\n",
       " 'gr18': 498,\n",
       " 'gr19': 486,\n",
       " 'gr2': 390,\n",
       " 'gr20': 451,\n",
       " 'gr21': 366,\n",
       " 'gr22': 635,\n",
       " 'gr23': 1016,\n",
       " 'gr24': 604,\n",
       " 'gr25': 981,\n",
       " 'gr26': 657,\n",
       " 'gr3': 519,\n",
       " 'gr4': 512,\n",
       " 'gr5': 168,\n",
       " 'gr6': 219,\n",
       " 'gr7': 191,\n",
       " 'gr8': 471,\n",
       " 'gr9': 460}"
      ]
     },
     "execution_count": 6,
     "metadata": {},
     "output_type": "execute_result"
    }
   ],
   "source": [
    "# Criando dicionário com a contagem da quantidade de palavras repetidas por documento\n",
    "dpalavras_repetidas = {}\n",
    "for k,v in docsXwords.items():\n",
    "    palavras_totais = len(v)\n",
    "    palavras_nao_repetidas = len(list(set(v)))\n",
    "    dpalavras_repetidas[k] = palavras_totais - palavras_nao_repetidas \n",
    "dpalavras_repetidas    "
   ]
  },
  {
   "cell_type": "code",
   "execution_count": 7,
   "metadata": {},
   "outputs": [
    {
     "name": "stdout",
     "output_type": "stream",
     "text": [
      "Documento com a maior quantidade de palavras repetidas: ch30\n",
      "Maior quantidade de palavras repetidas: 1135\n"
     ]
    }
   ],
   "source": [
    "# Verificação da maior quantidade\n",
    "max_value = 0\n",
    "max_key = ''\n",
    "for k,v in dpalavras_repetidas.items():\n",
    "    if v > max_value:\n",
    "        max_value = v\n",
    "        max_key = k\n",
    "print('Documento com a maior quantidade de palavras repetidas:', max_key)\n",
    "print('Maior quantidade de palavras repetidas:', max_value)"
   ]
  },
  {
   "cell_type": "markdown",
   "metadata": {},
   "source": [
    "### Exercício 3)\n",
    "Utilizando as listas de palavras do dicionário `docsXwords`, quais as três palavras que mais aparecem na coleção de documentos:\n",
    "\n",
    "a) the, is, of<br>\n",
    "b) that, is, of<br>\n",
    "<font color='red'>c) the, of, to </font><br>\n",
    "d) to, is, of"
   ]
  },
  {
   "cell_type": "code",
   "execution_count": 12,
   "metadata": {},
   "outputs": [
    {
     "name": "stdout",
     "output_type": "stream",
     "text": [
      "89321\n"
     ]
    },
    {
     "data": {
      "text/plain": [
       "['from',\n",
       " 'ssave',\n",
       " 'the',\n",
       " 'devil',\n",
       " 'reincarn',\n",
       " 'subject',\n",
       " 're',\n",
       " 'wa',\n",
       " 're',\n",
       " 'safeti']"
      ]
     },
     "execution_count": 12,
     "metadata": {},
     "output_type": "execute_result"
    }
   ],
   "source": [
    "# Criando uma lista única com todas as palavras\n",
    "words=[]\n",
    "\n",
    "for k,v in docsXwords.items():\n",
    "    words = words+v\n",
    "    \n",
    "print(len(words))\n",
    "words[:10]"
   ]
  },
  {
   "cell_type": "code",
   "execution_count": 40,
   "metadata": {},
   "outputs": [
    {
     "name": "stdout",
     "output_type": "stream",
     "text": [
      "As 3 palavras mais frequentes: [('the', 5014), ('of', 2627), ('to', 2611)]\n"
     ]
    }
   ],
   "source": [
    "# calculando a frequência de palavras\n",
    "counter = Counter(words)\n",
    "print('As 3 palavras mais frequentes:', counter.most_common()[:3])"
   ]
  },
  {
   "cell_type": "markdown",
   "metadata": {},
   "source": [
    "### Exercício 4)\n",
    "Qual o documento cuja lista de palavras possui o **menor** número de \"stop words\"? Quantas \"stop words\" aparecem neste documento:\n",
    "\n",
    "<font color='red'>a) gr5 com 47 \"stop words\" </font><br>\n",
    "b) gr17 com 47 \"stop words\"<br>\n",
    "c) gr5 com 37 \"stop words\"<br>\n",
    "d) gr17 com 37 \"stop words\"\n",
    "\n",
    "**Dica**: Crie um dicionário a partir de docsXwords onde a chave é o nome do documento e o valor o número de stop words no documento."
   ]
  },
  {
   "cell_type": "code",
   "execution_count": 41,
   "metadata": {},
   "outputs": [
    {
     "name": "stdout",
     "output_type": "stream",
     "text": [
      "['i', 'me', 'my', 'myself', 'we']\n"
     ]
    }
   ],
   "source": [
    "# lista das stop words\n",
    "stop_words = stopwords.words('english')\n",
    "print(stop_words[:5])"
   ]
  },
  {
   "cell_type": "code",
   "execution_count": 44,
   "metadata": {},
   "outputs": [
    {
     "data": {
      "text/plain": [
       "{'au1': 377,\n",
       " 'au10': 272,\n",
       " 'au11': 347,\n",
       " 'au12': 513,\n",
       " 'au13': 436,\n",
       " 'au14': 648,\n",
       " 'au15': 356,\n",
       " 'au2': 717,\n",
       " 'au3': 137,\n",
       " 'au4': 265,\n",
       " 'au5': 466,\n",
       " 'au6': 336,\n",
       " 'au7': 379,\n",
       " 'au8': 371,\n",
       " 'au9': 276,\n",
       " 'ch1': 443,\n",
       " 'ch10': 479,\n",
       " 'ch11': 439,\n",
       " 'ch12': 582,\n",
       " 'ch13': 307,\n",
       " 'ch14': 463,\n",
       " 'ch15': 424,\n",
       " 'ch16': 500,\n",
       " 'ch17': 608,\n",
       " 'ch18': 669,\n",
       " 'ch19': 556,\n",
       " 'ch2': 477,\n",
       " 'ch20': 422,\n",
       " 'ch21': 704,\n",
       " 'ch22': 491,\n",
       " 'ch23': 508,\n",
       " 'ch24': 708,\n",
       " 'ch25': 609,\n",
       " 'ch26': 530,\n",
       " 'ch27': 482,\n",
       " 'ch28': 686,\n",
       " 'ch29': 451,\n",
       " 'ch3': 491,\n",
       " 'ch30': 835,\n",
       " 'ch31': 369,\n",
       " 'ch32': 479,\n",
       " 'ch33': 567,\n",
       " 'ch34': 399,\n",
       " 'ch35': 526,\n",
       " 'ch36': 623,\n",
       " 'ch37': 304,\n",
       " 'ch38': 474,\n",
       " 'ch39': 604,\n",
       " 'ch4': 518,\n",
       " 'ch40': 615,\n",
       " 'ch41': 515,\n",
       " 'ch42': 395,\n",
       " 'ch43': 592,\n",
       " 'ch44': 734,\n",
       " 'ch45': 432,\n",
       " 'ch46': 462,\n",
       " 'ch47': 516,\n",
       " 'ch48': 572,\n",
       " 'ch49': 453,\n",
       " 'ch5': 388,\n",
       " 'ch50': 486,\n",
       " 'ch6': 597,\n",
       " 'ch7': 402,\n",
       " 'ch8': 676,\n",
       " 'ch9': 588,\n",
       " 'gr1': 287,\n",
       " 'gr10': 263,\n",
       " 'gr11': 173,\n",
       " 'gr12': 69,\n",
       " 'gr13': 130,\n",
       " 'gr14': 219,\n",
       " 'gr15': 286,\n",
       " 'gr16': 246,\n",
       " 'gr17': 68,\n",
       " 'gr18': 385,\n",
       " 'gr19': 361,\n",
       " 'gr2': 246,\n",
       " 'gr20': 207,\n",
       " 'gr21': 260,\n",
       " 'gr22': 288,\n",
       " 'gr23': 610,\n",
       " 'gr24': 350,\n",
       " 'gr25': 596,\n",
       " 'gr26': 479,\n",
       " 'gr3': 338,\n",
       " 'gr4': 387,\n",
       " 'gr5': 47,\n",
       " 'gr6': 146,\n",
       " 'gr7': 99,\n",
       " 'gr8': 339,\n",
       " 'gr9': 367}"
      ]
     },
     "execution_count": 44,
     "metadata": {},
     "output_type": "execute_result"
    }
   ],
   "source": [
    "# criando um dicionário para contar as stopwords\n",
    "\n",
    "dswords = {}\n",
    "for k,v in docsXwords.items():\n",
    "    count = 0\n",
    "    for word in v:\n",
    "        if word in stop_words:\n",
    "            count += 1\n",
    "    dswords[k] = count\n",
    "    \n",
    "dswords"
   ]
  },
  {
   "cell_type": "code",
   "execution_count": 52,
   "metadata": {},
   "outputs": [
    {
     "name": "stdout",
     "output_type": "stream",
     "text": [
      "Documento com a menor quantidade de stopwords: gr5\n",
      "Menor quantidade de stopwords: 47\n"
     ]
    }
   ],
   "source": [
    "# Verificação da menor quantidade de stopwords\n",
    "min_value = dswords[list(dswords.keys())[0]]    # iniciando min_value com um valor qualquer do dicionário, necessário\n",
    "min_key = ''                                    # transformar para lista para poder chamar pelo índice\n",
    "for k,v in dswords.items():\n",
    "    if v <= min_value:\n",
    "        min_value = v\n",
    "        min_key = k\n",
    "print('Documento com a menor quantidade de stopwords:', min_key)\n",
    "print('Menor quantidade de stopwords:', min_value)"
   ]
  },
  {
   "cell_type": "markdown",
   "metadata": {},
   "source": [
    "### Exercício 5) \n",
    "Utilize o dicionário `docsXwords` para construir\n",
    "uma matriz Documentos $\\times$ Palavras para a coleção de documentos do diretório `DocCol2`. Utilizando a distância cosseno, qual é o documento mais parecido com o documento 'ch7':\n",
    "\n",
    "a) ch8<br>\n",
    "<font color='red'>b) ch16</font><br>\n",
    "c) ch5<br>\n",
    "d) au8"
   ]
  },
  {
   "cell_type": "code",
   "execution_count": 57,
   "metadata": {},
   "outputs": [
    {
     "name": "stdout",
     "output_type": "stream",
     "text": [
      "      mirror  deciph  caelo  slow  conced  disregard  seattl  lamb  rotari  \\\n",
      "au1      0.0     0.0    0.0   0.0     0.0        0.0     0.0   0.0     0.0   \n",
      "au10     0.0     0.0    0.0   0.0     0.0        0.0     0.0   0.0     0.0   \n",
      "au11     0.0     0.0    0.0   0.0     0.0        0.0     0.0   0.0     0.0   \n",
      "au12     0.0     0.0    0.0   0.0     0.0        0.0     0.0   0.0     0.0   \n",
      "au13     0.0     0.0    0.0   0.0     0.0        0.0     0.0   0.0     0.0   \n",
      "\n",
      "      govern  ...  suitabl  demand  spica  manner  rationalist  whenev  teen  \\\n",
      "au1      0.0  ...      0.0     0.0    0.0     0.0          0.0     0.0   0.0   \n",
      "au10     0.0  ...      0.0     0.0    0.0     0.0          0.0     0.0   0.0   \n",
      "au11     0.0  ...      0.0     0.0    0.0     0.0          0.0     0.0   0.0   \n",
      "au12     0.0  ...      0.0     0.0    0.0     0.0          0.0     0.0   0.0   \n",
      "au13     0.0  ...      0.0     1.0    0.0     0.0          0.0     0.0   0.0   \n",
      "\n",
      "      recherch  andrea  silent  \n",
      "au1        0.0     0.0     0.0  \n",
      "au10       0.0     0.0     0.0  \n",
      "au11       0.0     0.0     0.0  \n",
      "au12       0.0     0.0     0.0  \n",
      "au13       0.0     0.0     0.0  \n",
      "\n",
      "[5 rows x 6880 columns]\n"
     ]
    }
   ],
   "source": [
    "# Utilizando o dicionário construído docsXwords para construir uma matriz Documentos × Palavras\n",
    "\n",
    "# unificando todas as palavras em uma única lista\n",
    "corpus = [palavras for sublista in list(docsXwords.values()) for palavras in sublista]\n",
    "\n",
    "# removendo repeticoes\n",
    "corpus = list(set(corpus))\n",
    "\n",
    "# criando dataframe documentosXpalavras df_dXp\n",
    "df_dXp = pd.DataFrame(data=np.zeros((len(list(docsXwords.keys())),len(corpus))),\n",
    "                      index = list(docsXwords.keys()), columns = corpus)\n",
    "\n",
    "for key,value in docsXwords.items():\n",
    "    dtemp = dict(Counter(value))       # cria dicionário temporário onde k: palavras e v: contagem\n",
    "    df_dXp.loc[key,list(dtemp.keys())] = list(dtemp.values())\n",
    "    \n",
    "print(df_dXp.head())"
   ]
  },
  {
   "cell_type": "code",
   "execution_count": 58,
   "metadata": {},
   "outputs": [
    {
     "data": {
      "text/plain": [
       "62"
      ]
     },
     "execution_count": 58,
     "metadata": {},
     "output_type": "execute_result"
    }
   ],
   "source": [
    "# encontrando o indice da linha de 'ch7' no DataFrame\n",
    "ch7_id = np.argwhere(df_dXp.index.values=='ch7')[0][0]\n",
    "ch7_id"
   ]
  },
  {
   "cell_type": "code",
   "execution_count": 60,
   "metadata": {},
   "outputs": [
    {
     "data": {
      "text/plain": [
       "array([ 3.58698429e-03, -7.95455518e-03, -1.67573987e-02, -2.93836180e-02,\n",
       "       -1.93399078e-02, -3.63761178e-02, -1.73884147e-02, -2.73249763e-02,\n",
       "       -1.03848178e-02, -1.41721324e-04, -3.03483280e-02,  9.06989033e-05,\n",
       "       -2.42509696e-02, -2.23389883e-02,  1.50943112e-02,  5.03794872e-03,\n",
       "        2.05868488e-02,  1.38454019e-02, -1.50996243e-02,  1.47764038e-02,\n",
       "        1.45177197e-02, -1.32497219e-02,  2.46826469e-02,  2.40932624e-02,\n",
       "       -5.21260763e-03, -2.93517761e-02, -1.79461420e-02, -2.40695434e-03,\n",
       "       -1.59416078e-02, -5.65962872e-03, -5.73608706e-03, -1.89403382e-02,\n",
       "       -5.06740753e-03,  4.35404114e-04, -1.48689418e-02, -2.08344045e-02,\n",
       "       -1.38180937e-03, -3.74645865e-03, -7.34020819e-03,  1.50079152e-02,\n",
       "       -1.44361028e-03, -1.94523847e-02, -1.30924755e-02, -1.69703416e-02,\n",
       "       -4.46143128e-03, -2.69005106e-02, -1.13745624e-02, -3.59360537e-03,\n",
       "       -2.74141133e-03,  5.28653062e-03, -2.85852148e-02, -2.85988811e-03,\n",
       "       -8.74410106e-03,  2.76627044e-04,  2.75386539e-03, -1.42023396e-02,\n",
       "        5.72231924e-04, -2.62248768e-02, -1.07019556e-02, -1.66939753e-02,\n",
       "       -5.31066336e-03, -9.82294609e-03,  1.13553685e+00, -2.03180191e-02,\n",
       "        4.35463340e-03, -1.07285828e-02, -2.10659442e-02, -9.49080053e-03,\n",
       "        1.21229629e-03, -2.38459491e-02, -2.42244572e-02, -1.26502247e-02,\n",
       "       -4.99321010e-03, -1.72845046e-02, -2.07512266e-02, -1.28885908e-02,\n",
       "       -9.54289998e-03, -2.83705972e-02, -1.17559668e-02, -2.14116245e-02,\n",
       "       -1.12417043e-02, -1.80506048e-02, -6.83847214e-03, -5.75073096e-03,\n",
       "       -1.68565274e-02, -3.13109154e-02,  1.43696619e-03, -1.16213336e-02,\n",
       "       -1.06032525e-02, -7.20282527e-03, -2.41089959e-02])"
      ]
     },
     "execution_count": 60,
     "metadata": {},
     "output_type": "execute_result"
    }
   ],
   "source": [
    "from sklearn.preprocessing import StandardScaler\n",
    "X = df_dXp.values\n",
    "X = StandardScaler().fit_transform(X)     # normalizando com\n",
    "\n",
    "# calculando a similaridade pela fórmula do cosseno\n",
    "# cos(x,y) = np.dot(x,y)/(np.linalg.norm(x)*np.linalg.norm(y))\n",
    "cosch7 = np.apply_along_axis(lambda x: \n",
    "             np.dot(X[ch7_id],x)/(np.linalg.norm(ch7_id)*np.linalg.norm(x)),1,X)  # calcula o cosseno entre o índice \n",
    "                                                                                  # escolhido e todos os demais índices\n",
    "cosch7"
   ]
  },
  {
   "cell_type": "code",
   "execution_count": 61,
   "metadata": {},
   "outputs": [
    {
     "name": "stdout",
     "output_type": "stream",
     "text": [
      "[ 5 85 10  3 25 50 77  7 45 57 12 70 90 69 13 79 66 35 74 63 41  4 31 81\n",
      " 26  6 73 43 84  2 59 28 18 34 55 21 42 75 71 78 87 46 80 65 58 88  8 61\n",
      " 76 67 52  1 38 89 82 83 30 29 60 24 32 72 44 37 47 51 48 27 40 36  9 11\n",
      " 53 33 56 68 86 54  0 64 15 49 17 20 19 39 14 16 23 22 62]\n",
      "Indice do documento mais parecido: 22\n",
      "Documento mais parecido com ch78: ch16\n"
     ]
    }
   ],
   "source": [
    "# na similaridade os mais similares são os últimos\n",
    "# ordenando e pegando o maior valor (note que o elemento [-1] é o próprio documento objeto da comparação)\n",
    "sim_ch7_id = np.argsort(cosch7)#[-2]     # argsort retorna o índice ordenado pelo argumento ()\n",
    "print(sim_ch7_id)                        # [-1] é o próprio índice do documento a ser comparado   \n",
    "sim_ch7_id = sim_ch7_id[-2]              # [-2] é o documento similar / mais parecido\n",
    "\n",
    "print('Indice do documento mais parecido:', sim_ch7_id)\n",
    "print('Documento mais parecido com ch78:',df_dXp.index.values[sim_ch7_id])"
   ]
  },
  {
   "cell_type": "code",
   "execution_count": 62,
   "metadata": {},
   "outputs": [],
   "source": [
    "from sklearn.decomposition import PCA\n",
    "import matplotlib.pyplot as plt\n",
    "%matplotlib inline\n"
   ]
  },
  {
   "cell_type": "code",
   "execution_count": 63,
   "metadata": {},
   "outputs": [
    {
     "name": "stdout",
     "output_type": "stream",
     "text": [
      "Linha da primeira ocorrência: {'au': 0, 'ch': 15, 'gr': 65}\n",
      "Linhas x Colunas após transformação pelo PCA: (91, 2)\n"
     ]
    }
   ],
   "source": [
    "# Plotando o resultado após transformação pelo PCA\n",
    "docid = {}\n",
    "for i,c in enumerate(df_dXp.index.values):\n",
    "   if c[0:2] not in docid:              # as duas letras iniciais do indice (nome do arquivo) indicam o\n",
    "      docid[c[0:2]] = i                 # tópico ao qual o documento está relacionado\n",
    "                                        # docid armazena como chave o tópico e valor \n",
    "print('Linha da primeira ocorrência:', docid)       # a linha onde aparece pela primeira vez \n",
    "        \n",
    "doc_ids = [docid[c[0:2]] for c in df_dXp.index.values] # cria uma lista de labels indicando\n",
    "                                                       # a qual topico o documento pertence.  \n",
    "                                                       # Os labels serão utilizados para colorir\n",
    "                                                       # os documentos de acordo com seu tópico\n",
    "X = df_dXp.values                                      # => Pego os atributos e converto para uma array de numpy\n",
    "X = StandardScaler().fit_transform(X)                  # Aplica uma normalização Z-score (=padronização)\n",
    "                                                       # nos dados para melhorar o resultado do PCA\n",
    "\n",
    "pca_obj = PCA(n_components=2)\n",
    "Xpca = pca_obj.fit_transform(X)\n",
    "\n",
    "print('Linhas x Colunas após transformação pelo PCA:', Xpca.shape)"
   ]
  },
  {
   "cell_type": "code",
   "execution_count": 67,
   "metadata": {},
   "outputs": [
    {
     "data": {
      "text/plain": [
       "<matplotlib.collections.PathCollection at 0x126d46ee310>"
      ]
     },
     "execution_count": 67,
     "metadata": {},
     "output_type": "execute_result"
    },
    {
     "data": {
      "image/png": "[encoded data removed]",
      "text/plain": [
       "<Figure size 432x288 with 1 Axes>"
      ]
     },
     "metadata": {
      "needs_background": "light"
     },
     "output_type": "display_data"
    }
   ],
   "source": [
    "fig, ax = plt.subplots()\n",
    "ax.set_xlim(-5, 2)\n",
    "ax.set_ylim(-10, 5)\n",
    "\n",
    "# ch7 e o documento mais parecido estão marcados com um X vermelho\n",
    "plt.scatter(Xpca[:,0],Xpca[:,1],c=doc_ids)\n",
    "plt.scatter(Xpca[[ch7_id,sim_ch7_id],0],Xpca[[ch7_id,sim_ch7_id],1],marker='x',color='r') #ch7_id=62; sim_ch7_id=22"
   ]
  },
  {
   "cell_type": "code",
   "execution_count": null,
   "metadata": {},
   "outputs": [],
   "source": []
  }
 ],
 "metadata": {
  "kernelspec": {
   "display_name": "Python 3",
   "language": "python",
   "name": "python3"
  },
  "language_info": {
   "codemirror_mode": {
    "name": "ipython",
    "version": 3
   },
   "file_extension": ".py",
   "mimetype": "text/x-python",
   "name": "python",
   "nbconvert_exporter": "python",
   "pygments_lexer": "ipython3",
   "version": "3.8.10"
  },
  "toc": {
   "base_numbering": 1,
   "nav_menu": {},
   "number_sections": true,
   "sideBar": true,
   "skip_h1_title": false,
   "title_cell": "Table of Contents",
   "title_sidebar": "Contents",
   "toc_cell": false,
   "toc_position": {},
   "toc_section_display": true,
   "toc_window_display": false
  }
 },
 "nbformat": 4,
 "nbformat_minor": 2
}
