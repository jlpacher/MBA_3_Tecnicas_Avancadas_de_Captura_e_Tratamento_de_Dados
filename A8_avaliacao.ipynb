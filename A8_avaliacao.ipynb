{
 "cells": [
  {
   "cell_type": "markdown",
   "metadata": {},
   "source": [
    "# <font color=\"blue\"> MBA em Ciência de Dados</font>\n",
    "# <font color=\"blue\">Técnicas Avançadas para Captura e Tratamento de Dados</font>\n",
    "\n",
    "## <font color=\"blue\"> Web Scraping </font>\n",
    "\n",
    "## <font color=\"blue\">Avaliação </font> \n",
    "\n",
    "**Material Produzido por Luis Gustavo Nonato**<br>\n",
    "**Cemeai - ICMC/USP São Carlos**\n",
    "\n",
    "---"
   ]
  },
  {
   "cell_type": "raw",
   "metadata": {},
   "source": [
    "HTML:<br>\n",
    "**<objeto> conteúdo </objeto>**      \n",
    "Objeto pode ser div, h2, a, img   \n",
    "a está relacionado a um link href   \n",
    "img está relacionada a uma src, source"
   ]
  },
  {
   "cell_type": "code",
   "execution_count": 1,
   "metadata": {},
   "outputs": [],
   "source": [
    "import requests as rq\n",
    "from bs4 import BeautifulSoup"
   ]
  },
  {
   "cell_type": "markdown",
   "metadata": {},
   "source": [
    "Considere a página de cultura e extensão do ICMC: \n",
    "\n",
    "[https://www.icmc.usp.br/cultura-e-extensao](https://www.icmc.usp.br/cultura-e-extensao)"
   ]
  },
  {
   "cell_type": "markdown",
   "metadata": {},
   "source": [
    "### Exercício 1)\n",
    "Faça uma requisição à página de Cultura e Extensão a fim de verificar o tipo de conteúdo. O conteúdo é do tipo:\n",
    "\n",
    "a) Tipo de Conteúdo: text/json<br>\n",
    "b) Tipo de Conteúdo: text/plain<br>\n",
    "<font color='red'>c) Tipo de Conteúdo: text/html</font><br>\n",
    "d) Tipo de Conteúdo: text/plain"
   ]
  },
  {
   "cell_type": "code",
   "execution_count": 2,
   "metadata": {},
   "outputs": [
    {
     "name": "stdout",
     "output_type": "stream",
     "text": [
      "200\n",
      "{'Date': 'Wed, 09 Jun 2021 21:59:27 GMT', 'Server': 'Apache', 'Set-Cookie': 'afb2ed0f859409001276218024a11e51=1s4l56dl7cc2aumhb23blq5pq1; path=/; secure; HttpOnly', 'P3P': 'CP=\"NOI ADM DEV PSAi COM NAV OUR OTRo STP IND DEM\"', 'Expires': 'Wed, 17 Aug 2005 00:00:00 GMT', 'Last-Modified': 'Wed, 09 Jun 2021 21:59:27 GMT', 'Cache-Control': 'no-store, no-cache, must-revalidate, post-check=0, pre-check=0', 'Pragma': 'no-cache', 'Vary': 'Accept-Encoding', 'Content-Encoding': 'gzip', 'Content-Length': '6252', 'Keep-Alive': 'timeout=5, max=100', 'Connection': 'Keep-Alive', 'Content-Type': 'text/html; charset=utf-8'}\n",
      "\n",
      "\n",
      "Tipo de conteudo: text/html; charset=utf-8\n"
     ]
    }
   ],
   "source": [
    "# Acessando a página de cultura e extensão  \n",
    "r = rq.get(\"https://www.icmc.usp.br/cultura-e-extensao\")\n",
    "\n",
    "print(r.status_code)  # verificando se a requisição foi bem sucedida\n",
    "\n",
    "print(r.headers)      # verificando as chaves dos dicionários\n",
    "\n",
    "print('\\n\\nTipo de conteudo:',r.headers['Content-Type']) # verificando o tipo de dado retornado pelo request"
   ]
  },
  {
   "cell_type": "code",
   "execution_count": null,
   "metadata": {},
   "outputs": [],
   "source": []
  },
  {
   "cell_type": "markdown",
   "metadata": {},
   "source": [
    "### Exercício 2)\n",
    "Faça uma requisição à página de Cultura e Extensão de modo a obter uma lista de todas as atividades descritas na página (são nove atividades) e o link para a página de cada uma das atividades. Armazene o resultado em um dicionário onde a chave é o título da atividade e o valor o link para a página correspondente.\n",
    "\n",
    "Quantos caracteres possui o link mais longo armazenado no dicionário?\n",
    "\n",
    "a) 40<br>\n",
    "b) 42<br>\n",
    "c) 45<br>\n",
    "<font color='red'>d) 49</font>\n",
    "\n",
    "**Dica**: As atividades estão marcadas no HTML por: \n",
    "```html\n",
    "div class=\"col-xs-12 col-sm-4 col-lg-3 quadro\"\n",
    "```"
   ]
  },
  {
   "cell_type": "code",
   "execution_count": 3,
   "metadata": {},
   "outputs": [],
   "source": [
    "# Fazendo parsing no HTML obtido \n",
    "soup = BeautifulSoup(r.text, 'html.parser')"
   ]
  },
  {
   "cell_type": "code",
   "execution_count": 4,
   "metadata": {},
   "outputs": [],
   "source": [
    "# a informação dos grupos esta dentro da marcação\n",
    "# <div class=\"col-xs-12 col-sm-4 col-lg-3 quadro\">\n",
    "atividades = soup('div',{'class':\"col-xs-12 col-sm-4 col-lg-3 quadro\"})"
   ]
  },
  {
   "cell_type": "code",
   "execution_count": 5,
   "metadata": {},
   "outputs": [
    {
     "name": "stdout",
     "output_type": "stream",
     "text": [
      "Cursos de extensão --> /cultura-e-extensao/cursos-de-extensao\n",
      "Eventos --> /eventos\n",
      "Exposições --> /cultura-e-extensao/exposicoes\n",
      "Grupos de extensão --> /cultura-e-extensao/grupos-de-extensao\n",
      "Museu da computação --> /cultura-e-extensao/museu\n",
      "Museu da fauna e flora --> /cultura-e-extensao/museu-da-fauna-e-flora\n",
      "Projetos e programas --> /cultura-e-extensao/projetos-e-programas\n",
      "Transferência de conhecimento --> /cultura-e-extensao/transferencia-de-conhecimento\n",
      "Coral --> /cultura-e-extensao/coral\n"
     ]
    }
   ],
   "source": [
    "# imprimindo o nome da atividade e a URL da página\n",
    "for a in atividades:\n",
    "    name = a.find('h4').text\n",
    "    url = a.find('a').get('href')\n",
    "    print(name,'-->',url)"
   ]
  },
  {
   "cell_type": "code",
   "execution_count": 6,
   "metadata": {},
   "outputs": [
    {
     "data": {
      "text/plain": [
       "dict_values(['/cultura-e-extensao/cursos-de-extensao', '/eventos', '/cultura-e-extensao/exposicoes', '/cultura-e-extensao/grupos-de-extensao', '/cultura-e-extensao/museu', '/cultura-e-extensao/museu-da-fauna-e-flora', '/cultura-e-extensao/projetos-e-programas', '/cultura-e-extensao/transferencia-de-conhecimento', '/cultura-e-extensao/coral'])"
      ]
     },
     "execution_count": 6,
     "metadata": {},
     "output_type": "execute_result"
    }
   ],
   "source": [
    "# Criando o dicionário título e link para a página\n",
    "cultura_e_extensao = {}\n",
    "for a in atividades:\n",
    "    name = a.find('h4').text\n",
    "    url = a.find('a').get('href')\n",
    "    cultura_e_extensao[name]=url\n",
    "\n",
    "cultura_e_extensao.values()\n"
   ]
  },
  {
   "cell_type": "code",
   "execution_count": 7,
   "metadata": {},
   "outputs": [
    {
     "name": "stdout",
     "output_type": "stream",
     "text": [
      "/cultura-e-extensao/cursos-de-extensao : 38\n",
      "/eventos : 8\n",
      "/cultura-e-extensao/exposicoes : 30\n",
      "/cultura-e-extensao/grupos-de-extensao : 38\n",
      "/cultura-e-extensao/museu : 25\n",
      "/cultura-e-extensao/museu-da-fauna-e-flora : 42\n",
      "/cultura-e-extensao/projetos-e-programas : 40\n",
      "/cultura-e-extensao/transferencia-de-conhecimento : 49\n",
      "/cultura-e-extensao/coral : 25\n",
      "\n",
      "Link mais longo: 49\n"
     ]
    }
   ],
   "source": [
    "# Calculando o link mais longo\n",
    "\n",
    "link_max=0\n",
    "\n",
    "for c in cultura_e_extensao.values():\n",
    "    print(c, ':', len(c))\n",
    "    if (len(c))>=link_max:\n",
    "        link_max = (len(c))\n",
    "        \n",
    "print('\\nLink mais longo:', link_max)"
   ]
  },
  {
   "cell_type": "markdown",
   "metadata": {},
   "source": [
    "### Exercício 3)\n",
    "Na página principal das atividades de Cultura e Extensão, cada atividade é ilustrada por uma imagem. Recupere o nome dos arquivos onde as imagens estão armazenadas. Quantas das imagens estão no formato .jpg?\n",
    "\n",
    "a) 6<br>\n",
    "<font color='red'>b) 8</font><br>\n",
    "c) 9<br>\n",
    "d) 1\n",
    "\n",
    "**Dica**: As imagens também estão marcadas no HTML por: \n",
    "```html\n",
    "div class=\"col-xs-12 col-sm-4 col-lg-3 quadro\"\n",
    "```"
   ]
  },
  {
   "cell_type": "code",
   "execution_count": 8,
   "metadata": {},
   "outputs": [],
   "source": [
    "# a informação das imagens está dentro da marcação\n",
    "# <div class=\"col-xs-12 col-sm-4 col-lg-3 quadro\">\n",
    "atividades = soup('div',{'class':\"col-xs-12 col-sm-4 col-lg-3 quadro\"})"
   ]
  },
  {
   "cell_type": "code",
   "execution_count": 9,
   "metadata": {},
   "outputs": [
    {
     "name": "stdout",
     "output_type": "stream",
     "text": [
      "/images/cultura-e-extensao/1-cursos-de-extensao.jpg\n",
      "/images/cultura-e-extensao/2-eventos.jpg\n",
      "/images/cultura-e-extensao/3-exposicoes.jpg\n",
      "/images/cultura-e-extensao/4-grupos-de-extensao.jpg\n",
      "/images/cultura-e-extensao/5-museu.jpg\n",
      "/images/cultura-e-extensao/6-museu-fauna-e-flora.jpg\n",
      "/images/cultura-e-extensao/7-projetos-e-programas.jpg\n",
      "/images/cultura-e-extensao/8-transferencia-de-conhecimento.jpg\n",
      "https://web.icmc.usp.br/SCAPINST/portal/coral2019.png\n"
     ]
    }
   ],
   "source": [
    "# imprimindo o nome dos arquivos onde as imagens estão armazenadas\n",
    "for a in atividades:\n",
    "    imagens = a.find('img').get('src')\n",
    "    print(imagens)"
   ]
  },
  {
   "cell_type": "code",
   "execution_count": 10,
   "metadata": {},
   "outputs": [
    {
     "name": "stdout",
     "output_type": "stream",
     "text": [
      "Lista das imagens:\n",
      " ['/images/cultura-e-extensao/1-cursos-de-extensao.jpg', '/images/cultura-e-extensao/2-eventos.jpg', '/images/cultura-e-extensao/3-exposicoes.jpg', '/images/cultura-e-extensao/4-grupos-de-extensao.jpg', '/images/cultura-e-extensao/5-museu.jpg', '/images/cultura-e-extensao/6-museu-fauna-e-flora.jpg', '/images/cultura-e-extensao/7-projetos-e-programas.jpg', '/images/cultura-e-extensao/8-transferencia-de-conhecimento.jpg', 'https://web.icmc.usp.br/SCAPINST/portal/coral2019.png']\n",
      "\n",
      "Lista dos formatos:\n",
      " ['jpg', 'jpg', 'jpg', 'jpg', 'jpg', 'jpg', 'jpg', 'jpg', 'png']\n",
      "\n",
      "Número de imagens no formato .jpg = 8\n"
     ]
    }
   ],
   "source": [
    "# guardando os arquivos das imagens em uma lista\n",
    "\n",
    "imagens_list = []   # lista das imagens\n",
    "formatos_list = []   # lista dos formatos\n",
    "\n",
    "for a in atividades:\n",
    "    imagem = a.find('img').get('src')\n",
    "    imagens_list.append(imagem)\n",
    "    formato = imagem.split(sep='.')[-1]  \n",
    "    formatos_list.append(formato)\n",
    "    \n",
    "print('Lista das imagens:\\n', imagens_list)\n",
    "\n",
    "print('\\nLista dos formatos:\\n', formatos_list)\n",
    "\n",
    "# Contando o número de formatos .jpg\n",
    "print('\\nNúmero de imagens no formato .jpg =', formatos_list.count('jpg'))"
   ]
  },
  {
   "cell_type": "code",
   "execution_count": null,
   "metadata": {},
   "outputs": [],
   "source": []
  },
  {
   "cell_type": "markdown",
   "metadata": {},
   "source": [
    "### Exercício 4) \n",
    "Dentre as páginas das atividades de cultura e extensão, qual a que possui o maior número de links para outras páginas? Você deve **desconsiderar** links da forma '#' e '/'.\n",
    "\n",
    "a) Página do Museu da computação<br>\n",
    "<font color='red'>b) Página dos Grupos de extensão</font><br>\n",
    "c) Página de Eventos<br>\n",
    "d) Página de Projetos e programas\n",
    "\n",
    "**Dica**: Faça uma requisição para cada uma das páginas cujos links foram armazenados no exercício; 2) concatene a URL \"https://www.icmc.usp.br/\" com esses links; e 3) encontre todos os marcadores 'a' nestas páginas. Para cada marcador 'a', obtenha o conteúdo dos 'href', verificando se tal conteúdo é diferente de '/' e '#'."
   ]
  },
  {
   "cell_type": "code",
   "execution_count": 11,
   "metadata": {},
   "outputs": [
    {
     "name": "stdout",
     "output_type": "stream",
     "text": [
      "['https://www.icmc.usp.br/cultura-e-extensao/cursos-de-extensao', 'https://www.icmc.usp.br/eventos', 'https://www.icmc.usp.br/cultura-e-extensao/exposicoes', 'https://www.icmc.usp.br/cultura-e-extensao/grupos-de-extensao', 'https://www.icmc.usp.br/cultura-e-extensao/museu', 'https://www.icmc.usp.br/cultura-e-extensao/museu-da-fauna-e-flora', 'https://www.icmc.usp.br/cultura-e-extensao/projetos-e-programas', 'https://www.icmc.usp.br/cultura-e-extensao/transferencia-de-conhecimento', 'https://www.icmc.usp.br/cultura-e-extensao/coral']\n"
     ]
    }
   ],
   "source": [
    "# Concatenando \"https://www.icmc.usp.br/\" com as URL do dicionário cultura_e_extensao\n",
    "\n",
    "url_list = []\n",
    "\n",
    "for k, v in cultura_e_extensao.items():\n",
    "    url = 'https://www.icmc.usp.br'\n",
    "    url += v\n",
    "    url_list.append(url)\n",
    "    \n",
    "print(url_list)"
   ]
  },
  {
   "cell_type": "code",
   "execution_count": 12,
   "metadata": {},
   "outputs": [
    {
     "data": {
      "text/plain": [
       "{'https://www.icmc.usp.br/cultura-e-extensao/cursos-de-extensao': 80,\n",
       " 'https://www.icmc.usp.br/eventos': 75,\n",
       " 'https://www.icmc.usp.br/cultura-e-extensao/exposicoes': 96,\n",
       " 'https://www.icmc.usp.br/cultura-e-extensao/grupos-de-extensao': 102,\n",
       " 'https://www.icmc.usp.br/cultura-e-extensao/museu': 57,\n",
       " 'https://www.icmc.usp.br/cultura-e-extensao/museu-da-fauna-e-flora': 75,\n",
       " 'https://www.icmc.usp.br/cultura-e-extensao/projetos-e-programas': 69,\n",
       " 'https://www.icmc.usp.br/cultura-e-extensao/transferencia-de-conhecimento': 71,\n",
       " 'https://www.icmc.usp.br/cultura-e-extensao/coral': 64}"
      ]
     },
     "execution_count": 12,
     "metadata": {},
     "output_type": "execute_result"
    }
   ],
   "source": [
    "# Contador do número de links\n",
    "counter = {}\n",
    "\n",
    "for url in url_list:\n",
    "    r = rq.get(url)\n",
    "    soup = BeautifulSoup(r.text, 'html.parser')\n",
    "    all_href = soup.find_all('a')\n",
    "    all_links = []\n",
    "    for href_sub in all_href:\n",
    "        link = href_sub['href']\n",
    "        if link not in ['/', '#']:\n",
    "            all_links.append(link)\n",
    "        counter[url]=len(all_links)\n",
    "\n",
    "counter"
   ]
  },
  {
   "cell_type": "markdown",
   "metadata": {},
   "source": [
    "### Exercício 5)\n",
    "Dentre as atividades de cultura e extensão, existem as _Exposições_, as quais estão descritas na página [https://www.icmc.usp.br/cultura-e-extensao/exposicoes](https://www.icmc.usp.br/cultura-e-extensao/exposicoes). Construa uma lista com os links de todas as exposições listadas na página. Quantos caracteres possui o **menor** link da lista?\n",
    "\n",
    "<font color='red'>a) 63</font><br>\n",
    "b) 82<br>\n",
    "c) 97<br>\n",
    "d) 100\n",
    "\n",
    "**Dica**: Busque por todos os 'href' dentro do marcador \n",
    "```html\n",
    "<div  class=\"cck-line-body\">\n",
    "```"
   ]
  },
  {
   "cell_type": "code",
   "execution_count": 13,
   "metadata": {},
   "outputs": [
    {
     "name": "stdout",
     "output_type": "stream",
     "text": [
      "Nome do menor link:/noticias/2479-nanoarte-invade-icmc-na-semana-de-arte-e-cultura \n",
      "Caracteres:63\n"
     ]
    }
   ],
   "source": [
    "# Acessando a página de cultura e extensão/exposicoes  \n",
    "r = rq.get(\"https://www.icmc.usp.br/cultura-e-extensao/exposicoes\")\n",
    "\n",
    "soup = BeautifulSoup(r.text, 'html.parser')\n",
    "\n",
    "grupo = soup('div',{'class':\"cck-line-body\"})\n",
    "\n",
    "caracteres = {}\n",
    "for g in grupo:\n",
    "    for a in g.find_all('a'):\n",
    "        link = a.get('href')\n",
    "#         link = a['href']    # Pode ser chamado como uma chave de um dicionário\n",
    "        caracteres[link] = len(link)\n",
    "\n",
    "menor_link = list(caracteres.values())[0]\n",
    "name_link = list(caracteres.keys())[0]\n",
    "for k,v in caracteres.items():\n",
    "    if v < menor_link:\n",
    "        menor_link = v\n",
    "        name_link = k\n",
    "        \n",
    "print(f\"Nome do menor link:{name_link} \\nCaracteres:{menor_link}\")\n",
    "    "
   ]
  },
  {
   "cell_type": "code",
   "execution_count": 14,
   "metadata": {},
   "outputs": [
    {
     "data": {
      "text/plain": [
       "[63,\n",
       " 76,\n",
       " 77,\n",
       " 79,\n",
       " 80,\n",
       " 81,\n",
       " 82,\n",
       " 84,\n",
       " 89,\n",
       " 92,\n",
       " 93,\n",
       " 93,\n",
       " 96,\n",
       " 97,\n",
       " 102,\n",
       " 103,\n",
       " 107,\n",
       " 111,\n",
       " 113,\n",
       " 113,\n",
       " 113,\n",
       " 113,\n",
       " 113,\n",
       " 113,\n",
       " 113,\n",
       " 113,\n",
       " 113,\n",
       " 113,\n",
       " 114,\n",
       " 116,\n",
       " 119,\n",
       " 126,\n",
       " 128,\n",
       " 128]"
      ]
     },
     "execution_count": 14,
     "metadata": {},
     "output_type": "execute_result"
    }
   ],
   "source": [
    "# Lista ordenada pelo número de caracteres\n",
    "sorted(list(caracteres.values()))"
   ]
  },
  {
   "cell_type": "code",
   "execution_count": null,
   "metadata": {},
   "outputs": [],
   "source": []
  }
 ],
 "metadata": {
  "kernelspec": {
   "display_name": "Python 3",
   "language": "python",
   "name": "python3"
  },
  "language_info": {
   "codemirror_mode": {
    "name": "ipython",
    "version": 3
   },
   "file_extension": ".py",
   "mimetype": "text/x-python",
   "name": "python",
   "nbconvert_exporter": "python",
   "pygments_lexer": "ipython3",
   "version": "3.8.10"
  }
 },
 "nbformat": 4,
 "nbformat_minor": 2
}
