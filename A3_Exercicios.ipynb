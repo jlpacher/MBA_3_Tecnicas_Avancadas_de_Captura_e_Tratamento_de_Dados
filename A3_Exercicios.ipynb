{
 "cells": [
  {
   "cell_type": "markdown",
   "metadata": {},
   "source": [
    "# MBA em Ciência de Dados\n",
    "## Técnicas Avançadas de Captura e Tratamento de Dados\n",
    "\n",
    "\n",
    "### <span style=\"color:darkred\">Módulo III - Aquisição e Transformação de Dados</span>\n",
    "\n",
    "\n",
    "### <span style=\"color:darkred\">Exercícios</span>\n",
    "\n",
    "Moacir Antonelli Ponti\n",
    "\n",
    "CeMEAI - ICMC/USP São Carlos\n",
    "\n",
    "---\n",
    "\n",
    "#### <span style=\"color:red\">Recomenda-se fortemente que os exercícios sejam feitos sem consultar as respostas antecipadamente.</span>\n",
    "\n",
    "---"
   ]
  },
  {
   "cell_type": "markdown",
   "metadata": {},
   "source": [
    "Utilize as bibliotecas conforme descrito abaixo"
   ]
  },
  {
   "cell_type": "code",
   "execution_count": 10,
   "metadata": {},
   "outputs": [],
   "source": [
    "# carregando as bibliotecas necessárias\n",
    "import numpy as np\n",
    "import matplotlib.pyplot as plt\n",
    "import pandas as pd"
   ]
  },
  {
   "cell_type": "markdown",
   "metadata": {},
   "source": [
    "### Exercício 1)\n",
    " \n",
    "Tomando como base o conteúdo das seções 1.3.1, 1.3.2 e 1.3.3 do Capítulo \"Introduction to Data\", de Open Statistics. Considere os seguintes cenários:\n",
    "\n",
    "I - Analisando dados de educação, amostramos 30 escolas de todo o Brasil e observamos que, dessas 30 escolas, 10% não submeteram o resultado Pisa para Escolas, sendo que todas essas estão no estado de São Paulo. Assim, concluímos que existe uma possível relação entre não submissão e o estado de São Paulo.<br>\n",
    "II - Desejamos estudar a percepção da facilidade de usar um aplicativo desenvolvido por nossa empresa para uso no segmento de atividades físicas/esportes. Para isso montamos um questionário e selecionamos 20 pessoas da própria empresa, que não trabalham com desenvolvimento, para avaliar a sua facilidade de uso.<br>\n",
    "\n",
    "Podemos considerar que I e II representam:\n",
    "\n",
    "(a) I - evidência confiável e conclusão correta; II - dados com amostragem de conveniência<br>\n",
    "<font color='red'>(b) I - evidência anedotal e conclusão incorreta; II - dados com viés de seleção<br></font>\n",
    "(c) I - evidência confiável e conclusão provavelmente correta; II - dados com amostragem representativa<br>\n",
    "(d) I - evidência anedotal e conclusão incorreta; II - dados com amostragem baseada em agrupamento<br>"
   ]
  },
  {
   "cell_type": "markdown",
   "metadata": {},
   "source": [
    "Resp: (b)   \n",
    "I - Poucos dados, levando a evidências anedotais, com conclusão provavelmente incorreta, SP tem mais escolas, o que numa amostragem pequena pode levar ao erro       \n",
    "II - Viés de seleção ou amostragem de conveniência, não tendo sido levada em conta toda a população de interesse.   \n",
    "Viés de amostragem   \n",
    ". considerado frequentemente o mais perigoso   \n",
    ". muitos métodos consideram premissas sobre a amostragem   \n",
    ". frequentemente i.i.d. (independente e identicamente distribuída)\n"
   ]
  },
  {
   "cell_type": "markdown",
   "metadata": {},
   "source": [
    "### Exercício 2)\n",
    " \n",
    "Gostaríamos de obter e analisar dados disponíveis publicamente a partir de um repositório existente na Internet. Esses dados são referentes a indivíduos que contrataram serviços. Qual a primeira investigação ou procedimento a realizar ao obter esses dados?\n",
    "\n",
    "<font color='red'>(a) conhecer o espaço amostral dos dados e observar questões éticas como a privacidade dos respondentes<br></font>\n",
    "(b) realizar uma análise exploratória antes de qualquer análise<br>\n",
    "(c) auditar os dados, procurando por inconsistências como outliers<br>\n",
    "(d) inferir/treinar modelos diretamente a partir dos dados e medir sua acurácia<br>"
   ]
  },
  {
   "cell_type": "markdown",
   "metadata": {},
   "source": [
    "Resp: (a)   \n",
    "Antes de qualquer análise de dados, é preciso se preocupar com as questões éticas e de privacidade."
   ]
  },
  {
   "cell_type": "markdown",
   "metadata": {},
   "source": [
    "### Exercício 3)\n",
    " \n",
    "Uma empresa deseja entender melhor o potencial de mercado para um novo produto em um certo público-alvo. Qual das alternativas abaixo representa a melhor forma de proceder após decidir que a coleta dos dados é necessária?\n",
    "\n",
    "(a) permitir que os usuários enviem suas opiniões por meio de áudio ou vídeo, para depois coletar os dados a partir desse material<br>\n",
    "(b) implementar um questionário via aplicativo rapidamente em uma rede social popular e testá-lo massivamente, para verificar se os dados são consistentes com o que é esperado<br>\n",
    "(c) segmentar o público alvo e pedir ao menos 1 de cada segmento qual a chance, de 1 a 5 do indivíduo comprar esse produto<br>\n",
    "<font color='red'>(d) especificar detalhes dos dados a serem coletados, planejar como obter uma amostra representativa do público alvo<br></font>"
   ]
  },
  {
   "cell_type": "markdown",
   "metadata": {},
   "source": [
    "Resp: (d)   \n",
    "Antes de iniciar qualquer pesquisa, é necessário definir exatamente os dados que serão coletados, e fazer um planejamento de forma a obter uma amostragem representativa.   \n"
   ]
  },
  {
   "cell_type": "markdown",
   "metadata": {},
   "source": [
    "### Exercício 4)\n",
    " \n",
    "Acesse o portal : http://catalogo.governoaberto.sp.gov.br/\n",
    "\n",
    "Procure por duas fontes de dados e verifique o formato em que estão disponíveis\n",
    "\n",
    "I - \"Quantidade de alunos por tipo de ensino da rede estadual - 01/2019\" (Secretaria da Educação - Sede)<br>\n",
    "II - \"Pesquisa de Caracterização Socioeconômica do Usuário e seus Hábitos de Viagem - 2018\" (Companhia do Metropolitano de São Paulo - Metrô) \n",
    "\n",
    "Esses dados estão disponíveis no tipo:\n",
    "\n",
    "(a) I e II são arquivos simples com dados estruturados em um 'dicionário de dados', com linhas e colunas<br>\n",
    "(b) I e II são dados estruturados disponíveis em sistema gerenciador de bancos de dados<br>\n",
    "<font color='red'>(c) I são dados estruturados em arquivo simples, II dados não estruturados em arquivo binário<br></font>\n",
    "(d) I dados estruturados em arquivo binário, II são dados estruturados em arquivo texto<br>\n"
   ]
  },
  {
   "cell_type": "markdown",
   "metadata": {},
   "source": [
    "Resp: (c)   \n",
    "I csv: dados estruturados simples   \n",
    "II pdf: dados não estruturados em arquivo binário, com gráficos e tabelas, acesso via API"
   ]
  },
  {
   "cell_type": "markdown",
   "metadata": {},
   "source": [
    "### Exercício 5)\n",
    " \n",
    "Baixe os dados relativos ao item I do exercício anterior, e carregue-os considerando as particularidades do arquivo em questão. Não carregue o cabeçalho (use `header=None`). Após carregar os dados para um dataframe remova as colunas de posição 21 em diante, mantendo as colunas de 0 a 20.\n",
    "\n",
    "Essas colunas restantes possuem significado de acordo com o \"dicionário de dados\", disponível ao visualizar o recurso dos dados no site onde o arquivo foi obtido. As colunas devem ser rotuladas da seguinte forma, em ordem:\n",
    "- CDREDE\n",
    "- DE\n",
    "- CODMUN\n",
    "- MUN\n",
    "- CATEG\n",
    "- COD_ESC\n",
    "- TIPOESC\n",
    "- CODVINC\n",
    "- NOMESC\n",
    "- ENDESC\n",
    "- NUMESC\n",
    "- BAIESC\n",
    "- EMAIL\n",
    "- FONE 1\n",
    "- ZONA\n",
    "- ED_INFANTIL\n",
    "- CLASSES ESPECIAIS\n",
    "- SALA DE RECURSO\n",
    "- ANOS INICIAIS\n",
    "- ANOS FINAIS\n",
    "- ENSINO MEDIO\n",
    "\n",
    "Para isso, utilizamos:\n",
    "`dc.columns = ['CDREDE', 'DE', 'CODMUN', 'MUN', 'CATEG', 'COD_ESC', 'TIPOESC', 'CODVINC', 'NOMESC', 'ENDESC', 'NUMESC', 'BAIESC', 'EMAIL', 'FONE1', 'ZONA', 'ED_INFANTIL', 'CLASSES ESPECIAIS', 'SALA DE RECURSO', 'ANOS INICIAIS', 'ANOS FINAIS', 'ENSINO MEDIO']`\n",
    "\n",
    "Quantas linhas/exemplos existem nessa base de dados e qual é o tipo das variáveis NOMESC e ENSINO MEDIO, respectivamente?\n",
    "\n",
    "<font color='red'>(a) 5366, object, int64<br></font>\n",
    "(b) 21, category, int8<br>\n",
    "(c) 21, object, int64<br>\n",
    "(d) 5366, category, float64<br>\n"
   ]
  },
  {
   "cell_type": "markdown",
   "metadata": {},
   "source": [
    "csv 37 colunas\n"
   ]
  },
  {
   "cell_type": "code",
   "execution_count": 11,
   "metadata": {},
   "outputs": [
    {
     "data": {
      "text/html": [
       "<div>\n",
       "<style scoped>\n",
       "    .dataframe tbody tr th:only-of-type {\n",
       "        vertical-align: middle;\n",
       "    }\n",
       "\n",
       "    .dataframe tbody tr th {\n",
       "        vertical-align: top;\n",
       "    }\n",
       "\n",
       "    .dataframe thead th {\n",
       "        text-align: right;\n",
       "    }\n",
       "</style>\n",
       "<table border=\"1\" class=\"dataframe\">\n",
       "  <thead>\n",
       "    <tr style=\"text-align: right;\">\n",
       "      <th></th>\n",
       "      <th>0</th>\n",
       "      <th>1</th>\n",
       "      <th>2</th>\n",
       "      <th>3</th>\n",
       "      <th>4</th>\n",
       "      <th>5</th>\n",
       "      <th>6</th>\n",
       "      <th>7</th>\n",
       "      <th>8</th>\n",
       "      <th>9</th>\n",
       "      <th>...</th>\n",
       "      <th>27</th>\n",
       "      <th>28</th>\n",
       "      <th>29</th>\n",
       "      <th>30</th>\n",
       "      <th>31</th>\n",
       "      <th>32</th>\n",
       "      <th>33</th>\n",
       "      <th>34</th>\n",
       "      <th>35</th>\n",
       "      <th>36</th>\n",
       "    </tr>\n",
       "  </thead>\n",
       "  <tbody>\n",
       "    <tr>\n",
       "      <th>0</th>\n",
       "      <td>10101</td>\n",
       "      <td>NORTE 1</td>\n",
       "      <td>100</td>\n",
       "      <td>SAO PAULO</td>\n",
       "      <td>1</td>\n",
       "      <td>12</td>\n",
       "      <td>8</td>\n",
       "      <td>12</td>\n",
       "      <td>AYRES DE MOURA PROFESSOR</td>\n",
       "      <td>RUA ARTUR ORLANDO</td>\n",
       "      <td>...</td>\n",
       "      <td>0</td>\n",
       "      <td>0</td>\n",
       "      <td>0</td>\n",
       "      <td>16</td>\n",
       "      <td>0</td>\n",
       "      <td>0</td>\n",
       "      <td>0</td>\n",
       "      <td>0</td>\n",
       "      <td>0</td>\n",
       "      <td>0</td>\n",
       "    </tr>\n",
       "    <tr>\n",
       "      <th>1</th>\n",
       "      <td>10101</td>\n",
       "      <td>NORTE 1</td>\n",
       "      <td>100</td>\n",
       "      <td>SAO PAULO</td>\n",
       "      <td>1</td>\n",
       "      <td>24</td>\n",
       "      <td>8</td>\n",
       "      <td>24</td>\n",
       "      <td>GAVIAO PEIXOTO BRIGADEIRO</td>\n",
       "      <td>MOGEIRO</td>\n",
       "      <td>...</td>\n",
       "      <td>0</td>\n",
       "      <td>0</td>\n",
       "      <td>21</td>\n",
       "      <td>18</td>\n",
       "      <td>35</td>\n",
       "      <td>0</td>\n",
       "      <td>0</td>\n",
       "      <td>18</td>\n",
       "      <td>0</td>\n",
       "      <td>0</td>\n",
       "    </tr>\n",
       "    <tr>\n",
       "      <th>2</th>\n",
       "      <td>10101</td>\n",
       "      <td>NORTE 1</td>\n",
       "      <td>100</td>\n",
       "      <td>SAO PAULO</td>\n",
       "      <td>1</td>\n",
       "      <td>36</td>\n",
       "      <td>8</td>\n",
       "      <td>36</td>\n",
       "      <td>JOAO SOLIMEO</td>\n",
       "      <td>DO SABAO</td>\n",
       "      <td>...</td>\n",
       "      <td>0</td>\n",
       "      <td>6</td>\n",
       "      <td>0</td>\n",
       "      <td>35</td>\n",
       "      <td>28</td>\n",
       "      <td>0</td>\n",
       "      <td>0</td>\n",
       "      <td>0</td>\n",
       "      <td>0</td>\n",
       "      <td>0</td>\n",
       "    </tr>\n",
       "    <tr>\n",
       "      <th>3</th>\n",
       "      <td>10101</td>\n",
       "      <td>NORTE 1</td>\n",
       "      <td>100</td>\n",
       "      <td>SAO PAULO</td>\n",
       "      <td>1</td>\n",
       "      <td>48</td>\n",
       "      <td>8</td>\n",
       "      <td>48</td>\n",
       "      <td>WALFREDO ARANTES CALDAS PROFESSOR</td>\n",
       "      <td>DEPUTADO CANTIDIO SAMPAIO</td>\n",
       "      <td>...</td>\n",
       "      <td>0</td>\n",
       "      <td>0</td>\n",
       "      <td>0</td>\n",
       "      <td>0</td>\n",
       "      <td>34</td>\n",
       "      <td>0</td>\n",
       "      <td>0</td>\n",
       "      <td>0</td>\n",
       "      <td>0</td>\n",
       "      <td>0</td>\n",
       "    </tr>\n",
       "    <tr>\n",
       "      <th>4</th>\n",
       "      <td>10101</td>\n",
       "      <td>NORTE 1</td>\n",
       "      <td>100</td>\n",
       "      <td>SAO PAULO</td>\n",
       "      <td>1</td>\n",
       "      <td>59</td>\n",
       "      <td>8</td>\n",
       "      <td>59</td>\n",
       "      <td>SEBASTIAO DE OLIVEIRA GUSMAO PROFESSOR</td>\n",
       "      <td>RUA FRANCISCO GIRON</td>\n",
       "      <td>...</td>\n",
       "      <td>0</td>\n",
       "      <td>0</td>\n",
       "      <td>0</td>\n",
       "      <td>0</td>\n",
       "      <td>33</td>\n",
       "      <td>0</td>\n",
       "      <td>0</td>\n",
       "      <td>0</td>\n",
       "      <td>0</td>\n",
       "      <td>0</td>\n",
       "    </tr>\n",
       "  </tbody>\n",
       "</table>\n",
       "<p>5 rows × 37 columns</p>\n",
       "</div>"
      ],
      "text/plain": [
       "      0        1    2          3   4   5   6   7   \\\n",
       "0  10101  NORTE 1  100  SAO PAULO   1  12   8  12   \n",
       "1  10101  NORTE 1  100  SAO PAULO   1  24   8  24   \n",
       "2  10101  NORTE 1  100  SAO PAULO   1  36   8  36   \n",
       "3  10101  NORTE 1  100  SAO PAULO   1  48   8  48   \n",
       "4  10101  NORTE 1  100  SAO PAULO   1  59   8  59   \n",
       "\n",
       "                                       8                          9   ... 27  \\\n",
       "0                AYRES DE MOURA PROFESSOR          RUA ARTUR ORLANDO  ...  0   \n",
       "1               GAVIAO PEIXOTO BRIGADEIRO                   MOGEIRO   ...  0   \n",
       "2                            JOAO SOLIMEO                   DO SABAO  ...  0   \n",
       "3       WALFREDO ARANTES CALDAS PROFESSOR  DEPUTADO CANTIDIO SAMPAIO  ...  0   \n",
       "4  SEBASTIAO DE OLIVEIRA GUSMAO PROFESSOR        RUA FRANCISCO GIRON  ...  0   \n",
       "\n",
       "  28  29  30  31  32  33  34  35  36  \n",
       "0  0   0  16   0   0   0   0   0   0  \n",
       "1  0  21  18  35   0   0  18   0   0  \n",
       "2  6   0  35  28   0   0   0   0   0  \n",
       "3  0   0   0  34   0   0   0   0   0  \n",
       "4  0   0   0  33   0   0   0   0   0  \n",
       "\n",
       "[5 rows x 37 columns]"
      ]
     },
     "execution_count": 11,
     "metadata": {},
     "output_type": "execute_result"
    }
   ],
   "source": [
    "df = pd.read_csv('VW_ALUNOS_POR_ESCOLA_20190517_0.csv', header=None, sep = ';')\n",
    "df.head()"
   ]
  },
  {
   "cell_type": "code",
   "execution_count": 12,
   "metadata": {},
   "outputs": [],
   "source": [
    "# removendo colunas\n",
    "ncols = df.shape[1]\n",
    "df.drop(df[range(21, ncols)], axis=1, inplace=True)\n",
    "# renomeando as colunas\n",
    "df.columns = ['CDREDE', 'DE', 'CODMUN', 'MUN', 'CATEG', 'COD_ESC', 'TIPOESC', 'CODVINC', 'NOMESC', 'ENDESC',\n",
    "              'NUMESC', 'BAIESC', 'EMAIL', 'FONE1', 'ZONA', 'ED_INFANTIL', 'CLASSES ESPECIAIS', 'SALA DE RECURSO',\n",
    "              'ANOS INICIAIS', 'ANOS FINAIS', 'ENSINO MEDIO']\n",
    "nrows = df.shape[0]"
   ]
  },
  {
   "cell_type": "code",
   "execution_count": 13,
   "metadata": {},
   "outputs": [
    {
     "name": "stdout",
     "output_type": "stream",
     "text": [
      "<class 'pandas.core.frame.DataFrame'>\n",
      "RangeIndex: 5366 entries, 0 to 5365\n",
      "Data columns (total 21 columns):\n",
      " #   Column             Non-Null Count  Dtype  \n",
      "---  ------             --------------  -----  \n",
      " 0   CDREDE             5366 non-null   int64  \n",
      " 1   DE                 5366 non-null   object \n",
      " 2   CODMUN             5366 non-null   int64  \n",
      " 3   MUN                5366 non-null   object \n",
      " 4   CATEG              5366 non-null   int64  \n",
      " 5   COD_ESC            5366 non-null   int64  \n",
      " 6   TIPOESC            5366 non-null   int64  \n",
      " 7   CODVINC            5366 non-null   int64  \n",
      " 8   NOMESC             5366 non-null   object \n",
      " 9   ENDESC             5366 non-null   object \n",
      " 10  NUMESC             5365 non-null   object \n",
      " 11  BAIESC             5364 non-null   object \n",
      " 12  EMAIL              5269 non-null   object \n",
      " 13  FONE1              5335 non-null   float64\n",
      " 14  ZONA               5366 non-null   int64  \n",
      " 15  ED_INFANTIL        5366 non-null   int64  \n",
      " 16  CLASSES ESPECIAIS  5366 non-null   int64  \n",
      " 17  SALA DE RECURSO    5366 non-null   int64  \n",
      " 18  ANOS INICIAIS      5366 non-null   int64  \n",
      " 19  ANOS FINAIS        5366 non-null   int64  \n",
      " 20  ENSINO MEDIO       5366 non-null   int64  \n",
      "dtypes: float64(1), int64(13), object(7)\n",
      "memory usage: 880.5+ KB\n"
     ]
    }
   ],
   "source": [
    "df.info()"
   ]
  },
  {
   "cell_type": "code",
   "execution_count": 14,
   "metadata": {},
   "outputs": [
    {
     "name": "stdout",
     "output_type": "stream",
     "text": [
      "CDREDE (int64)\n",
      "DE (object)\n",
      "CODMUN (int64)\n",
      "MUN (object)\n",
      "CATEG (int64)\n",
      "COD_ESC (int64)\n",
      "TIPOESC (int64)\n",
      "CODVINC (int64)\n",
      "NOMESC (object)\n",
      "ENDESC (object)\n",
      "NUMESC (object)\n",
      "BAIESC (object)\n",
      "EMAIL (object)\n",
      "FONE1 (float64)\n",
      "ZONA (int64)\n",
      "ED_INFANTIL (int64)\n",
      "CLASSES ESPECIAIS (int64)\n",
      "SALA DE RECURSO (int64)\n",
      "ANOS INICIAIS (int64)\n",
      "ANOS FINAIS (int64)\n",
      "ENSINO MEDIO (int64)\n"
     ]
    }
   ],
   "source": [
    "# tipos\n",
    "for var in df:\n",
    "    print(\"%s (%s)\" % (var, df[var].dtype.name))"
   ]
  },
  {
   "cell_type": "code",
   "execution_count": 15,
   "metadata": {},
   "outputs": [
    {
     "name": "stdout",
     "output_type": "stream",
     "text": [
      "Número de linhas:5366   NOMEESC dtype:object   ENSINO MEDIO dtype:int64\n"
     ]
    }
   ],
   "source": [
    "print(\"Número de linhas:%s   NOMEESC dtype:%s   ENSINO MEDIO dtype:%s\" % (nrows, df['NOMESC'].dtype.name, \n",
    "                                                                 df['ENSINO MEDIO'].dtype.name))"
   ]
  },
  {
   "cell_type": "markdown",
   "metadata": {},
   "source": [
    "### Exercício 6)\n",
    "\n",
    "Visualize os dados únicos e o histograma da variável SALA DE RECURSO. \n",
    "\n",
    "Realize a discretização da variável utilizando o método do intervalo considerando os seguintes intervalos e rótulos\n",
    "\n",
    "*intervalo* - *rótulo*<br>\n",
    "[0, 0] - '0'<br>\n",
    "[1, 4] - '1 a 4'<br>\n",
    "[5, 9] - '5 a 9'<br>\n",
    "[10, max(SALA DE RECURSO)] - '10+'<br>\n",
    "\n",
    "Use o método `cut()` lembrando que os intervalos são definidos de forma que:\n",
    "\n",
    "$[a, b, c, d]$\n",
    "\n",
    "resulta em 3 intervalos:<br>\n",
    "(a, b] - entre a e b, não inclui a<br>\n",
    "(b, c] - entre b e c, não inclui b  <br>\n",
    "(c, d] - entre c e d, não inclui c  <br> \n",
    "\n",
    "Adicione essa nova variável na base, com o nome 'SALA_DE_RECURSO_D'\n",
    "\n",
    "Responda, quantas linhas recaem em cada um dos 4 intervalos, respectivamente 0; 1 a 4; 5 a 9; e 10+?\n",
    "\n",
    "(a) 93, 415, 446, 772<br>\n",
    "<font color='red'>(b) 3636, 413, 470, 847<br></font>\n",
    "(c) 772, 446, 415, 93<br>\n",
    "(d) 3619, 411, 469, 846<br>"
   ]
  },
  {
   "cell_type": "code",
   "execution_count": 16,
   "metadata": {},
   "outputs": [
    {
     "data": {
      "text/plain": [
       "<matplotlib.axes._subplots.AxesSubplot at 0x1fd5b09cd30>"
      ]
     },
     "execution_count": 16,
     "metadata": {},
     "output_type": "execute_result"
    },
    {
     "data": {
      "image/png": "[encoded data removed]",
      "text/plain": [
       "<Figure size 432x288 with 1 Axes>"
      ]
     },
     "metadata": {
      "needs_background": "light"
     },
     "output_type": "display_data"
    }
   ],
   "source": [
    "# boxplot\n",
    "atts = 'SALA DE RECURSO'\n",
    "df.boxplot(atts)"
   ]
  },
  {
   "cell_type": "code",
   "execution_count": 17,
   "metadata": {},
   "outputs": [
    {
     "data": {
      "text/plain": [
       "<matplotlib.axes._subplots.AxesSubplot at 0x1fd5be686d0>"
      ]
     },
     "execution_count": 17,
     "metadata": {},
     "output_type": "execute_result"
    },
    {
     "data": {
      "image/png": "[encoded data removed]",
      "text/plain": [
       "<Figure size 432x288 with 1 Axes>"
      ]
     },
     "metadata": {
      "needs_background": "light"
     },
     "output_type": "display_data"
    }
   ],
   "source": [
    "# histograma\n",
    "df[atts].hist()"
   ]
  },
  {
   "cell_type": "code",
   "execution_count": 18,
   "metadata": {},
   "outputs": [],
   "source": [
    "# realizar discretizacao e armazenar\n",
    "sala_de_recurso_discr =  pd.cut(df['SALA DE RECURSO'], \n",
    "                         bins=[-1, 0, 4, 9, max(df['SALA DE RECURSO'])],\n",
    "                         labels=['0', '1 a 4', '5 a 9', '10+'])"
   ]
  },
  {
   "cell_type": "code",
   "execution_count": 19,
   "metadata": {},
   "outputs": [],
   "source": [
    "# inserir nova coluna\n",
    "ncols = df.shape[1]\n",
    "df.insert(ncols, 'SALA_DE_RECURSO_D', sala_de_recurso_discr)"
   ]
  },
  {
   "cell_type": "code",
   "execution_count": 20,
   "metadata": {},
   "outputs": [
    {
     "data": {
      "text/plain": [
       "<matplotlib.axes._subplots.AxesSubplot at 0x1fd5bef6c40>"
      ]
     },
     "execution_count": 20,
     "metadata": {},
     "output_type": "execute_result"
    },
    {
     "data": {
      "image/png": "[encoded data removed]",
      "text/plain": [
       "<Figure size 432x288 with 1 Axes>"
      ]
     },
     "metadata": {
      "needs_background": "light"
     },
     "output_type": "display_data"
    }
   ],
   "source": [
    "df['SALA_DE_RECURSO_D'].value_counts().plot(kind='bar')"
   ]
  },
  {
   "cell_type": "code",
   "execution_count": 21,
   "metadata": {},
   "outputs": [
    {
     "name": "stdout",
     "output_type": "stream",
     "text": [
      "category\n"
     ]
    },
    {
     "data": {
      "text/plain": [
       "0        3636\n",
       "10+       847\n",
       "5 a 9     470\n",
       "1 a 4     413\n",
       "Name: SALA_DE_RECURSO_D, dtype: int64"
      ]
     },
     "execution_count": 21,
     "metadata": {},
     "output_type": "execute_result"
    }
   ],
   "source": [
    "# exibir o tipo da coluna\n",
    "print(df['SALA_DE_RECURSO_D'].dtype.name)\n",
    "df['SALA_DE_RECURSO_D'].value_counts()"
   ]
  },
  {
   "cell_type": "markdown",
   "metadata": {},
   "source": [
    "### Exercício 7)\n",
    " \n",
    "Vamos normalizar 3 variáveis: ANOS INICIAIS, ANOS FINAIS e ENSINO MEDIO\n",
    "\n",
    "A normalização utilizada será diferente para cada uma delas. Utilizaremos\n",
    "* min-max para ANOS INICIAIS, com a=0, b=1\n",
    "* norma L-$\\infty$ para ANOS FINAIS \n",
    "* $z$-score para ENSINO MEDIO\n",
    "\n",
    "Para isso, codifique funções que recebam uma coluna por parâmetro e retornem um atributo já normalizado\n",
    "\n",
    "Depois, aplique as funções e crie novas variáveis com os atributos normalizados: INICIAIS_n,  FINAIS_n, MEDIO_n.\n",
    "\n",
    "Após normalização, quais os valores de média e mediana de cada um deles, considerando arredondamento para 2 casas decimais? \n",
    "\n",
    "(a) INICIAIS_n: 0.00, 0.00;  FINAIS_n: 0.06, 0.00; MEDIO_n: 0.00, 0.17.<br>\n",
    "<font color='red'>(b) INICIAIS_n: 0.07, 0.00;  FINAIS_n: 0.16, 0.15; MEDIO_n: 0.00, -0.17.<br></font>\n",
    "(c) INICIAIS_n: 0.07, 0.00;  FINAIS_n: 0.15, 0.16; MEDIO_n: 0.00, -0.17.<br>\n",
    "(d) INICIAIS_n: 0.00, 0.00;  FINAIS_n: 0.00, 0.16; MEDIO_n: 0.00, 0.17.<br>\n"
   ]
  },
  {
   "cell_type": "code",
   "execution_count": 22,
   "metadata": {},
   "outputs": [
    {
     "data": {
      "text/plain": [
       "<matplotlib.axes._subplots.AxesSubplot at 0x1fd5bf51100>"
      ]
     },
     "execution_count": 22,
     "metadata": {},
     "output_type": "execute_result"
    },
    {
     "data": {
      "image/png": "[encoded data removed]",
      "text/plain": [
       "<Figure size 432x288 with 1 Axes>"
      ]
     },
     "metadata": {
      "needs_background": "light"
     },
     "output_type": "display_data"
    }
   ],
   "source": [
    "attrs = ['ANOS INICIAIS', 'ANOS FINAIS', 'ENSINO MEDIO']\n",
    "df.boxplot(attrs)"
   ]
  },
  {
   "cell_type": "code",
   "execution_count": 23,
   "metadata": {},
   "outputs": [],
   "source": [
    "from sklearn.preprocessing import MinMaxScaler, StandardScaler, Normalizer"
   ]
  },
  {
   "cell_type": "code",
   "execution_count": 31,
   "metadata": {},
   "outputs": [],
   "source": [
    "# normalizando com as funções do sklearn\n",
    "scaler = MinMaxScaler()\n",
    "X = np.array(df['ANOS INICIAIS']).reshape(-1, 1)\n",
    "df['INICIAIS_Nsklearn'] = scaler.fit_transform(X)\n",
    "\n",
    "scaler = Normalizer(norm='max')\n",
    "X = np.array(df['ANOS FINAIS']).reshape(-1, 1)\n",
    "df['FINAIS_Nsklearn'] = scaler.fit_transform(X)\n",
    "\n",
    "scaler = StandardScaler()\n",
    "X = np.array(df['ENSINO MEDIO']).reshape(-1, 1)\n",
    "df['MEDIO_Nsklearn'] = scaler.fit_transform(X)"
   ]
  },
  {
   "cell_type": "code",
   "execution_count": 28,
   "metadata": {},
   "outputs": [
    {
     "name": "stdout",
     "output_type": "stream",
     "text": [
      "INICIAIS_Nsklearn - Média: 0.07 Mediana: 0.0\n",
      "FINAIS_Nsklearn - Média: 0.71 Mediana: 1.0\n",
      "MEDIO_Nsklearn - Média: 0.0 Mediana: -0.17\n"
     ]
    }
   ],
   "source": [
    "print('INICIAIS_Nsklearn - Média:', round(df['INICIAIS_Nsklearn'].mean(), 2),\n",
    "      'Mediana:', round(df['INICIAIS_Nsklearn'].median(), 2))\n",
    "print('FINAIS_Nsklearn - Média:', round(df['FINAIS_Nsklearn'].mean(), 2), \n",
    "      'Mediana:', round(df['FINAIS_Nsklearn'].median(), 2))\n",
    "print('MEDIO_Nsklearn - Média:', round(df['MEDIO_Nsklearn'].mean(), 2), \n",
    "      'Mediana:', round(df['MEDIO_Nsklearn'].median(), 2))"
   ]
  },
  {
   "cell_type": "markdown",
   "metadata": {},
   "source": [
    "A normalização pelas funções deu resultado diferente apenas para a norma L infinito"
   ]
  },
  {
   "cell_type": "code",
   "execution_count": 112,
   "metadata": {},
   "outputs": [],
   "source": [
    "# função para normalização pelo método z-score\n",
    "def norm_zscore(att):\n",
    "    # computa média e desvio padrao\n",
    "    var_mean = att.mean()\n",
    "    var_sigm = att.std()\n",
    "    # computa normalização\n",
    "    att_norm = (att - var_mean) / var_sigm\n",
    "    return att_norm\n",
    "\n",
    "# função para normalização pelo método min-max p/ o intervalo 0-1\n",
    "def norm_minmax_0_1(att):\n",
    "    # computa o mínimo e o máximo\n",
    "    var_min = att.min()\n",
    "    var_max = att.max()\n",
    "    # computa normalização\n",
    "    att_norm = (att - var_min) / (var_max - var_min)\n",
    "    return att_norm\n",
    "\n",
    "# função para normalização pela L-infinito \n",
    "def norm_linf(att):\n",
    "    # computa o máximo\n",
    "    var_max = att.max()\n",
    "    # computa normalização\n",
    "    att_norm = (att) / (var_max)\n",
    "    return att_norm\n"
   ]
  },
  {
   "cell_type": "code",
   "execution_count": 113,
   "metadata": {},
   "outputs": [],
   "source": [
    "# normalizando\n",
    "df['INICIAIS_n'] = norm_minmax_0_1(df['ANOS INICIAIS'])\n",
    "df['FINAIS_n'] = norm_linf(df['ANOS FINAIS'])\n",
    "df['MEDIO_n'] = norm_zscore(df['ENSINO MEDIO'])"
   ]
  },
  {
   "cell_type": "code",
   "execution_count": 114,
   "metadata": {},
   "outputs": [
    {
     "name": "stdout",
     "output_type": "stream",
     "text": [
      "INICIAIS_n - Média: 0.07 Mediana: 0.0\n",
      "FINAIS_n - Média: 0.16 Mediana: 0.15\n",
      "MEDIO_n - Média: 0.0 Mediana: -0.17\n"
     ]
    }
   ],
   "source": [
    "print('INICIAIS_n - Média:', round(df['INICIAIS_n'].mean(), 2), 'Mediana:', round(df['INICIAIS_n'].median(), 2))\n",
    "print('FINAIS_n - Média:', round(df['FINAIS_n'].mean(), 2), 'Mediana:', round(df['FINAIS_n'].median(), 2))\n",
    "print('MEDIO_n - Média:', round(df['MEDIO_n'].mean(), 2), 'Mediana:', round(df['MEDIO_n'].median(), 2))\n"
   ]
  },
  {
   "cell_type": "markdown",
   "metadata": {},
   "source": [
    "### Exercício 8)\n",
    "\n",
    "\n",
    "Utilizando as variáveis normalizadas no exercício anterior, compute distâncias entre a escola de COD_ESC = 24648 (atributo na coluna de índice 5) e todas as outras escolas - ou seja, excluindo a própria escola COD_ESC = 24648 - cujos códigos da rede (CDREDE) sejam 20510. \n",
    "\n",
    "Utilize a distancia Euclidiana.\n",
    "\n",
    "Compare usando vetor de atributos formado por 'INICIAIS_n',  'FINAIS_n' e 'MEDIO_n'. \n",
    "\n",
    "*Observação: deve-se ter cuidado ao usar normalizações distintas como feito nesse exercício para comparar atributos, em particular considerando que o z-score produz valores negativos. Considere esse procedimento apenas a título de exercício com diferentes tipos de normalização e, na dúvida, utilize normalização uniforme entre os atributos.* \n",
    "\n",
    "Qual escola foi a mais próxima (NOMESC) e a respectiva distância (arredondada para 2 casas decimais)?\n",
    "\n",
    "(a) MANOEL MARTINS, distância 1.6.<br>\n",
    "<font color='red'>(b) EDDA CARDOZO DE SOUZA MARCUSSI, distância 0.18<br></font>\n",
    "(c) EDDA CARDOZO DE SOUZA MARCUSSI, distância 105.19<br>\n",
    "(d) MANOEL MARTINS, distância 0.18<br>\n"
   ]
  },
  {
   "cell_type": "code",
   "execution_count": 163,
   "metadata": {},
   "outputs": [],
   "source": [
    "# implementando a função\n",
    "def dEuclidean(a, b):   \n",
    "    return np.sqrt(np.sum((a - b) ** 2))"
   ]
  },
  {
   "cell_type": "code",
   "execution_count": 186,
   "metadata": {},
   "outputs": [
    {
     "name": "stdout",
     "output_type": "stream",
     "text": [
      "['INICIAIS_n', 'FINAIS_n', 'MEDIO_n']\n",
      "['INICIAIS_n', 'FINAIS_n', 'MEDIO_n', 'MUN', 'NOMESC']\n"
     ]
    }
   ],
   "source": [
    "# vetor dos atributos normalizados\n",
    "attrs_n = ['INICIAIS_n', 'FINAIS_n', 'MEDIO_n']\n",
    "# vetor dos atributos categóricos acrescido do município e nome da escola\n",
    "attrs_cat = attrs_n + ['MUN', 'NOMESC']\n",
    "print(attrs_n)\n",
    "print(attrs_cat)"
   ]
  },
  {
   "cell_type": "code",
   "execution_count": 187,
   "metadata": {},
   "outputs": [],
   "source": [
    "# escola base para comparação, criando uma cópia para guardar os index originais, e resetando o index\n",
    "escola24648 = df.loc[df['COD_ESC']==24648].copy().reset_index()\n",
    "a = np.array(escola24648.loc[0,attrs_n]) # vetor a considera só os atributos selecionados"
   ]
  },
  {
   "cell_type": "code",
   "execution_count": 188,
   "metadata": {},
   "outputs": [],
   "source": [
    "# escolas a serem comparadas, criando uma cópia para guardar os index originais, e resetando o index\n",
    "rede20510 = df.loc[~(df['COD_ESC']==24648) & (df['CDREDE']==20510), :].copy().reset_index()\n",
    "size = rede20510.shape[0]\n",
    "# rede20510"
   ]
  },
  {
   "cell_type": "code",
   "execution_count": 189,
   "metadata": {},
   "outputs": [
    {
     "name": "stdout",
     "output_type": "stream",
     "text": [
      "\n",
      "Distância Euclidiana entre 'a' e os 'b' selecionados: \n",
      "[0.45 0.69 1.1  0.49 0.55 1.64 0.47 1.6  1.05 0.56 1.63 1.11 1.12 1.32\n",
      " 0.71 1.06 1.16 1.06 0.18]\n"
     ]
    }
   ],
   "source": [
    "# percorremos todas as instâncias, comparando com 'a'\n",
    "dists = np.empty(size)   # vetor das distâncias entre 'a' e 'b'\n",
    "for i in range(size):\n",
    "    b = np.array(rede20510.loc[i,attrs_n])\n",
    "    dists[i] = dEuclidean(a,b)   \n",
    "\n",
    "print(\"\\nDistância Euclidiana entre 'a' e os 'b' selecionados: \")\n",
    "print(np.round(dists,2))"
   ]
  },
  {
   "cell_type": "code",
   "execution_count": 196,
   "metadata": {},
   "outputs": [
    {
     "data": {
      "text/plain": [
       "18"
      ]
     },
     "execution_count": 196,
     "metadata": {},
     "output_type": "execute_result"
    }
   ],
   "source": [
    "# argmin retorna a posicao com o valor mínimo\n",
    "np.argmin(dists)"
   ]
  },
  {
   "cell_type": "code",
   "execution_count": 195,
   "metadata": {},
   "outputs": [
    {
     "name": "stdout",
     "output_type": "stream",
     "text": [
      "dist = 0.18\n"
     ]
    }
   ],
   "source": [
    "# Menor distância\n",
    "print(\"dist = %.2f\" % np.min(dists))"
   ]
  },
  {
   "cell_type": "code",
   "execution_count": 197,
   "metadata": {},
   "outputs": [
    {
     "data": {
      "text/plain": [
       "'EDDA CARDOZO DE SOUZA MARCUSSI'"
      ]
     },
     "execution_count": 197,
     "metadata": {},
     "output_type": "execute_result"
    }
   ],
   "source": [
    "rede20510.loc[np.argmin(dists),attrs_cat]['NOMESC']"
   ]
  },
  {
   "cell_type": "code",
   "execution_count": 191,
   "metadata": {},
   "outputs": [
    {
     "data": {
      "text/plain": [
       "INICIAIS_n                               0.0\n",
       "FINAIS_n                            0.204776\n",
       "MEDIO_n                             0.280619\n",
       "MUN                     SAO JOAQUIM DA BARRA\n",
       "NOMESC        EDDA CARDOZO DE SOUZA MARCUSSI\n",
       "Name: 18, dtype: object"
      ]
     },
     "execution_count": 191,
     "metadata": {},
     "output_type": "execute_result"
    }
   ],
   "source": [
    "rede20510.loc[np.argmin(dists),attrs_cat]"
   ]
  },
  {
   "cell_type": "markdown",
   "metadata": {},
   "source": [
    "### Exercício 9)\n",
    " \n",
    "Utilize os atributos 'ENSINO MEDIO', 'ANOS INICIAIS', 'ANOS FINAIS'. Vamos transformá-los por meio da função logarítmica. Para isso:\n",
    "\n",
    "1. Faça uma cópia da base de dados, e atribua nulo (nan) a todos os valores iguais a zero nesses atributos.\n",
    "2. Transforme esses atributos utilizando a operação logarítmica e os adicione à base de dados. Como nesse caso os atributos podem possuir valores maiores ou iguais a zero, para evitar erro com $\\log(0)$ utilize: `np.log(x+1)`, onde `x` é o atributo a ser transformado. \n",
    "3. Exiba a matriz de correlação de Pearson entre os atributos originais e os transformados.\n",
    "4. Mostre o scatterplot entre 'ENSINO MEDIO' e 'ANOS FINAIS', e compare com log(ENSINO MÉDIO) e log(ANOS FINAIS)\n",
    "\n",
    "Qual é a correlação, arredondada para duas casas decimais, entre os atributos transformados: log(ENSINO MÉDIO) e os outros dois atributos: log(ANOS INICIAIS) e  log(ANOS FINAIS), respectivamente?\n",
    "\n",
    "\n",
    "(a) 0.45 e 0.61<br>\n",
    "<font color='red'>(b) 0.74 e 0.78<br></font>\n",
    "(c) -1 e 1<br>\n",
    "(d) 0.45 e 0.78<br>"
   ]
  },
  {
   "cell_type": "code",
   "execution_count": 115,
   "metadata": {},
   "outputs": [
    {
     "data": {
      "text/plain": [
       "<matplotlib.axes._subplots.AxesSubplot at 0x1fc56338790>"
      ]
     },
     "execution_count": 115,
     "metadata": {},
     "output_type": "execute_result"
    },
    {
     "data": {
      "image/png": "[encoded data removed]",
      "text/plain": [
       "<Figure size 432x288 with 1 Axes>"
      ]
     },
     "metadata": {
      "needs_background": "light"
     },
     "output_type": "display_data"
    }
   ],
   "source": [
    "attrs = ['ENSINO MEDIO', 'ANOS INICIAIS', 'ANOS FINAIS']\n",
    "df.boxplot(attrs)"
   ]
  },
  {
   "cell_type": "code",
   "execution_count": 116,
   "metadata": {},
   "outputs": [
    {
     "data": {
      "text/plain": [
       "array([[<matplotlib.axes._subplots.AxesSubplot object at 0x000001FC564A2FD0>,\n",
       "        <matplotlib.axes._subplots.AxesSubplot object at 0x000001FC564BF9D0>],\n",
       "       [<matplotlib.axes._subplots.AxesSubplot object at 0x000001FC564E8D60>,\n",
       "        <matplotlib.axes._subplots.AxesSubplot object at 0x000001FC5651F220>]],\n",
       "      dtype=object)"
      ]
     },
     "execution_count": 116,
     "metadata": {},
     "output_type": "execute_result"
    },
    {
     "data": {
      "image/png": "[encoded data removed]",
      "text/plain": [
       "<Figure size 432x288 with 4 Axes>"
      ]
     },
     "metadata": {
      "needs_background": "light"
     },
     "output_type": "display_data"
    }
   ],
   "source": [
    "atts = ['ENSINO MEDIO', 'ANOS INICIAIS', 'ANOS FINAIS']\n",
    "df2[atts].hist()"
   ]
  },
  {
   "cell_type": "code",
   "execution_count": 117,
   "metadata": {},
   "outputs": [],
   "source": [
    "df2 = df.copy()"
   ]
  },
  {
   "cell_type": "code",
   "execution_count": 118,
   "metadata": {},
   "outputs": [],
   "source": [
    "# atribuindo nan onde variável=0\n",
    "df2.loc[df2['ENSINO MEDIO']==0,'ENSINO MEDIO'] = np.nan\n",
    "df2.loc[df2['ANOS INICIAIS']==0,'ANOS INICIAIS'] = np.nan\n",
    "df2.loc[df2['ANOS FINAIS']==0,'ANOS FINAIS'] = np.nan"
   ]
  },
  {
   "cell_type": "code",
   "execution_count": 119,
   "metadata": {},
   "outputs": [],
   "source": [
    "# transformando as variáveis para o lagaritmo\n",
    "df2['Log_EM'] = np.log(df2['ENSINO MEDIO']+1)\n",
    "df2['Log_AI'] = np.log(df2['ANOS INICIAIS']+1)\n",
    "df2['Log_AF'] = np.log(df2['ANOS FINAIS']+1)"
   ]
  },
  {
   "cell_type": "code",
   "execution_count": 120,
   "metadata": {},
   "outputs": [
    {
     "data": {
      "text/plain": [
       "array([[<matplotlib.axes._subplots.AxesSubplot object at 0x000001FC565D54F0>,\n",
       "        <matplotlib.axes._subplots.AxesSubplot object at 0x000001FC565C28E0>],\n",
       "       [<matplotlib.axes._subplots.AxesSubplot object at 0x000001FC566271F0>,\n",
       "        <matplotlib.axes._subplots.AxesSubplot object at 0x000001FC5664D970>]],\n",
       "      dtype=object)"
      ]
     },
     "execution_count": 120,
     "metadata": {},
     "output_type": "execute_result"
    },
    {
     "data": {
      "image/png": "[encoded data removed]",
      "text/plain": [
       "<Figure size 432x288 with 4 Axes>"
      ]
     },
     "metadata": {
      "needs_background": "light"
     },
     "output_type": "display_data"
    }
   ],
   "source": [
    "atts = ['Log_EM', 'Log_AI', 'Log_AF']\n",
    "df2[atts].hist()"
   ]
  },
  {
   "cell_type": "code",
   "execution_count": 121,
   "metadata": {},
   "outputs": [
    {
     "data": {
      "text/html": [
       "<div>\n",
       "<style scoped>\n",
       "    .dataframe tbody tr th:only-of-type {\n",
       "        vertical-align: middle;\n",
       "    }\n",
       "\n",
       "    .dataframe tbody tr th {\n",
       "        vertical-align: top;\n",
       "    }\n",
       "\n",
       "    .dataframe thead th {\n",
       "        text-align: right;\n",
       "    }\n",
       "</style>\n",
       "<table border=\"1\" class=\"dataframe\">\n",
       "  <thead>\n",
       "    <tr style=\"text-align: right;\">\n",
       "      <th></th>\n",
       "      <th>ENSINO MEDIO</th>\n",
       "      <th>ANOS INICIAIS</th>\n",
       "      <th>ANOS FINAIS</th>\n",
       "      <th>Log_EM</th>\n",
       "      <th>Log_AI</th>\n",
       "      <th>Log_AF</th>\n",
       "    </tr>\n",
       "  </thead>\n",
       "  <tbody>\n",
       "    <tr>\n",
       "      <th>ENSINO MEDIO</th>\n",
       "      <td>1.00</td>\n",
       "      <td>0.46</td>\n",
       "      <td>0.61</td>\n",
       "      <td>0.85</td>\n",
       "      <td>0.51</td>\n",
       "      <td>0.57</td>\n",
       "    </tr>\n",
       "    <tr>\n",
       "      <th>ANOS INICIAIS</th>\n",
       "      <td>0.46</td>\n",
       "      <td>1.00</td>\n",
       "      <td>0.61</td>\n",
       "      <td>0.57</td>\n",
       "      <td>0.79</td>\n",
       "      <td>0.64</td>\n",
       "    </tr>\n",
       "    <tr>\n",
       "      <th>ANOS FINAIS</th>\n",
       "      <td>0.61</td>\n",
       "      <td>0.61</td>\n",
       "      <td>1.00</td>\n",
       "      <td>0.66</td>\n",
       "      <td>0.62</td>\n",
       "      <td>0.85</td>\n",
       "    </tr>\n",
       "    <tr>\n",
       "      <th>Log_EM</th>\n",
       "      <td>0.85</td>\n",
       "      <td>0.57</td>\n",
       "      <td>0.66</td>\n",
       "      <td>1.00</td>\n",
       "      <td>0.74</td>\n",
       "      <td>0.78</td>\n",
       "    </tr>\n",
       "    <tr>\n",
       "      <th>Log_AI</th>\n",
       "      <td>0.51</td>\n",
       "      <td>0.79</td>\n",
       "      <td>0.62</td>\n",
       "      <td>0.74</td>\n",
       "      <td>1.00</td>\n",
       "      <td>0.81</td>\n",
       "    </tr>\n",
       "    <tr>\n",
       "      <th>Log_AF</th>\n",
       "      <td>0.57</td>\n",
       "      <td>0.64</td>\n",
       "      <td>0.85</td>\n",
       "      <td>0.78</td>\n",
       "      <td>0.81</td>\n",
       "      <td>1.00</td>\n",
       "    </tr>\n",
       "  </tbody>\n",
       "</table>\n",
       "</div>"
      ],
      "text/plain": [
       "               ENSINO MEDIO  ANOS INICIAIS  ANOS FINAIS  Log_EM  Log_AI  \\\n",
       "ENSINO MEDIO           1.00           0.46         0.61    0.85    0.51   \n",
       "ANOS INICIAIS          0.46           1.00         0.61    0.57    0.79   \n",
       "ANOS FINAIS            0.61           0.61         1.00    0.66    0.62   \n",
       "Log_EM                 0.85           0.57         0.66    1.00    0.74   \n",
       "Log_AI                 0.51           0.79         0.62    0.74    1.00   \n",
       "Log_AF                 0.57           0.64         0.85    0.78    0.81   \n",
       "\n",
       "               Log_AF  \n",
       "ENSINO MEDIO     0.57  \n",
       "ANOS INICIAIS    0.64  \n",
       "ANOS FINAIS      0.85  \n",
       "Log_EM           0.78  \n",
       "Log_AI           0.81  \n",
       "Log_AF           1.00  "
      ]
     },
     "execution_count": 121,
     "metadata": {},
     "output_type": "execute_result"
    }
   ],
   "source": [
    "attrs = ['ENSINO MEDIO', 'ANOS INICIAIS', 'ANOS FINAIS'] + ['Log_EM', 'Log_AI', 'Log_AF']\n",
    "np.round(df2[attrs].corr(), 2)"
   ]
  },
  {
   "cell_type": "code",
   "execution_count": 122,
   "metadata": {},
   "outputs": [
    {
     "data": {
      "text/plain": [
       "<matplotlib.axes._subplots.AxesSubplot at 0x1fc562df520>"
      ]
     },
     "execution_count": 122,
     "metadata": {},
     "output_type": "execute_result"
    },
    {
     "data": {
      "image/png": "[encoded data removed]",
      "text/plain": [
       "<Figure size 432x288 with 1 Axes>"
      ]
     },
     "metadata": {
      "needs_background": "light"
     },
     "output_type": "display_data"
    }
   ],
   "source": [
    "df2.plot.scatter(x='ENSINO MEDIO', y='ANOS FINAIS')"
   ]
  },
  {
   "cell_type": "code",
   "execution_count": 123,
   "metadata": {},
   "outputs": [
    {
     "data": {
      "text/plain": [
       "<matplotlib.axes._subplots.AxesSubplot at 0x1fc54bfb2e0>"
      ]
     },
     "execution_count": 123,
     "metadata": {},
     "output_type": "execute_result"
    },
    {
     "data": {
      "image/png": "[encoded data removed]",
      "text/plain": [
       "<Figure size 432x288 with 1 Axes>"
      ]
     },
     "metadata": {
      "needs_background": "light"
     },
     "output_type": "display_data"
    }
   ],
   "source": [
    "df2.plot.scatter(x='Log_EM', y='Log_AF')"
   ]
  },
  {
   "cell_type": "code",
   "execution_count": null,
   "metadata": {},
   "outputs": [],
   "source": []
  },
  {
   "cell_type": "code",
   "execution_count": null,
   "metadata": {},
   "outputs": [],
   "source": []
  },
  {
   "cell_type": "markdown",
   "metadata": {},
   "source": [
    "### Exercício 10)\n",
    " \n",
    "Codifique as variáveis categóricas 'SALA_DE_RECURSO_D' (categórica ordinal) e 'DE' (categórica nominal).\n",
    "\n",
    "Para a primeira, use números inteiros sequenciais, iniciado por 0 para codificar a variável segundo sua ordenação, sendo que os dois últimos (os dos valores maiores na ordenação) devem ser mapeados para um único código. Gere um novo atributo 'SALA_DE_RECURSO_D_ord'.\n",
    "\n",
    "Para a segunda, use números inteiros sequenciais, iniciados por 0 para codificar a variável em ordem alfabética, e gere um novo atributo 'DE_cod'\n",
    "\n",
    "A seguir, use a função `value_counts()` para mostrar a quantidade de cada código e responda abaixo quais os valores dos dois códigos numéricos com maior contagem de valores para cada variável nova:\n",
    "\n",
    "\n",
    "(a) DE_cod: 59 e 66;  SALA_DE_RECURSO_D_ord: 0, 3<br>\n",
    "(b) DE_cod: 66 e 55;  SALA_DE_RECURSO_D_ord: 1, 3<br>\n",
    "(c) DE_cod: 66 e 82;  SALA_DE_RECURSO_D_ord: 0, 3<br>\n",
    "<font color='red'>(d) DE_cod: 66 e 82;  SALA_DE_RECURSO_D_ord: 0, 2<br></font>"
   ]
  },
  {
   "cell_type": "code",
   "execution_count": 125,
   "metadata": {},
   "outputs": [
    {
     "data": {
      "text/plain": [
       "0        3636\n",
       "10+       847\n",
       "5 a 9     470\n",
       "1 a 4     413\n",
       "Name: SALA_DE_RECURSO_D, dtype: int64"
      ]
     },
     "execution_count": 125,
     "metadata": {},
     "output_type": "execute_result"
    }
   ],
   "source": [
    "df['SALA_DE_RECURSO_D'].value_counts()"
   ]
  },
  {
   "cell_type": "code",
   "execution_count": 140,
   "metadata": {},
   "outputs": [
    {
     "name": "stdout",
     "output_type": "stream",
     "text": [
      "['0' '1 a 4' '10+' '5 a 9']\n",
      "[0 1 2 2]\n"
     ]
    }
   ],
   "source": [
    "# criando uma lista para categorização\n",
    "cat_SALA_DE_RECURSO_D = np.sort(df['SALA_DE_RECURSO_D'].unique())\n",
    "num_recurso = np.arange(cat_SALA_DE_RECURSO_D.shape[0])\n",
    "# repete o penúltimo código\n",
    "num_recurso[-1] = num_recurso[-2]\n",
    "print(cat_SALA_DE_RECURSO_D)\n",
    "print(num_recurso)"
   ]
  },
  {
   "cell_type": "code",
   "execution_count": 144,
   "metadata": {},
   "outputs": [
    {
     "name": "stdout",
     "output_type": "stream",
     "text": [
      "\n",
      "Dicionário:\n",
      "{'0': 0, '1 a 4': 1, '10+': 2, '5 a 9': 2}\n"
     ]
    },
    {
     "data": {
      "text/html": [
       "<div>\n",
       "<style scoped>\n",
       "    .dataframe tbody tr th:only-of-type {\n",
       "        vertical-align: middle;\n",
       "    }\n",
       "\n",
       "    .dataframe tbody tr th {\n",
       "        vertical-align: top;\n",
       "    }\n",
       "\n",
       "    .dataframe thead th {\n",
       "        text-align: right;\n",
       "    }\n",
       "</style>\n",
       "<table border=\"1\" class=\"dataframe\">\n",
       "  <thead>\n",
       "    <tr style=\"text-align: right;\">\n",
       "      <th></th>\n",
       "      <th>SALA_DE_RECURSO_D_ord</th>\n",
       "      <th>SALA_DE_RECURSO_D</th>\n",
       "    </tr>\n",
       "  </thead>\n",
       "  <tbody>\n",
       "    <tr>\n",
       "      <th>0</th>\n",
       "      <td>0</td>\n",
       "      <td>0</td>\n",
       "    </tr>\n",
       "    <tr>\n",
       "      <th>1</th>\n",
       "      <td>0</td>\n",
       "      <td>0</td>\n",
       "    </tr>\n",
       "    <tr>\n",
       "      <th>2</th>\n",
       "      <td>2</td>\n",
       "      <td>10+</td>\n",
       "    </tr>\n",
       "    <tr>\n",
       "      <th>3</th>\n",
       "      <td>0</td>\n",
       "      <td>0</td>\n",
       "    </tr>\n",
       "    <tr>\n",
       "      <th>4</th>\n",
       "      <td>0</td>\n",
       "      <td>0</td>\n",
       "    </tr>\n",
       "  </tbody>\n",
       "</table>\n",
       "</div>"
      ],
      "text/plain": [
       "   SALA_DE_RECURSO_D_ord SALA_DE_RECURSO_D\n",
       "0                      0                 0\n",
       "1                      0                 0\n",
       "2                      2               10+\n",
       "3                      0                 0\n",
       "4                      0                 0"
      ]
     },
     "execution_count": 144,
     "metadata": {},
     "output_type": "execute_result"
    }
   ],
   "source": [
    "# criando um dicionário para categorizar a variável segundo sua ordenação\n",
    "map_recurso = dict(zip(cat_SALA_DE_RECURSO_D, num_recurso))\n",
    "print(\"\\nDicionário:\")\n",
    "print(map_recurso)\n",
    "# a partir do dicionário criar um mapa entre os valores existentes e os novos valores numéricos\n",
    "df['SALA_DE_RECURSO_D_ord'] = df['SALA_DE_RECURSO_D'].map(map_recurso)\n",
    "df[['SALA_DE_RECURSO_D_ord', 'SALA_DE_RECURSO_D']].head()"
   ]
  },
  {
   "cell_type": "code",
   "execution_count": 145,
   "metadata": {},
   "outputs": [
    {
     "data": {
      "text/plain": [
       "SUL 3                   110\n",
       "RIBEIRAO PRETO          110\n",
       "NORTE 1                 105\n",
       "MAUA                    104\n",
       "CAMPINAS OESTE           99\n",
       "                       ... \n",
       "BIRIGUI                  24\n",
       "ITAPEVA                  21\n",
       "SAO JOAQUIM DA BARRA     20\n",
       "PENAPOLIS                18\n",
       "PIRAJU                   15\n",
       "Name: DE, Length: 91, dtype: int64"
      ]
     },
     "execution_count": 145,
     "metadata": {},
     "output_type": "execute_result"
    }
   ],
   "source": [
    "df['DE'].value_counts()"
   ]
  },
  {
   "cell_type": "code",
   "execution_count": 148,
   "metadata": {},
   "outputs": [
    {
     "data": {
      "text/html": [
       "<div>\n",
       "<style scoped>\n",
       "    .dataframe tbody tr th:only-of-type {\n",
       "        vertical-align: middle;\n",
       "    }\n",
       "\n",
       "    .dataframe tbody tr th {\n",
       "        vertical-align: top;\n",
       "    }\n",
       "\n",
       "    .dataframe thead th {\n",
       "        text-align: right;\n",
       "    }\n",
       "</style>\n",
       "<table border=\"1\" class=\"dataframe\">\n",
       "  <thead>\n",
       "    <tr style=\"text-align: right;\">\n",
       "      <th></th>\n",
       "      <th>DE_cod</th>\n",
       "      <th>DE</th>\n",
       "    </tr>\n",
       "  </thead>\n",
       "  <tbody>\n",
       "    <tr>\n",
       "      <th>4864</th>\n",
       "      <td>2</td>\n",
       "      <td>ANDRADINA</td>\n",
       "    </tr>\n",
       "    <tr>\n",
       "      <th>1685</th>\n",
       "      <td>50</td>\n",
       "      <td>MAUA</td>\n",
       "    </tr>\n",
       "    <tr>\n",
       "      <th>1415</th>\n",
       "      <td>53</td>\n",
       "      <td>MOGI DAS CRUZES</td>\n",
       "    </tr>\n",
       "    <tr>\n",
       "      <th>2442</th>\n",
       "      <td>26</td>\n",
       "      <td>GUARATINGUETA</td>\n",
       "    </tr>\n",
       "    <tr>\n",
       "      <th>5359</th>\n",
       "      <td>65</td>\n",
       "      <td>REGISTRO</td>\n",
       "    </tr>\n",
       "  </tbody>\n",
       "</table>\n",
       "</div>"
      ],
      "text/plain": [
       "      DE_cod               DE\n",
       "4864       2        ANDRADINA\n",
       "1685      50             MAUA\n",
       "1415      53  MOGI DAS CRUZES\n",
       "2442      26    GUARATINGUETA\n",
       "5359      65         REGISTRO"
      ]
     },
     "execution_count": 148,
     "metadata": {},
     "output_type": "execute_result"
    }
   ],
   "source": [
    "# codificando 'DE' com números inteiros sequenciais, iniciados por 0 para codificar a variável em ordem alfabética\n",
    "# Nan = -1\n",
    "df['DE_cod'] = df['DE'].astype(\"category\").cat.codes\n",
    "df[['DE_cod', 'DE']].sample(5)"
   ]
  },
  {
   "cell_type": "code",
   "execution_count": 149,
   "metadata": {},
   "outputs": [
    {
     "name": "stdout",
     "output_type": "stream",
     "text": [
      "0    3636\n",
      "2    1317\n",
      "1     413\n",
      "Name: SALA_DE_RECURSO_D_ord, dtype: int64\n",
      "82    110\n",
      "66    110\n",
      "55    105\n",
      "50    104\n",
      "15     99\n",
      "     ... \n",
      "10     24\n",
      "31     21\n",
      "73     20\n",
      "59     18\n",
      "62     15\n",
      "Name: DE_cod, Length: 91, dtype: int64\n"
     ]
    }
   ],
   "source": [
    "# códigos numéricos com maior contagem\n",
    "print(df['SALA_DE_RECURSO_D_ord'].value_counts())\n",
    "print(df['DE_cod'].value_counts())"
   ]
  },
  {
   "cell_type": "code",
   "execution_count": null,
   "metadata": {},
   "outputs": [],
   "source": []
  }
 ],
 "metadata": {
  "kernelspec": {
   "display_name": "Python 3",
   "language": "python",
   "name": "python3"
  },
  "language_info": {
   "codemirror_mode": {
    "name": "ipython",
    "version": 3
   },
   "file_extension": ".py",
   "mimetype": "text/x-python",
   "name": "python",
   "nbconvert_exporter": "python",
   "pygments_lexer": "ipython3",
   "version": "3.8.10"
  }
 },
 "nbformat": 4,
 "nbformat_minor": 4
}
