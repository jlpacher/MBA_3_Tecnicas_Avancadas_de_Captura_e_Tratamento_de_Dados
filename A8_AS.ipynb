{
 "cells": [
  {
   "cell_type": "markdown",
   "metadata": {},
   "source": [
    "# <font color=\"blue\"> MBA em Ciência de Dados</font>\n",
    "# <font color=\"blue\">Técnicas Avançadas para Captura e Tratamento de Dados</font>\n",
    "\n",
    "## <font color=\"blue\"> Web Scraping </font>\n",
    "\n",
    "## <font color=\"blue\">Avaliação </font> \n",
    "\n",
    "**Material Produzido por Luis Gustavo Nonato**<br>\n",
    "**Cemeai - ICMC/USP São Carlos**\n",
    "\n",
    "---"
   ]
  },
  {
   "cell_type": "code",
   "execution_count": 1,
   "metadata": {
    "execution": {
     "iopub.execute_input": "2021-06-06T17:22:29.963905Z",
     "iopub.status.busy": "2021-06-06T17:22:29.963642Z",
     "iopub.status.idle": "2021-06-06T17:22:30.065461Z",
     "shell.execute_reply": "2021-06-06T17:22:30.064932Z",
     "shell.execute_reply.started": "2021-06-06T17:22:29.963843Z"
    }
   },
   "outputs": [],
   "source": [
    "import requests as rq\n",
    "from bs4 import BeautifulSoup"
   ]
  },
  {
   "cell_type": "markdown",
   "metadata": {},
   "source": [
    "Considere a página de cultura e extensão do ICMC: \n",
    "\n",
    "[https://www.icmc.usp.br/cultura-e-extensao](https://www.icmc.usp.br/cultura-e-extensao)"
   ]
  },
  {
   "cell_type": "markdown",
   "metadata": {},
   "source": [
    "### Exercício 1)\n",
    "Faça uma requisição à página de Cultura e Extensão a fim de verificar o tipo de conteúdo. O conteúdo é do tipo:\n",
    "\n",
    "a) Tipo de Conteúdo: text/json<br>\n",
    "b) Tipo de Conteúdo: text/plain<br>\n",
    "c) Tipo de Conteúdo: text/html<br>\n",
    "d) Tipo de Conteúdo: text/plain"
   ]
  },
  {
   "cell_type": "code",
   "execution_count": 2,
   "metadata": {
    "execution": {
     "iopub.execute_input": "2021-06-06T17:22:30.066573Z",
     "iopub.status.busy": "2021-06-06T17:22:30.066375Z",
     "iopub.status.idle": "2021-06-06T17:22:30.218670Z",
     "shell.execute_reply": "2021-06-06T17:22:30.217960Z",
     "shell.execute_reply.started": "2021-06-06T17:22:30.066552Z"
    },
    "tags": []
   },
   "outputs": [
    {
     "name": "stdout",
     "output_type": "stream",
     "text": [
      "text/html; charset=utf-8\n"
     ]
    }
   ],
   "source": [
    "HtmlReq = rq.get('https://www.icmc.usp.br/cultura-e-extensao')\n",
    "print(HtmlReq.headers['Content-Type'])"
   ]
  },
  {
   "cell_type": "markdown",
   "metadata": {},
   "source": [
    "### Resposta: Tipo de Conteúdo: text/html"
   ]
  },
  {
   "cell_type": "markdown",
   "metadata": {},
   "source": [
    "### Exercício 2)\n",
    "Faça uma requisição à página de Cultura e Extensão de modo a obter uma lista de todas as atividades descritas na página (são nove atividades) e o link para a página de cada uma das atividades. Armazene o resultado em um dicionário onde a chave é o título da atividade e o valor o link para a página correspondente.\n",
    "\n",
    "Quantos caracteres possui o link mais longo armazenado no dicionário?\n",
    "\n",
    "a) 40<br>\n",
    "b) 42<br>\n",
    "c) 45<br>\n",
    "d) 49\n",
    "\n",
    "**Dica**: As atividades estão marcadas no HTML por: \n",
    "```html\n",
    "div class=\"col-xs-12 col-sm-4 col-lg-3 quadro\"\n",
    "```"
   ]
  },
  {
   "cell_type": "code",
   "execution_count": 3,
   "metadata": {
    "execution": {
     "iopub.execute_input": "2021-06-06T17:22:30.220111Z",
     "iopub.status.busy": "2021-06-06T17:22:30.219915Z",
     "iopub.status.idle": "2021-06-06T17:22:30.239443Z",
     "shell.execute_reply": "2021-06-06T17:22:30.238795Z",
     "shell.execute_reply.started": "2021-06-06T17:22:30.220088Z"
    },
    "tags": []
   },
   "outputs": [
    {
     "name": "stdout",
     "output_type": "stream",
     "text": [
      "Total de DIVs: 9\n",
      "Tamanho Maximo de \"href\": 49 \n"
     ]
    }
   ],
   "source": [
    "HtmlText = HtmlReq.text\n",
    "HtmlSoup = BeautifulSoup(HtmlText, 'html.parser')\n",
    "AllDiv = HtmlSoup.find_all('div',{'class':\"col-xs-12 col-sm-4 col-lg-3 quadro\"})\n",
    "print('Total de DIVs: %d' % len(AllDiv))\n",
    "\n",
    "HrefLen = []\n",
    "for Div in AllDiv:\n",
    "    for Href in Div.find_all('a'):\n",
    "        if not Href.img:\n",
    "            HrefLen.append(len(Href['href']))\n",
    "\n",
    "print('Tamanho Maximo de \"href\": %d ' % max(HrefLen))"
   ]
  },
  {
   "cell_type": "markdown",
   "metadata": {},
   "source": [
    "### Resposta: 49"
   ]
  },
  {
   "cell_type": "markdown",
   "metadata": {},
   "source": [
    "### Exercício 3)\n",
    "Na página principal das ativadades de Cultura e Extensão, cada atividade é ilustrada por uma imagem. Recupere o nome dos arquivos onde as imagens estão armazenadas. Quantas das imagens estão no formato .jpg?\n",
    "\n",
    "a) 6<br>\n",
    "b) 8<br>\n",
    "c) 9<br>\n",
    "d) 1\n",
    "\n",
    "**Dica**: As imagens também estão marcadas no HTML por: \n",
    "```html\n",
    "div class=\"col-xs-12 col-sm-4 col-lg-3 quadro\"\n",
    "```"
   ]
  },
  {
   "cell_type": "code",
   "execution_count": 4,
   "metadata": {
    "execution": {
     "iopub.execute_input": "2021-06-06T17:22:30.240771Z",
     "iopub.status.busy": "2021-06-06T17:22:30.240538Z",
     "iopub.status.idle": "2021-06-06T17:22:30.245657Z",
     "shell.execute_reply": "2021-06-06T17:22:30.244954Z",
     "shell.execute_reply.started": "2021-06-06T17:22:30.240742Z"
    },
    "tags": []
   },
   "outputs": [
    {
     "name": "stdout",
     "output_type": "stream",
     "text": [
      "Imagens \".jpg\": 8\n"
     ]
    }
   ],
   "source": [
    "JpgImg = 0\n",
    "for Div in AllDiv:\n",
    "    for Img in Div.find_all('img'):\n",
    "        ImgNome = Img['src']\n",
    "        if (ImgNome[-4:].lower() == '.jpg'):\n",
    "            JpgImg += 1\n",
    "\n",
    "print('Imagens \".jpg\": %d' % JpgImg)"
   ]
  },
  {
   "cell_type": "markdown",
   "metadata": {},
   "source": [
    "### Resposta: 8"
   ]
  },
  {
   "cell_type": "markdown",
   "metadata": {},
   "source": [
    "### Exercício 4) \n",
    "Dentre as páginas das atividades de cultura e extensão, qual a que possui o maior número de links para outras páginas? Você deve **desconsiderar** links da forma '#' e '/'.\n",
    "\n",
    "a) Página do Museu da computação<br>\n",
    "b) Página dos Grupos de extensão<br>\n",
    "c) Página de Eventos<br>\n",
    "d) Página de Projetos e programas\n",
    "\n",
    "**Dica**: Faça uma requisição para cada uma das páginas cujos links foram armazenados no exercício; 2) concatene a URL \"https://www.icmc.usp.br/\" com esses links; e 3) encontre todos os marcadores 'a' nestas páginas. Para cada marcador 'a', obtenha o conteúdo dos 'href', verificando se tal conteúdo é diferente de '/' e '#'."
   ]
  },
  {
   "cell_type": "code",
   "execution_count": 5,
   "metadata": {
    "execution": {
     "iopub.execute_input": "2021-06-06T17:22:30.246873Z",
     "iopub.status.busy": "2021-06-06T17:22:30.246648Z",
     "iopub.status.idle": "2021-06-06T17:22:31.795834Z",
     "shell.execute_reply": "2021-06-06T17:22:31.795262Z",
     "shell.execute_reply.started": "2021-06-06T17:22:30.246845Z"
    },
    "tags": []
   },
   "outputs": [
    {
     "data": {
      "text/plain": [
       "{'https://www.icmc.usp.br/cultura-e-extensao/cursos-de-extensao': 80,\n",
       " 'https://www.icmc.usp.br/eventos': 72,\n",
       " 'https://www.icmc.usp.br/cultura-e-extensao/exposicoes': 96,\n",
       " 'https://www.icmc.usp.br/cultura-e-extensao/grupos-de-extensao': 102,\n",
       " 'https://www.icmc.usp.br/cultura-e-extensao/museu': 57,\n",
       " 'https://www.icmc.usp.br/cultura-e-extensao/museu-da-fauna-e-flora': 75,\n",
       " 'https://www.icmc.usp.br/cultura-e-extensao/projetos-e-programas': 69,\n",
       " 'https://www.icmc.usp.br/cultura-e-extensao/transferencia-de-conhecimento': 71,\n",
       " 'https://www.icmc.usp.br/cultura-e-extensao/coral': 64}"
      ]
     },
     "execution_count": 5,
     "metadata": {},
     "output_type": "execute_result"
    }
   ],
   "source": [
    "AllLinks = []\n",
    "for Div in AllDiv:\n",
    "    for Href in Div.find_all('a'):\n",
    "        if not Href.img:\n",
    "            AllLinks.append('https://www.icmc.usp.br' + Href['href'])\n",
    "\n",
    "DictSub = {}\n",
    "for Link in AllLinks:\n",
    "    AllLinksSub = []\n",
    "    HtmlReqSub = rq.get(Link)\n",
    "    HtmlSoupSub = BeautifulSoup(HtmlReqSub.text, 'html.parser')\n",
    "    AllHrefSub = HtmlSoupSub.find_all('a')\n",
    "    for HrefSub in AllHrefSub:\n",
    "        LinkSub = HrefSub['href']\n",
    "        if LinkSub not in ['/', '#']:\n",
    "            AllLinksSub.append(LinkSub)\n",
    "    DictSub[Link] = len(AllLinksSub)\n",
    "\n",
    "DictSub"
   ]
  },
  {
   "cell_type": "markdown",
   "metadata": {},
   "source": [
    "### Resposta: Página dos Grupos de extensão"
   ]
  },
  {
   "cell_type": "markdown",
   "metadata": {},
   "source": [
    "### Exercício 5)\n",
    "Dentre as atividades de cultura e extensão, existem as _Exposições_, as quais estão descritas na página [https://www.icmc.usp.br/cultura-e-extensao/exposicoes](https://www.icmc.usp.br/cultura-e-extensao/exposicoes). Construa uma lista com os links de todas as exposições listadas na página. Quantos caracteres possui o **menor** link da lista?\n",
    "\n",
    "a) 63<br>\n",
    "b) 82<br>\n",
    "c) 97<br>\n",
    "d) 100\n",
    "\n",
    "**Dica**: Busque por todos os 'href' dentro do marcador \n",
    "```html\n",
    "<div  class=\"cck-line-body\">\n",
    "```"
   ]
  },
  {
   "cell_type": "code",
   "execution_count": 6,
   "metadata": {
    "execution": {
     "iopub.execute_input": "2021-06-06T17:22:31.796781Z",
     "iopub.status.busy": "2021-06-06T17:22:31.796614Z",
     "iopub.status.idle": "2021-06-06T17:22:31.957094Z",
     "shell.execute_reply": "2021-06-06T17:22:31.956472Z",
     "shell.execute_reply.started": "2021-06-06T17:22:31.796761Z"
    },
    "tags": []
   },
   "outputs": [
    {
     "name": "stdout",
     "output_type": "stream",
     "text": [
      "Tamanho Minimo de \"href\": 63 \n"
     ]
    }
   ],
   "source": [
    "HtmlReqExp = rq.get('https://www.icmc.usp.br/cultura-e-extensao/exposicoes')\n",
    "HtmlSoupExp = BeautifulSoup(HtmlReqExp.text, 'html.parser')\n",
    "AllDivExp = HtmlSoupExp.find_all('div',{'class':\"cck-line-body\"})\n",
    "\n",
    "HrefLink = []\n",
    "for Div in AllDivExp:\n",
    "    for Href in Div.find_all('a'):\n",
    "        HrefLink.append(Href['href'])\n",
    "\n",
    "HrefLinkLen = [len(Item) for Item in HrefLink]\n",
    "print('Tamanho Minimo de \"href\": %d ' % min(HrefLinkLen))"
   ]
  },
  {
   "cell_type": "markdown",
   "metadata": {},
   "source": [
    "### Resposta: 63"
   ]
  }
 ],
 "metadata": {
  "kernelspec": {
   "display_name": "Python 3",
   "language": "python",
   "name": "python3"
  },
  "language_info": {
   "codemirror_mode": {
    "name": "ipython",
    "version": 3
   },
   "file_extension": ".py",
   "mimetype": "text/x-python",
   "name": "python",
   "nbconvert_exporter": "python",
   "pygments_lexer": "ipython3",
   "version": "3.8.10"
  }
 },
 "nbformat": 4,
 "nbformat_minor": 4
}
