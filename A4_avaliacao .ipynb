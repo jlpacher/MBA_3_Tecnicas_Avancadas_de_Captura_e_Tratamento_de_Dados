{
 "cells": [
  {
   "cell_type": "markdown",
   "metadata": {},
   "source": [
    "# <span style=\"color:blue\"> MBA em Ciência de Dados</span>\n",
    "# <span style=\"color:blue\">Técnicas Avançadas para Captura e Tratamento de Dados</span>\n",
    "\n",
    "## <span style=\"color:blue\">Análise de Componentes Principais -  Avaliação</span>\n",
    "**Material Produzido por Luis Gustavo Nonato**<br>\n",
    "**Cemeai - ICMC/USP São Carlos**\n",
    "---"
   ]
  },
  {
   "cell_type": "markdown",
   "metadata": {},
   "source": [
    "Os exercícios abaixo farão uso do conjunto de dados <font style=\"font-family: monaco\">blobs2.csv</font> disponível no _moodle_."
   ]
  },
  {
   "cell_type": "code",
   "execution_count": 36,
   "metadata": {},
   "outputs": [],
   "source": [
    "import numpy as np\n",
    "import pandas as pd\n",
    "import matplotlib.pyplot as plt"
   ]
  },
  {
   "cell_type": "markdown",
   "metadata": {},
   "source": [
    "### Exercício 1)\n",
    "Calcule as direções principais dos dados contidos no arquivo <font style=\"font-family: monaco\">blobs2.csv</font>. Quais são os valores das duas maiores variâncias?\n",
    "\n",
    "a) 338.02 e 271.17<br>\n",
    "<font color='red'>b) 1162.75 e 993.63<br></font>\n",
    "c) 271.17 e 160.90 <br>\n",
    "d) 1074.60 e 338.02"
   ]
  },
  {
   "cell_type": "code",
   "execution_count": 37,
   "metadata": {},
   "outputs": [
    {
     "name": "stdout",
     "output_type": "stream",
     "text": [
      "(600, 25)\n"
     ]
    }
   ],
   "source": [
    "# Instanciando X como um numpy array\n",
    "X = pd.read_csv('blobs2.csv').values\n",
    "print(X.shape)"
   ]
  },
  {
   "cell_type": "code",
   "execution_count": 38,
   "metadata": {},
   "outputs": [
    {
     "data": {
      "text/plain": [
       "array([[ -9.5878279 ,  -4.64097383,  -7.23887567, ..., -11.30567767,\n",
       "          6.45673206,  -9.10383613],\n",
       "       [  4.4301998 ,  -7.40895999,   6.54222552, ...,  -6.95636658,\n",
       "         -4.079177  ,  -3.33252015],\n",
       "       [  1.6874882 ,  -4.74731262,   7.71443412, ...,  -7.19447141,\n",
       "         -3.64190343,  -4.37896508],\n",
       "       ...,\n",
       "       [  3.47720972,  -5.97931622,   8.33864554, ...,  -7.52327915,\n",
       "         -3.84051014,  -2.02768834],\n",
       "       [  2.01035239,  -8.5735666 ,   9.0428501 , ...,  -6.93278346,\n",
       "         -3.79939492,  -4.14768822],\n",
       "       [  1.39710026,  -8.46053798,   6.84706245, ...,  -8.17332905,\n",
       "         -4.66702902,  -4.29965094]])"
      ]
     },
     "execution_count": 38,
     "metadata": {},
     "output_type": "execute_result"
    }
   ],
   "source": [
    "X"
   ]
  },
  {
   "cell_type": "code",
   "execution_count": 39,
   "metadata": {},
   "outputs": [
    {
     "name": "stdout",
     "output_type": "stream",
     "text": [
      "\n",
      "Direção com maior variancia\n",
      "\n",
      "[[ 2.00601241e-02  2.16669637e-02 -4.34705477e-03  4.34575960e-02\n",
      "   2.89909623e-02  3.29963574e-01 -1.21438054e-03  6.76290472e-02\n",
      "   3.76200072e-02 -4.71462497e-03  6.13705831e-02  3.47264046e-02\n",
      "   1.09838315e-02  2.33948283e-01 -2.31846516e-02 -2.26311174e-02\n",
      "  -2.83629027e-01  8.54848222e-01 -2.43608277e-02  7.56648150e-02\n",
      "   1.82895131e-02  1.79357086e-02 -3.23709703e-02 -4.82246541e-04\n",
      "  -3.71933168e-02]]\n"
     ]
    }
   ],
   "source": [
    "from sklearn.decomposition import PCA\n",
    "pca_obj=PCA(svd_solver='full')\n",
    "X_transformed = pca_obj.fit(X)\n",
    "\n",
    "# o atributo \"components_\" é um array onde as direções principais \n",
    "# estão armazenadas nas linhas, sendo a componente principal de maior \n",
    "# variância armazenada na linha 0, componente principal com a \n",
    "# segunda maior variância na linha 1 e assim por diante\n",
    "print('\\nDireção com maior variancia\\n')\n",
    "print(X_transformed.components_[0:1])"
   ]
  },
  {
   "cell_type": "code",
   "execution_count": 40,
   "metadata": {},
   "outputs": [
    {
     "name": "stdout",
     "output_type": "stream",
     "text": [
      "[1.16275797e+03 9.93633235e+02 9.58550832e+02 8.62611653e+02\n",
      " 7.61975871e+02 2.31658739e+02 1.30336748e+02 1.27268677e+02\n",
      " 1.26850842e+00 1.22231302e+00 1.20210845e+00 1.10917185e+00\n",
      " 1.08936336e+00 1.06001534e+00 1.00779968e+00 9.78347600e-01\n",
      " 9.66668811e-01 9.27783735e-01 8.84990473e-01 8.69905358e-01\n",
      " 8.42314426e-01 7.89102415e-01 7.67901964e-01 7.17463589e-01\n",
      " 6.88735223e-01]\n"
     ]
    }
   ],
   "source": [
    "# o atributo \"explained_variance_\" é um array com a variância explicada por cada componente selecionada (novas coordenadas)\n",
    "# sendo a componente maior variância armazenada no índice 0, a componente com a segunda maior variância no índice 1\n",
    "# e assim por diante\n",
    "print(pca_obj.explained_variance_)"
   ]
  },
  {
   "cell_type": "code",
   "execution_count": 41,
   "metadata": {},
   "outputs": [
    {
     "data": {
      "text/plain": [
       "array([1162.76,  993.63])"
      ]
     },
     "execution_count": 41,
     "metadata": {},
     "output_type": "execute_result"
    }
   ],
   "source": [
    "pca_obj.explained_variance_[:2].round(2)"
   ]
  },
  {
   "cell_type": "markdown",
   "metadata": {},
   "source": [
    "### Exercício 2)\n",
    "Qual o número mínimo de direções principais necessárias para representar $95\\%$ da variância contida nos dados?\n",
    "\n",
    "a) 5<br>\n",
    "b) 6<br>\n",
    "<font color='red'>c) 7<br></font>\n",
    "d) 8"
   ]
  },
  {
   "cell_type": "code",
   "execution_count": 42,
   "metadata": {},
   "outputs": [
    {
     "name": "stdout",
     "output_type": "stream",
     "text": [
      "Soma obtida: 0.9726108540965198 \n",
      "Número de direções principais: 7\n"
     ]
    }
   ],
   "source": [
    "# o atributo \"explained_variance_ratio_\" é um array com a percentagem da explicada por cada componente selecionada\n",
    "# (novas coordenadas), sendo a componente maior variância armazenada no índice 0, \n",
    "# a componente com a segunda maior variância no índice 1 e assim por diante\n",
    "\n",
    "variance = pca_obj.explained_variance_ratio_\n",
    "threshold = 0.95\n",
    "soma = 0\n",
    "num_componentes = 0\n",
    "for i in range(variance.shape[0]):\n",
    "    soma += variance[i]\n",
    "    if soma >= threshold:\n",
    "        num_componentes = i+1\n",
    "        break\n",
    "        \n",
    "print('Soma obtida:', soma, '\\nNúmero de direções principais:', num_componentes)\n"
   ]
  },
  {
   "cell_type": "markdown",
   "metadata": {},
   "source": [
    "### Exercício 3)\n",
    "Existem _outliers_ nos dados originais. Utilize z-score com um threshold de 2.8 para identificar os outliers e removê-los dos dados. Quantos outliers foram identificados?\n",
    "\n",
    "a) 3<br>\n",
    "b) 4<br>\n",
    "<font color='red'>c) 5<br></font>\n",
    "d) 6"
   ]
  },
  {
   "cell_type": "code",
   "execution_count": 43,
   "metadata": {},
   "outputs": [
    {
     "name": "stdout",
     "output_type": "stream",
     "text": [
      "Índice das linhas  e valores dos elementos \"outliers\":\n",
      " [[116  13]\n",
      " [240  16]\n",
      " [286   5]\n",
      " [298  17]\n",
      " [398   6]]\n",
      "Tamanho original dos dados: (600, 25)\n",
      "Tamanho dos dados após remoção dos outliers: (595, 25)\n",
      "Quantidade de exemplos removidos: 5\n"
     ]
    }
   ],
   "source": [
    "# utilizando z-score para encontrar outliers\n",
    "# o pacote scipy possui um método para encontrar o z-score\n",
    "\n",
    "from scipy.stats import zscore\n",
    "\n",
    "# calculando z-scores\n",
    "Xzscore = zscore(X,axis=0)\n",
    "\n",
    "# encontrando outliers\n",
    "outliers = np.abs(Xzscore) > 2.8 # 2.8 é o threshold utilizado para \n",
    "                                 # identificar um valor como outlier\n",
    "    \n",
    "outliers_id = np.argwhere(outliers == True)\n",
    "print('Índice das linhas  e valores dos elementos \"outliers\":\\n',outliers_id)\n",
    "\n",
    "# removendo outliers\n",
    "df = pd.DataFrame(data=X)\n",
    "shape_original = df.shape\n",
    "print(\"Tamanho original dos dados:\", shape_original)\n",
    "df = df.drop(outliers_id[:,0],axis=0)\n",
    "shape_no_outliers = df.shape\n",
    "print(\"Tamanho dos dados após remoção dos outliers:\", shape_no_outliers)\n",
    "print(\"Quantidade de exemplos removidos:\", shape_original[0]-shape_no_outliers[0])\n",
    "\n",
    "X_no_outliers = df.values"
   ]
  },
  {
   "cell_type": "markdown",
   "metadata": {},
   "source": [
    "### Exercício 4)\n",
    "Qual a variância representada pelas duas primeiras componentes principais após a remoção dos outliers?\n",
    "\n",
    "a) aproximadamente 90% <br>\n",
    "b) aproximadamente  97% <br>\n",
    "c) aproximadamente 80% <br>\n",
    "<font color='red'>d) aproximadamente 75% </font>"
   ]
  },
  {
   "cell_type": "code",
   "execution_count": 44,
   "metadata": {},
   "outputs": [
    {
     "data": {
      "text/plain": [
       "0.7526760714065048"
      ]
     },
     "execution_count": 44,
     "metadata": {},
     "output_type": "execute_result"
    }
   ],
   "source": [
    "X_no_outliers = df.values  # array numpy\n",
    "pca_obj2=PCA(svd_solver='full')\n",
    "X_no_outliers_transformed = pca_obj2.fit(X_no_outliers)\n",
    "pca_obj2.explained_variance_ratio_[0:2].sum()"
   ]
  },
  {
   "cell_type": "code",
   "execution_count": 45,
   "metadata": {},
   "outputs": [
    {
     "data": {
      "text/plain": [
       "Text(0.5, 1.0, 'Sem Outliers')"
      ]
     },
     "execution_count": 45,
     "metadata": {},
     "output_type": "execute_result"
    },
    {
     "data": {
      "image/png": "[encoded data removed]",
      "text/plain": [
       "<Figure size 864x432 with 2 Axes>"
      ]
     },
     "metadata": {
      "needs_background": "light"
     },
     "output_type": "display_data"
    }
   ],
   "source": [
    "# Comparando visualmente o decaimento da variância\n",
    "plt.rcParams['figure.figsize'] = [12, 6]\n",
    "f, (ax1, ax2)  = plt.subplots(1,2)\n",
    "\n",
    "ax1.plot(pca_obj.explained_variance_ratio_, '*')  # plota o decaimento das variâncias norms (explicadas) com outliers\n",
    "ax1.set_title('Com Outliers')\n",
    "ax2.plot(pca_obj2.explained_variance_ratio_, '*') # plota o decaimento das variâncias norms (explicadas) sem outliers\n",
    "ax2.set_title('Sem Outliers')"
   ]
  },
  {
   "cell_type": "markdown",
   "metadata": {},
   "source": [
    "### Exercício 5)\n",
    "Projete os dados sem outliers nas duas primeiras direções principais. Quantos clusters você consegue visualizar na projeção?\n",
    "\n",
    "a) 6<br>\n",
    "b) 5<br>\n",
    "<font color='red'>c) 4<br></font>\n",
    "d) 3"
   ]
  },
  {
   "cell_type": "code",
   "execution_count": 46,
   "metadata": {},
   "outputs": [
    {
     "name": "stdout",
     "output_type": "stream",
     "text": [
      "(595, 2)\n"
     ]
    },
    {
     "data": {
      "text/plain": [
       "<matplotlib.collections.PathCollection at 0x11a2f671100>"
      ]
     },
     "execution_count": 46,
     "metadata": {},
     "output_type": "execute_result"
    },
    {
     "data": {
      "image/png": "[encoded data removed]",
      "text/plain": [
       "<Figure size 864x432 with 1 Axes>"
      ]
     },
     "metadata": {
      "needs_background": "light"
     },
     "output_type": "display_data"
    }
   ],
   "source": [
    "###########\n",
    "# projecting data in 2D\n",
    "###########\n",
    "\n",
    "pca_proj2=PCA(n_components=2)\n",
    "X_no_outliers_2d=pca_proj2.fit_transform(X_no_outliers)\n",
    "print(X_no_outliers_2d.shape)\n",
    "\n",
    "plt.scatter(X_no_outliers_2d[:,0],X_no_outliers_2d[:,1])"
   ]
  },
  {
   "cell_type": "code",
   "execution_count": null,
   "metadata": {},
   "outputs": [],
   "source": []
  }
 ],
 "metadata": {
  "kernelspec": {
   "display_name": "Python 3",
   "language": "python",
   "name": "python3"
  },
  "language_info": {
   "codemirror_mode": {
    "name": "ipython",
    "version": 3
   },
   "file_extension": ".py",
   "mimetype": "text/x-python",
   "name": "python",
   "nbconvert_exporter": "python",
   "pygments_lexer": "ipython3",
   "version": "3.8.10"
  }
 },
 "nbformat": 4,
 "nbformat_minor": 2
}
